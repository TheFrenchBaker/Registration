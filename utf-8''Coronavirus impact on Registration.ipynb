{
  "cells": [
    {
      "metadata": {
        "trusted": true,
        "slideshow": {
          "slide_type": "skip"
        }
      },
      "cell_type": "code",
      "source": "import requests\nimport json\nimport pandas as pd\nimport plotly.graph_objects as go\nimport datetime\nimport dateutil.parser\n\n#if plotly doesn't work:\nfrom plotly.offline import download_plotlyjs, init_notebook_mode, iplot\ninit_notebook_mode(connected=True)\n\nprint('Notebook initialized.')",
      "execution_count": 1,
      "outputs": [
        {
          "output_type": "display_data",
          "data": {
            "text/html": "        <script type=\"text/javascript\">\n        window.PlotlyConfig = {MathJaxConfig: 'local'};\n        if (window.MathJax) {MathJax.Hub.Config({SVG: {font: \"STIX-Web\"}});}\n        if (typeof require !== 'undefined') {\n        require.undef(\"plotly\");\n        requirejs.config({\n            paths: {\n                'plotly': ['https://cdn.plot.ly/plotly-latest.min']\n            }\n        });\n        require(['plotly'], function(Plotly) {\n            window._Plotly = Plotly;\n        });\n        }\n        </script>\n        "
          },
          "metadata": {}
        },
        {
          "output_type": "stream",
          "text": "Notebook initialized.\n",
          "name": "stdout"
        }
      ]
    },
    {
      "metadata": {
        "trusted": true,
        "slideshow": {
          "slide_type": "skip"
        },
        "scrolled": true
      },
      "cell_type": "code",
      "source": "url = \"https://api.applicationinsights.io/v1/apps/b584432b-34cb-4369-82fd-026dbf13d49f/query\"\nstartDate = '2020-02-01'\nendDate = '2020-04-01'\ndateQuery = f\"| where timestamp > datetime('{startDate}') and timestamp < datetime('{endDate}')\"\nparams = {\n    \"query\":\n    f\"\"\"\nlet InteractionData = customEvents\n{dateQuery}\n| where client_Browser contains '' or '' == ''\n| where name == 'Register.Web.Interaction'\n| where 'false' == 'true'  or (customDimensions.userName != 'Win&*^!£$#&Tech'\nand customDimensions.userName !startswith 'rt_'\nand customDimensions.userName != 'ThisIsAReallyLonggggggggggggUsernameThisIsAReallyLonggggggggggggUsername'\nand customDimensions.userName != 'bw_valid_user'\nand customDimensions.userName != 'e'\nand (customDimensions.userName != '' or isnull(customDimensions.userName) == true) \nand customDimensions.userName != 'R')\n| extend territ = tostring(customDimensions.territory)\n| summarize timestamp_max = max(timestamp) by session_Id, name, territ;\nlet SubmitData = InteractionData\n| join kind= inner\n(\n    customEvents\n    {dateQuery}\n    | where name == 'Register.Web.SubmitForm'\n    | extend name = 'Submit'\n)\non session_Id\n| summarize timestamp_max1 = max(timestamp) by name1, session_Id, territ;\nlet ValidSubmitData = InteractionData\n| join kind= inner\n(\n    customEvents\n    {dateQuery}\n    | where name == 'Register.Web.SubmitFormValid' or  name == 'ServiceController.PostResult()'\n    | extend name = 'validSubmit'\n)\non session_Id\n| summarize timestamp_max1 = max(timestamp) by name1, session_Id, territ;\nlet SuccessData = InteractionData\n| join kind= inner\n(\n    customEvents\n    {dateQuery}\n    | where name == 'Register.Web.Successful' or  name == 'Register.Web.Server.Successful'\n    | extend name = 'successReg'\n)\non session_Id\n| summarize timestamp_max1 = max(timestamp) by name1, session_Id, territ;\nlet FailsData = ValidSubmitData\n| join kind= leftouter\n(\n    SuccessData\n)\non session_Id\n| where name11 ==''\n| extend name1 = 'Fails';\nInteractionData\n| extend name1 = name, timestamp_max1 = timestamp_max\n| project name1, session_Id, timestamp_max1, territ\n| union  SuccessData\n| union  ValidSubmitData\n| union  FailsData\n| extend _name = case(\nname1 == 'Register.Web.Interaction', 'Interact', \nname1 == 'validSubmit', 'ValidSub', \nname1 == 'successReg', 'SuccessReg',\nname1 == 'Fails', 'FailedReg',\n'error')\n| summarize count() by _name, territ\n| where territ != 'Unknown'\n| project territ, count_, _name\n| render timechart\n\"\"\"\n         }\n\n\nparams_withdates = {\n    \"query\":\n    f\"\"\"\nlet InteractionData = customEvents\n{dateQuery}\n| where client_Browser contains '' or '' == ''\n| where name == 'Register.Web.Interaction'\n| where 'false' == 'true'  or (customDimensions.userName != 'Win&*^!£$#&Tech'\nand customDimensions.userName !startswith 'rt_'\nand customDimensions.userName != 'ThisIsAReallyLonggggggggggggUsernameThisIsAReallyLonggggggggggggUsername'\nand customDimensions.userName != 'bw_valid_user'\nand customDimensions.userName != 'e'\nand (customDimensions.userName != '' or isnull(customDimensions.userName) == true) \nand customDimensions.userName != 'R')\n| extend territ = tostring(customDimensions.territory)\n| summarize timestamp_max = max(timestamp) by session_Id, name, territ;\nlet SubmitData = InteractionData\n| join kind= inner\n(\n    customEvents\n    {dateQuery}\n    | where name == 'Register.Web.SubmitForm'\n    | extend name = 'Submit'\n)\non session_Id\n| summarize timestamp_max1 = max(timestamp) by name1, session_Id, territ;\nlet ValidSubmitData = InteractionData\n| join kind= inner\n(\n    customEvents\n    {dateQuery}\n    | where name == 'Register.Web.SubmitFormValid' or  name == 'ServiceController.PostResult()'\n    | extend name = 'validSubmit'\n)\non session_Id\n| summarize timestamp_max1 = max(timestamp) by name1, session_Id, territ;\nlet SuccessData = InteractionData\n| join kind= inner\n(\n    customEvents\n    {dateQuery}\n    | where name == 'Register.Web.Successful' or  name == 'Register.Web.Server.Successful'\n    | extend name = 'successReg'\n)\non session_Id\n| summarize timestamp_max1 = max(timestamp) by name1, session_Id, territ;\nlet FailsData = ValidSubmitData\n| join kind= leftouter\n(\n    SuccessData\n)\non session_Id\n| where name11 ==''\n| extend name1 = 'Fails';\nInteractionData\n| extend name1 = name, timestamp_max1 = timestamp_max\n| project name1, session_Id, timestamp_max1, territ\n| union  SuccessData\n| union  ValidSubmitData\n| union  FailsData\n| extend _name = case(\nname1 == 'Register.Web.Interaction', 'Interact', \nname1 == 'validSubmit', 'ValidSub', \nname1 == 'successReg', 'SuccessReg',\nname1 == 'Fails', 'FailedReg',\n'error')\n| summarize count() by _name, territ, bin(timestamp_max1, 1d)\n| where territ != 'Unknown'\n| project territ, count_, _name, timestamp = timestamp_max1\n| render timechart\n    \"\"\"\n}\n\nheaders = {\"x-api-key\":\"bbw2l1nrwczgsg8lbq44ywisokg0tecqa2wfzc70\"}\n\nresp = requests.post(url=url, headers=headers, json=params, verify=True)\ndata = resp.json()\nrows = data[\"tables\"][0][\"rows\"]\n\ndf = pd.DataFrame(rows) \ndf.columns = ['territory', 'count', 'name']\ndf = df.sort_values(by=['count'], ascending=False)\ndf_inte = df.query('name == \"Interact\"')\ndf_vsub = df.query('name == \"ValidSub\"')\ndf_succ = df.query('name == \"SuccessReg\"')\ndf_fails = df.query('name == \"FailedReg\"')\n\nresp2 = requests.post(url=url, headers=headers, json=params_withdates, verify=True)\ndata2 = resp2.json()\n\nrows2 = data2[\"tables\"][0][\"rows\"]\ndf2 = pd.DataFrame(rows2)\ndf2.columns = ['territory', 'count', 'name', 'timestamp']\ndf2 = df2.sort_values(by=['timestamp'])\ndf2_succ = df2.query('name == \"SuccessReg\"')\n\n\nnames = ['Interact', 'ValidSub', 'SuccessReg', 'Fails']\ngoodnames = ['Interactions', 'Valid Submits', 'Successful Registrations', 'Failed Registrations']\ndfs = [df_inte, df_vsub, df_succ, df_fails]\ncolors = ['green', 'orange', 'blue', 'red']\n\ndf_countries = [\"GBR\", \"IRL\", \"ITA\", \"DEU\", \"ESP\"]\ndf_short = df[df['territory'].isin(df_countries)].sort_values(by=['territory'])\ndf2_short = df2[df2['territory'].isin(df_countries)].sort_values(by=['territory'])\ndf_short_succ = df_short.query('name == \"SuccessReg\"')\ndf2_short_succ = df2_short.query('name == \"SuccessReg\"')\ndf2_final = df2_short_succ.assign(event=\"\")\n\nprint(df_succ.head(5))\nprint(df2_succ.head(5))",
      "execution_count": 25,
      "outputs": [
        {
          "output_type": "stream",
          "text": "    territory  count        name\n165       GBR  57075  SuccessReg\n164       IND  50984  SuccessReg\n168       DEU  18831  SuccessReg\n163       MEX  17809  SuccessReg\n176       CAN  16797  SuccessReg\n     territory  count        name             timestamp\n7533       MLI      4  SuccessReg  2020-02-01T00:00:00Z\n8649       SLE      1  SuccessReg  2020-02-01T00:00:00Z\n8648       IDN      1  SuccessReg  2020-02-01T00:00:00Z\n8647       CZE      1  SuccessReg  2020-02-01T00:00:00Z\n8646       TGO      1  SuccessReg  2020-02-01T00:00:00Z\n",
          "name": "stdout"
        }
      ]
    },
    {
      "metadata": {
        "trusted": true
      },
      "cell_type": "code",
      "source": "def prepareGraph(df, countryName, color):\n    fig = go.Figure()\n    df_act = df.query('territory == \"' + countryName +'\"').sort_values(by=['timestamp'])\n    fig.add_trace(\n        go.Scatter(\n            name=countryName,\n            x = df_act['timestamp'],\n            y = df_act['count'],\n            mode=\"lines\",\n            text=df_act['event'],\n            textposition=\"top center\", \n            line_color=color\n        )\n    )\n    return fig\n\ndef CreateAnnot(array, x, y, text, ay):\n    di = dict(\n            x=x,\n            y=y,\n            xref=\"x\",\n            yref=\"y\",\n            text=text,\n            showarrow=True,\n            arrowhead=7,\n            ax=0,\n            ay=ay\n        )\n    array.append(di)\n    return array\n\ndef AddAnnot(fig, annotArray, country):\n    fig.update_layout(\n        xaxis_title=\"Time\",\n        yaxis_title=\"Count\",\n        title=country,\n        annotations=annotArray\n    )\n    return fig\n\nprint(\"Functions ready\")",
      "execution_count": 33,
      "outputs": [
        {
          "output_type": "stream",
          "text": "Functions ready\n",
          "name": "stdout"
        }
      ]
    },
    {
      "metadata": {
        "trusted": true,
        "scrolled": false
      },
      "cell_type": "code",
      "source": "figGBR = prepareGraph(df2_final, \"GBR\", \"blue\")\nannotArray = CreateAnnot([], \"2020-03-10T00:00:00Z\", 4795, \"Cheltenham festival\", -30)\nannotArray = CreateAnnot(annotArray, \"2020-03-20T00:00:00Z\", 376, \"School closures\", -40)\nannotArray = CreateAnnot(annotArray, \"2020-03-23T00:00:00Z\", 379, \"Stay at home announcement\", -100)\nfigGBR = AddAnnot(figGBR, annotArray, \"Daily registrations - UK\")\nfigGBR.show()\n\nfigDEU = prepareGraph(df2_final, \"DEU\", \"orange\")\nannotArray = CreateAnnot([], \"2020-03-13T00:00:00Z\", 218, \"School closures\", -150)\nannotArray = CreateAnnot(annotArray, \"2020-03-22T00:00:00Z\", 280, \"National Lockdown\", -150)\nfigDEU = AddAnnot(figDEU, annotArray, \"Daily registrations - Germany\")\nfigDEU.show()\n\nfigITA = prepareGraph(df2_final, \"ITA\", \"green\")\nannotArray = CreateAnnot([], \"2020-02-21T00:00:00Z\", 95, \"Lombardy Lockdown\", -150)\nannotArray = CreateAnnot(annotArray, \"2020-03-04T00:00:00Z\", 62, \"School closures\", -150)\nannotArray = CreateAnnot(annotArray, \"2020-03-08T00:00:00Z\", 100, \"Northern Italy Lockdown\", -150)\nannotArray = CreateAnnot(annotArray, \"2020-03-09T00:00:00Z\", 72, \"National Lockdown\", 30)\nfigITA = AddAnnot(figITA, annotArray, \"Daily registrations - Italy\")\nfigITA.show()\n\nfigESP = prepareGraph(df2_final, \"ESP\", \"red\")\nannotArray = CreateAnnot([], \"2020-03-12T00:00:00Z\", 94, \"School closures\", 30)\nannotArray = CreateAnnot(annotArray, \"2020-03-23T00:00:00Z\", 105, \"National Lockdown\", -150)\nfigESP = AddAnnot(figESP, annotArray, \"Daily registrations - Spain\")\nfigESP.show()\n\nfigIRL = prepareGraph(df2_final, \"IRL\", \"black\")\nannotArray = CreateAnnot([], \"2020-03-10T00:00:00Z\", 402, \"Cheltenham festival\", -140)\nannotArray = CreateAnnot(annotArray, \"2020-03-12T00:00:00Z\", 244, \"School closures\", -150)\nannotArray = CreateAnnot(annotArray, \"2020-03-27T00:00:00Z\", 25, \"National Lockdown\", -150)\nfigIRL = AddAnnot(figIRL, annotArray, \"Daily registrations - Ireland\")\nfigIRL.show()",
      "execution_count": 45,
      "outputs": [
        {
          "output_type": "display_data",
          "data": {
            "text/html": "<div>\n        \n        \n            <div id=\"3e4d4737-00e0-4f91-8832-01cbe5bd7564\" class=\"plotly-graph-div\" style=\"height:525px; width:100%;\"></div>\n            <script type=\"text/javascript\">\n                require([\"plotly\"], function(Plotly) {\n                    window.PLOTLYENV=window.PLOTLYENV || {};\n                    \n                if (document.getElementById(\"3e4d4737-00e0-4f91-8832-01cbe5bd7564\")) {\n                    Plotly.newPlot(\n                        '3e4d4737-00e0-4f91-8832-01cbe5bd7564',\n                        [{\"line\": {\"color\": \"blue\"}, \"mode\": \"lines\", \"name\": \"GBR\", \"text\": [\"\", \"\", \"\", \"\", \"\", \"\", \"\", \"\", \"\", \"\", \"\", \"\", \"\", \"\", \"\", \"\", \"\", \"\", \"\", \"\", \"\", \"\", \"\", \"\", \"\", \"\", \"\", \"\", \"\", \"\", \"\", \"\", \"\", \"\", \"\", \"\", \"\", \"\", \"\", \"\", \"\", \"\", \"\", \"\", \"\", \"\", \"\", \"\", \"\", \"\", \"\", \"\", \"\", \"\", \"\", \"\", \"\", \"\", \"\", \"\"], \"textposition\": \"top center\", \"type\": \"scatter\", \"x\": [\"2020-02-01T00:00:00Z\", \"2020-02-02T00:00:00Z\", \"2020-02-03T00:00:00Z\", \"2020-02-04T00:00:00Z\", \"2020-02-05T00:00:00Z\", \"2020-02-06T00:00:00Z\", \"2020-02-07T00:00:00Z\", \"2020-02-08T00:00:00Z\", \"2020-02-09T00:00:00Z\", \"2020-02-10T00:00:00Z\", \"2020-02-11T00:00:00Z\", \"2020-02-12T00:00:00Z\", \"2020-02-13T00:00:00Z\", \"2020-02-14T00:00:00Z\", \"2020-02-15T00:00:00Z\", \"2020-02-16T00:00:00Z\", \"2020-02-17T00:00:00Z\", \"2020-02-18T00:00:00Z\", \"2020-02-19T00:00:00Z\", \"2020-02-20T00:00:00Z\", \"2020-02-21T00:00:00Z\", \"2020-02-22T00:00:00Z\", \"2020-02-23T00:00:00Z\", \"2020-02-24T00:00:00Z\", \"2020-02-25T00:00:00Z\", \"2020-02-26T00:00:00Z\", \"2020-02-27T00:00:00Z\", \"2020-02-28T00:00:00Z\", \"2020-02-29T00:00:00Z\", \"2020-03-01T00:00:00Z\", \"2020-03-02T00:00:00Z\", \"2020-03-03T00:00:00Z\", \"2020-03-04T00:00:00Z\", \"2020-03-05T00:00:00Z\", \"2020-03-06T00:00:00Z\", \"2020-03-07T00:00:00Z\", \"2020-03-08T00:00:00Z\", \"2020-03-09T00:00:00Z\", \"2020-03-10T00:00:00Z\", \"2020-03-11T00:00:00Z\", \"2020-03-12T00:00:00Z\", \"2020-03-13T00:00:00Z\", \"2020-03-14T00:00:00Z\", \"2020-03-15T00:00:00Z\", \"2020-03-16T00:00:00Z\", \"2020-03-17T00:00:00Z\", \"2020-03-18T00:00:00Z\", \"2020-03-19T00:00:00Z\", \"2020-03-20T00:00:00Z\", \"2020-03-21T00:00:00Z\", \"2020-03-22T00:00:00Z\", \"2020-03-23T00:00:00Z\", \"2020-03-24T00:00:00Z\", \"2020-03-25T00:00:00Z\", \"2020-03-26T00:00:00Z\", \"2020-03-27T00:00:00Z\", \"2020-03-28T00:00:00Z\", \"2020-03-29T00:00:00Z\", \"2020-03-30T00:00:00Z\", \"2020-03-31T00:00:00Z\"], \"y\": [1406, 827, 451, 597, 527, 540, 878, 1037, 682, 464, 589, 781, 694, 1124, 1642, 725, 807, 762, 691, 631, 1237, 1782, 887, 717, 801, 891, 803, 1325, 931, 785, 653, 856, 809, 797, 1147, 1336, 1310, 2758, 4795, 3923, 2832, 2338, 633, 519, 373, 373, 283, 323, 376, 587, 386, 379, 408, 447, 339, 449, 451, 434, 331, 416]}],\n                        {\"annotations\": [{\"arrowhead\": 7, \"ax\": 0, \"ay\": -30, \"showarrow\": true, \"text\": \"Cheltenham festival\", \"x\": \"2020-03-10T00:00:00Z\", \"xref\": \"x\", \"y\": 4795, \"yref\": \"y\"}, {\"arrowhead\": 7, \"ax\": 0, \"ay\": -40, \"showarrow\": true, \"text\": \"School closures\", \"x\": \"2020-03-20T00:00:00Z\", \"xref\": \"x\", \"y\": 376, \"yref\": \"y\"}, {\"arrowhead\": 7, \"ax\": 0, \"ay\": -100, \"showarrow\": true, \"text\": \"Stay at home announcement\", \"x\": \"2020-03-23T00:00:00Z\", \"xref\": \"x\", \"y\": 379, \"yref\": \"y\"}], \"template\": {\"data\": {\"bar\": [{\"error_x\": {\"color\": \"#2a3f5f\"}, \"error_y\": {\"color\": \"#2a3f5f\"}, \"marker\": {\"line\": {\"color\": \"#E5ECF6\", \"width\": 0.5}}, \"type\": \"bar\"}], \"barpolar\": [{\"marker\": {\"line\": {\"color\": \"#E5ECF6\", \"width\": 0.5}}, \"type\": \"barpolar\"}], \"carpet\": [{\"aaxis\": {\"endlinecolor\": \"#2a3f5f\", \"gridcolor\": \"white\", \"linecolor\": \"white\", \"minorgridcolor\": \"white\", \"startlinecolor\": \"#2a3f5f\"}, \"baxis\": {\"endlinecolor\": \"#2a3f5f\", \"gridcolor\": \"white\", \"linecolor\": \"white\", \"minorgridcolor\": \"white\", \"startlinecolor\": \"#2a3f5f\"}, \"type\": \"carpet\"}], \"choropleth\": [{\"colorbar\": {\"outlinewidth\": 0, \"ticks\": \"\"}, \"type\": \"choropleth\"}], \"contour\": [{\"colorbar\": {\"outlinewidth\": 0, \"ticks\": \"\"}, \"colorscale\": [[0.0, \"#0d0887\"], [0.1111111111111111, \"#46039f\"], [0.2222222222222222, \"#7201a8\"], [0.3333333333333333, \"#9c179e\"], [0.4444444444444444, \"#bd3786\"], [0.5555555555555556, \"#d8576b\"], [0.6666666666666666, \"#ed7953\"], [0.7777777777777778, \"#fb9f3a\"], [0.8888888888888888, \"#fdca26\"], [1.0, \"#f0f921\"]], \"type\": \"contour\"}], \"contourcarpet\": [{\"colorbar\": {\"outlinewidth\": 0, \"ticks\": \"\"}, \"type\": \"contourcarpet\"}], \"heatmap\": [{\"colorbar\": {\"outlinewidth\": 0, \"ticks\": \"\"}, \"colorscale\": [[0.0, \"#0d0887\"], [0.1111111111111111, \"#46039f\"], [0.2222222222222222, \"#7201a8\"], [0.3333333333333333, \"#9c179e\"], [0.4444444444444444, \"#bd3786\"], [0.5555555555555556, \"#d8576b\"], [0.6666666666666666, \"#ed7953\"], [0.7777777777777778, \"#fb9f3a\"], [0.8888888888888888, \"#fdca26\"], [1.0, \"#f0f921\"]], \"type\": \"heatmap\"}], \"heatmapgl\": [{\"colorbar\": {\"outlinewidth\": 0, \"ticks\": \"\"}, \"colorscale\": [[0.0, \"#0d0887\"], [0.1111111111111111, \"#46039f\"], [0.2222222222222222, \"#7201a8\"], [0.3333333333333333, \"#9c179e\"], [0.4444444444444444, \"#bd3786\"], [0.5555555555555556, \"#d8576b\"], [0.6666666666666666, \"#ed7953\"], [0.7777777777777778, \"#fb9f3a\"], [0.8888888888888888, \"#fdca26\"], [1.0, \"#f0f921\"]], \"type\": \"heatmapgl\"}], \"histogram\": [{\"marker\": {\"colorbar\": {\"outlinewidth\": 0, \"ticks\": \"\"}}, \"type\": \"histogram\"}], \"histogram2d\": [{\"colorbar\": {\"outlinewidth\": 0, \"ticks\": \"\"}, \"colorscale\": [[0.0, \"#0d0887\"], [0.1111111111111111, \"#46039f\"], [0.2222222222222222, \"#7201a8\"], [0.3333333333333333, \"#9c179e\"], [0.4444444444444444, \"#bd3786\"], [0.5555555555555556, \"#d8576b\"], [0.6666666666666666, \"#ed7953\"], [0.7777777777777778, \"#fb9f3a\"], [0.8888888888888888, \"#fdca26\"], [1.0, \"#f0f921\"]], \"type\": \"histogram2d\"}], \"histogram2dcontour\": [{\"colorbar\": {\"outlinewidth\": 0, \"ticks\": \"\"}, \"colorscale\": [[0.0, \"#0d0887\"], [0.1111111111111111, \"#46039f\"], [0.2222222222222222, \"#7201a8\"], [0.3333333333333333, \"#9c179e\"], [0.4444444444444444, \"#bd3786\"], [0.5555555555555556, \"#d8576b\"], [0.6666666666666666, \"#ed7953\"], [0.7777777777777778, \"#fb9f3a\"], [0.8888888888888888, \"#fdca26\"], [1.0, \"#f0f921\"]], \"type\": \"histogram2dcontour\"}], \"mesh3d\": [{\"colorbar\": {\"outlinewidth\": 0, \"ticks\": \"\"}, \"type\": \"mesh3d\"}], \"parcoords\": [{\"line\": {\"colorbar\": {\"outlinewidth\": 0, \"ticks\": \"\"}}, \"type\": \"parcoords\"}], \"scatter\": [{\"marker\": {\"colorbar\": {\"outlinewidth\": 0, \"ticks\": \"\"}}, \"type\": \"scatter\"}], \"scatter3d\": [{\"line\": {\"colorbar\": {\"outlinewidth\": 0, \"ticks\": \"\"}}, \"marker\": {\"colorbar\": {\"outlinewidth\": 0, \"ticks\": \"\"}}, \"type\": \"scatter3d\"}], \"scattercarpet\": [{\"marker\": {\"colorbar\": {\"outlinewidth\": 0, \"ticks\": \"\"}}, \"type\": \"scattercarpet\"}], \"scattergeo\": [{\"marker\": {\"colorbar\": {\"outlinewidth\": 0, \"ticks\": \"\"}}, \"type\": \"scattergeo\"}], \"scattergl\": [{\"marker\": {\"colorbar\": {\"outlinewidth\": 0, \"ticks\": \"\"}}, \"type\": \"scattergl\"}], \"scattermapbox\": [{\"marker\": {\"colorbar\": {\"outlinewidth\": 0, \"ticks\": \"\"}}, \"type\": \"scattermapbox\"}], \"scatterpolar\": [{\"marker\": {\"colorbar\": {\"outlinewidth\": 0, \"ticks\": \"\"}}, \"type\": \"scatterpolar\"}], \"scatterpolargl\": [{\"marker\": {\"colorbar\": {\"outlinewidth\": 0, \"ticks\": \"\"}}, \"type\": \"scatterpolargl\"}], \"scatterternary\": [{\"marker\": {\"colorbar\": {\"outlinewidth\": 0, \"ticks\": \"\"}}, \"type\": \"scatterternary\"}], \"surface\": [{\"colorbar\": {\"outlinewidth\": 0, \"ticks\": \"\"}, \"colorscale\": [[0.0, \"#0d0887\"], [0.1111111111111111, \"#46039f\"], [0.2222222222222222, \"#7201a8\"], [0.3333333333333333, \"#9c179e\"], [0.4444444444444444, \"#bd3786\"], [0.5555555555555556, \"#d8576b\"], [0.6666666666666666, \"#ed7953\"], [0.7777777777777778, \"#fb9f3a\"], [0.8888888888888888, \"#fdca26\"], [1.0, \"#f0f921\"]], \"type\": \"surface\"}], \"table\": [{\"cells\": {\"fill\": {\"color\": \"#EBF0F8\"}, \"line\": {\"color\": \"white\"}}, \"header\": {\"fill\": {\"color\": \"#C8D4E3\"}, \"line\": {\"color\": \"white\"}}, \"type\": \"table\"}]}, \"layout\": {\"annotationdefaults\": {\"arrowcolor\": \"#2a3f5f\", \"arrowhead\": 0, \"arrowwidth\": 1}, \"colorscale\": {\"diverging\": [[0, \"#8e0152\"], [0.1, \"#c51b7d\"], [0.2, \"#de77ae\"], [0.3, \"#f1b6da\"], [0.4, \"#fde0ef\"], [0.5, \"#f7f7f7\"], [0.6, \"#e6f5d0\"], [0.7, \"#b8e186\"], [0.8, \"#7fbc41\"], [0.9, \"#4d9221\"], [1, \"#276419\"]], \"sequential\": [[0.0, \"#0d0887\"], [0.1111111111111111, \"#46039f\"], [0.2222222222222222, \"#7201a8\"], [0.3333333333333333, \"#9c179e\"], [0.4444444444444444, \"#bd3786\"], [0.5555555555555556, \"#d8576b\"], [0.6666666666666666, \"#ed7953\"], [0.7777777777777778, \"#fb9f3a\"], [0.8888888888888888, \"#fdca26\"], [1.0, \"#f0f921\"]], \"sequentialminus\": [[0.0, \"#0d0887\"], [0.1111111111111111, \"#46039f\"], [0.2222222222222222, \"#7201a8\"], [0.3333333333333333, \"#9c179e\"], [0.4444444444444444, \"#bd3786\"], [0.5555555555555556, \"#d8576b\"], [0.6666666666666666, \"#ed7953\"], [0.7777777777777778, \"#fb9f3a\"], [0.8888888888888888, \"#fdca26\"], [1.0, \"#f0f921\"]]}, \"colorway\": [\"#636efa\", \"#EF553B\", \"#00cc96\", \"#ab63fa\", \"#FFA15A\", \"#19d3f3\", \"#FF6692\", \"#B6E880\", \"#FF97FF\", \"#FECB52\"], \"font\": {\"color\": \"#2a3f5f\"}, \"geo\": {\"bgcolor\": \"white\", \"lakecolor\": \"white\", \"landcolor\": \"#E5ECF6\", \"showlakes\": true, \"showland\": true, \"subunitcolor\": \"white\"}, \"hoverlabel\": {\"align\": \"left\"}, \"hovermode\": \"closest\", \"mapbox\": {\"style\": \"light\"}, \"paper_bgcolor\": \"white\", \"plot_bgcolor\": \"#E5ECF6\", \"polar\": {\"angularaxis\": {\"gridcolor\": \"white\", \"linecolor\": \"white\", \"ticks\": \"\"}, \"bgcolor\": \"#E5ECF6\", \"radialaxis\": {\"gridcolor\": \"white\", \"linecolor\": \"white\", \"ticks\": \"\"}}, \"scene\": {\"xaxis\": {\"backgroundcolor\": \"#E5ECF6\", \"gridcolor\": \"white\", \"gridwidth\": 2, \"linecolor\": \"white\", \"showbackground\": true, \"ticks\": \"\", \"zerolinecolor\": \"white\"}, \"yaxis\": {\"backgroundcolor\": \"#E5ECF6\", \"gridcolor\": \"white\", \"gridwidth\": 2, \"linecolor\": \"white\", \"showbackground\": true, \"ticks\": \"\", \"zerolinecolor\": \"white\"}, \"zaxis\": {\"backgroundcolor\": \"#E5ECF6\", \"gridcolor\": \"white\", \"gridwidth\": 2, \"linecolor\": \"white\", \"showbackground\": true, \"ticks\": \"\", \"zerolinecolor\": \"white\"}}, \"shapedefaults\": {\"line\": {\"color\": \"#2a3f5f\"}}, \"ternary\": {\"aaxis\": {\"gridcolor\": \"white\", \"linecolor\": \"white\", \"ticks\": \"\"}, \"baxis\": {\"gridcolor\": \"white\", \"linecolor\": \"white\", \"ticks\": \"\"}, \"bgcolor\": \"#E5ECF6\", \"caxis\": {\"gridcolor\": \"white\", \"linecolor\": \"white\", \"ticks\": \"\"}}, \"title\": {\"x\": 0.05}, \"xaxis\": {\"automargin\": true, \"gridcolor\": \"white\", \"linecolor\": \"white\", \"ticks\": \"\", \"zerolinecolor\": \"white\", \"zerolinewidth\": 2}, \"yaxis\": {\"automargin\": true, \"gridcolor\": \"white\", \"linecolor\": \"white\", \"ticks\": \"\", \"zerolinecolor\": \"white\", \"zerolinewidth\": 2}}}, \"title\": {\"text\": \"Daily registrations - UK\"}, \"xaxis\": {\"title\": {\"text\": \"Time\"}}, \"yaxis\": {\"title\": {\"text\": \"Count\"}}},\n                        {\"responsive\": true}\n                    ).then(function(){\n                            \nvar gd = document.getElementById('3e4d4737-00e0-4f91-8832-01cbe5bd7564');\nvar x = new MutationObserver(function (mutations, observer) {{\n        var display = window.getComputedStyle(gd).display;\n        if (!display || display === 'none') {{\n            console.log([gd, 'removed!']);\n            Plotly.purge(gd);\n            observer.disconnect();\n        }}\n}});\n\n// Listen for the removal of the full notebook cells\nvar notebookContainer = gd.closest('#notebook-container');\nif (notebookContainer) {{\n    x.observe(notebookContainer, {childList: true});\n}}\n\n// Listen for the clearing of the current output cell\nvar outputEl = gd.closest('.output');\nif (outputEl) {{\n    x.observe(outputEl, {childList: true});\n}}\n\n                        })\n                };\n                });\n            </script>\n        </div>",
            "application/vnd.plotly.v1+json": {
              "data": [
                {
                  "textposition": "top center",
                  "name": "GBR",
                  "text": [
                    "",
                    "",
                    "",
                    "",
                    "",
                    "",
                    "",
                    "",
                    "",
                    "",
                    "",
                    "",
                    "",
                    "",
                    "",
                    "",
                    "",
                    "",
                    "",
                    "",
                    "",
                    "",
                    "",
                    "",
                    "",
                    "",
                    "",
                    "",
                    "",
                    "",
                    "",
                    "",
                    "",
                    "",
                    "",
                    "",
                    "",
                    "",
                    "",
                    "",
                    "",
                    "",
                    "",
                    "",
                    "",
                    "",
                    "",
                    "",
                    "",
                    "",
                    "",
                    "",
                    "",
                    "",
                    "",
                    "",
                    "",
                    "",
                    "",
                    ""
                  ],
                  "mode": "lines",
                  "y": [
                    1406,
                    827,
                    451,
                    597,
                    527,
                    540,
                    878,
                    1037,
                    682,
                    464,
                    589,
                    781,
                    694,
                    1124,
                    1642,
                    725,
                    807,
                    762,
                    691,
                    631,
                    1237,
                    1782,
                    887,
                    717,
                    801,
                    891,
                    803,
                    1325,
                    931,
                    785,
                    653,
                    856,
                    809,
                    797,
                    1147,
                    1336,
                    1310,
                    2758,
                    4795,
                    3923,
                    2832,
                    2338,
                    633,
                    519,
                    373,
                    373,
                    283,
                    323,
                    376,
                    587,
                    386,
                    379,
                    408,
                    447,
                    339,
                    449,
                    451,
                    434,
                    331,
                    416
                  ],
                  "x": [
                    "2020-02-01T00:00:00Z",
                    "2020-02-02T00:00:00Z",
                    "2020-02-03T00:00:00Z",
                    "2020-02-04T00:00:00Z",
                    "2020-02-05T00:00:00Z",
                    "2020-02-06T00:00:00Z",
                    "2020-02-07T00:00:00Z",
                    "2020-02-08T00:00:00Z",
                    "2020-02-09T00:00:00Z",
                    "2020-02-10T00:00:00Z",
                    "2020-02-11T00:00:00Z",
                    "2020-02-12T00:00:00Z",
                    "2020-02-13T00:00:00Z",
                    "2020-02-14T00:00:00Z",
                    "2020-02-15T00:00:00Z",
                    "2020-02-16T00:00:00Z",
                    "2020-02-17T00:00:00Z",
                    "2020-02-18T00:00:00Z",
                    "2020-02-19T00:00:00Z",
                    "2020-02-20T00:00:00Z",
                    "2020-02-21T00:00:00Z",
                    "2020-02-22T00:00:00Z",
                    "2020-02-23T00:00:00Z",
                    "2020-02-24T00:00:00Z",
                    "2020-02-25T00:00:00Z",
                    "2020-02-26T00:00:00Z",
                    "2020-02-27T00:00:00Z",
                    "2020-02-28T00:00:00Z",
                    "2020-02-29T00:00:00Z",
                    "2020-03-01T00:00:00Z",
                    "2020-03-02T00:00:00Z",
                    "2020-03-03T00:00:00Z",
                    "2020-03-04T00:00:00Z",
                    "2020-03-05T00:00:00Z",
                    "2020-03-06T00:00:00Z",
                    "2020-03-07T00:00:00Z",
                    "2020-03-08T00:00:00Z",
                    "2020-03-09T00:00:00Z",
                    "2020-03-10T00:00:00Z",
                    "2020-03-11T00:00:00Z",
                    "2020-03-12T00:00:00Z",
                    "2020-03-13T00:00:00Z",
                    "2020-03-14T00:00:00Z",
                    "2020-03-15T00:00:00Z",
                    "2020-03-16T00:00:00Z",
                    "2020-03-17T00:00:00Z",
                    "2020-03-18T00:00:00Z",
                    "2020-03-19T00:00:00Z",
                    "2020-03-20T00:00:00Z",
                    "2020-03-21T00:00:00Z",
                    "2020-03-22T00:00:00Z",
                    "2020-03-23T00:00:00Z",
                    "2020-03-24T00:00:00Z",
                    "2020-03-25T00:00:00Z",
                    "2020-03-26T00:00:00Z",
                    "2020-03-27T00:00:00Z",
                    "2020-03-28T00:00:00Z",
                    "2020-03-29T00:00:00Z",
                    "2020-03-30T00:00:00Z",
                    "2020-03-31T00:00:00Z"
                  ],
                  "line": {
                    "color": "blue"
                  },
                  "type": "scatter"
                }
              ],
              "config": {
                "plotlyServerURL": "https://plot.ly"
              },
              "layout": {
                "xaxis": {
                  "title": {
                    "text": "Time"
                  }
                },
                "yaxis": {
                  "title": {
                    "text": "Count"
                  }
                },
                "annotations": [
                  {
                    "xref": "x",
                    "arrowhead": 7,
                    "yref": "y",
                    "text": "Cheltenham festival",
                    "y": 4795,
                    "x": "2020-03-10T00:00:00Z",
                    "ay": -30,
                    "ax": 0,
                    "showarrow": true
                  },
                  {
                    "xref": "x",
                    "arrowhead": 7,
                    "yref": "y",
                    "text": "School closures",
                    "y": 376,
                    "x": "2020-03-20T00:00:00Z",
                    "ay": -40,
                    "ax": 0,
                    "showarrow": true
                  },
                  {
                    "xref": "x",
                    "arrowhead": 7,
                    "yref": "y",
                    "text": "Stay at home announcement",
                    "y": 379,
                    "x": "2020-03-23T00:00:00Z",
                    "ay": -100,
                    "ax": 0,
                    "showarrow": true
                  }
                ],
                "template": {
                  "layout": {
                    "shapedefaults": {
                      "line": {
                        "color": "#2a3f5f"
                      }
                    },
                    "polar": {
                      "radialaxis": {
                        "ticks": "",
                        "gridcolor": "white",
                        "linecolor": "white"
                      },
                      "bgcolor": "#E5ECF6",
                      "angularaxis": {
                        "ticks": "",
                        "gridcolor": "white",
                        "linecolor": "white"
                      }
                    },
                    "colorway": [
                      "#636efa",
                      "#EF553B",
                      "#00cc96",
                      "#ab63fa",
                      "#FFA15A",
                      "#19d3f3",
                      "#FF6692",
                      "#B6E880",
                      "#FF97FF",
                      "#FECB52"
                    ],
                    "xaxis": {
                      "automargin": true,
                      "zerolinewidth": 2,
                      "ticks": "",
                      "zerolinecolor": "white",
                      "gridcolor": "white",
                      "linecolor": "white"
                    },
                    "colorscale": {
                      "diverging": [
                        [
                          0,
                          "#8e0152"
                        ],
                        [
                          0.1,
                          "#c51b7d"
                        ],
                        [
                          0.2,
                          "#de77ae"
                        ],
                        [
                          0.3,
                          "#f1b6da"
                        ],
                        [
                          0.4,
                          "#fde0ef"
                        ],
                        [
                          0.5,
                          "#f7f7f7"
                        ],
                        [
                          0.6,
                          "#e6f5d0"
                        ],
                        [
                          0.7,
                          "#b8e186"
                        ],
                        [
                          0.8,
                          "#7fbc41"
                        ],
                        [
                          0.9,
                          "#4d9221"
                        ],
                        [
                          1,
                          "#276419"
                        ]
                      ],
                      "sequential": [
                        [
                          0,
                          "#0d0887"
                        ],
                        [
                          0.1111111111111111,
                          "#46039f"
                        ],
                        [
                          0.22222222222222221,
                          "#7201a8"
                        ],
                        [
                          0.33333333333333331,
                          "#9c179e"
                        ],
                        [
                          0.44444444444444442,
                          "#bd3786"
                        ],
                        [
                          0.55555555555555558,
                          "#d8576b"
                        ],
                        [
                          0.66666666666666663,
                          "#ed7953"
                        ],
                        [
                          0.77777777777777779,
                          "#fb9f3a"
                        ],
                        [
                          0.88888888888888884,
                          "#fdca26"
                        ],
                        [
                          1,
                          "#f0f921"
                        ]
                      ],
                      "sequentialminus": [
                        [
                          0,
                          "#0d0887"
                        ],
                        [
                          0.1111111111111111,
                          "#46039f"
                        ],
                        [
                          0.22222222222222221,
                          "#7201a8"
                        ],
                        [
                          0.33333333333333331,
                          "#9c179e"
                        ],
                        [
                          0.44444444444444442,
                          "#bd3786"
                        ],
                        [
                          0.55555555555555558,
                          "#d8576b"
                        ],
                        [
                          0.66666666666666663,
                          "#ed7953"
                        ],
                        [
                          0.77777777777777779,
                          "#fb9f3a"
                        ],
                        [
                          0.88888888888888884,
                          "#fdca26"
                        ],
                        [
                          1,
                          "#f0f921"
                        ]
                      ]
                    },
                    "paper_bgcolor": "white",
                    "plot_bgcolor": "#E5ECF6",
                    "title": {
                      "x": 0.05
                    },
                    "scene": {
                      "zaxis": {
                        "backgroundcolor": "#E5ECF6",
                        "ticks": "",
                        "gridwidth": 2,
                        "showbackground": true,
                        "zerolinecolor": "white",
                        "gridcolor": "white",
                        "linecolor": "white"
                      },
                      "xaxis": {
                        "backgroundcolor": "#E5ECF6",
                        "ticks": "",
                        "gridwidth": 2,
                        "showbackground": true,
                        "zerolinecolor": "white",
                        "gridcolor": "white",
                        "linecolor": "white"
                      },
                      "yaxis": {
                        "backgroundcolor": "#E5ECF6",
                        "ticks": "",
                        "gridwidth": 2,
                        "showbackground": true,
                        "zerolinecolor": "white",
                        "gridcolor": "white",
                        "linecolor": "white"
                      }
                    },
                    "yaxis": {
                      "automargin": true,
                      "zerolinewidth": 2,
                      "ticks": "",
                      "zerolinecolor": "white",
                      "gridcolor": "white",
                      "linecolor": "white"
                    },
                    "hoverlabel": {
                      "align": "left"
                    },
                    "ternary": {
                      "bgcolor": "#E5ECF6",
                      "baxis": {
                        "ticks": "",
                        "gridcolor": "white",
                        "linecolor": "white"
                      },
                      "caxis": {
                        "ticks": "",
                        "gridcolor": "white",
                        "linecolor": "white"
                      },
                      "aaxis": {
                        "ticks": "",
                        "gridcolor": "white",
                        "linecolor": "white"
                      }
                    },
                    "mapbox": {
                      "style": "light"
                    },
                    "hovermode": "closest",
                    "font": {
                      "color": "#2a3f5f"
                    },
                    "geo": {
                      "showland": true,
                      "landcolor": "#E5ECF6",
                      "showlakes": true,
                      "bgcolor": "white",
                      "subunitcolor": "white",
                      "lakecolor": "white"
                    },
                    "annotationdefaults": {
                      "arrowwidth": 1,
                      "arrowhead": 0,
                      "arrowcolor": "#2a3f5f"
                    }
                  },
                  "data": {
                    "mesh3d": [
                      {
                        "colorbar": {
                          "outlinewidth": 0,
                          "ticks": ""
                        },
                        "type": "mesh3d"
                      }
                    ],
                    "scattercarpet": [
                      {
                        "marker": {
                          "colorbar": {
                            "outlinewidth": 0,
                            "ticks": ""
                          }
                        },
                        "type": "scattercarpet"
                      }
                    ],
                    "scatterternary": [
                      {
                        "marker": {
                          "colorbar": {
                            "outlinewidth": 0,
                            "ticks": ""
                          }
                        },
                        "type": "scatterternary"
                      }
                    ],
                    "surface": [
                      {
                        "colorbar": {
                          "outlinewidth": 0,
                          "ticks": ""
                        },
                        "type": "surface",
                        "colorscale": [
                          [
                            0,
                            "#0d0887"
                          ],
                          [
                            0.1111111111111111,
                            "#46039f"
                          ],
                          [
                            0.22222222222222221,
                            "#7201a8"
                          ],
                          [
                            0.33333333333333331,
                            "#9c179e"
                          ],
                          [
                            0.44444444444444442,
                            "#bd3786"
                          ],
                          [
                            0.55555555555555558,
                            "#d8576b"
                          ],
                          [
                            0.66666666666666663,
                            "#ed7953"
                          ],
                          [
                            0.77777777777777779,
                            "#fb9f3a"
                          ],
                          [
                            0.88888888888888884,
                            "#fdca26"
                          ],
                          [
                            1,
                            "#f0f921"
                          ]
                        ]
                      }
                    ],
                    "table": [
                      {
                        "header": {
                          "line": {
                            "color": "white"
                          },
                          "fill": {
                            "color": "#C8D4E3"
                          }
                        },
                        "cells": {
                          "line": {
                            "color": "white"
                          },
                          "fill": {
                            "color": "#EBF0F8"
                          }
                        },
                        "type": "table"
                      }
                    ],
                    "scatterpolargl": [
                      {
                        "marker": {
                          "colorbar": {
                            "outlinewidth": 0,
                            "ticks": ""
                          }
                        },
                        "type": "scatterpolargl"
                      }
                    ],
                    "contour": [
                      {
                        "colorbar": {
                          "outlinewidth": 0,
                          "ticks": ""
                        },
                        "type": "contour",
                        "colorscale": [
                          [
                            0,
                            "#0d0887"
                          ],
                          [
                            0.1111111111111111,
                            "#46039f"
                          ],
                          [
                            0.22222222222222221,
                            "#7201a8"
                          ],
                          [
                            0.33333333333333331,
                            "#9c179e"
                          ],
                          [
                            0.44444444444444442,
                            "#bd3786"
                          ],
                          [
                            0.55555555555555558,
                            "#d8576b"
                          ],
                          [
                            0.66666666666666663,
                            "#ed7953"
                          ],
                          [
                            0.77777777777777779,
                            "#fb9f3a"
                          ],
                          [
                            0.88888888888888884,
                            "#fdca26"
                          ],
                          [
                            1,
                            "#f0f921"
                          ]
                        ]
                      }
                    ],
                    "carpet": [
                      {
                        "type": "carpet",
                        "baxis": {
                          "minorgridcolor": "white",
                          "gridcolor": "white",
                          "linecolor": "white",
                          "endlinecolor": "#2a3f5f",
                          "startlinecolor": "#2a3f5f"
                        },
                        "aaxis": {
                          "minorgridcolor": "white",
                          "gridcolor": "white",
                          "linecolor": "white",
                          "endlinecolor": "#2a3f5f",
                          "startlinecolor": "#2a3f5f"
                        }
                      }
                    ],
                    "contourcarpet": [
                      {
                        "colorbar": {
                          "outlinewidth": 0,
                          "ticks": ""
                        },
                        "type": "contourcarpet"
                      }
                    ],
                    "heatmap": [
                      {
                        "colorbar": {
                          "outlinewidth": 0,
                          "ticks": ""
                        },
                        "type": "heatmap",
                        "colorscale": [
                          [
                            0,
                            "#0d0887"
                          ],
                          [
                            0.1111111111111111,
                            "#46039f"
                          ],
                          [
                            0.22222222222222221,
                            "#7201a8"
                          ],
                          [
                            0.33333333333333331,
                            "#9c179e"
                          ],
                          [
                            0.44444444444444442,
                            "#bd3786"
                          ],
                          [
                            0.55555555555555558,
                            "#d8576b"
                          ],
                          [
                            0.66666666666666663,
                            "#ed7953"
                          ],
                          [
                            0.77777777777777779,
                            "#fb9f3a"
                          ],
                          [
                            0.88888888888888884,
                            "#fdca26"
                          ],
                          [
                            1,
                            "#f0f921"
                          ]
                        ]
                      }
                    ],
                    "scattermapbox": [
                      {
                        "marker": {
                          "colorbar": {
                            "outlinewidth": 0,
                            "ticks": ""
                          }
                        },
                        "type": "scattermapbox"
                      }
                    ],
                    "scatter3d": [
                      {
                        "marker": {
                          "colorbar": {
                            "outlinewidth": 0,
                            "ticks": ""
                          }
                        },
                        "line": {
                          "colorbar": {
                            "outlinewidth": 0,
                            "ticks": ""
                          }
                        },
                        "type": "scatter3d"
                      }
                    ],
                    "scattergl": [
                      {
                        "marker": {
                          "colorbar": {
                            "outlinewidth": 0,
                            "ticks": ""
                          }
                        },
                        "type": "scattergl"
                      }
                    ],
                    "histogram": [
                      {
                        "marker": {
                          "colorbar": {
                            "outlinewidth": 0,
                            "ticks": ""
                          }
                        },
                        "type": "histogram"
                      }
                    ],
                    "heatmapgl": [
                      {
                        "colorbar": {
                          "outlinewidth": 0,
                          "ticks": ""
                        },
                        "type": "heatmapgl",
                        "colorscale": [
                          [
                            0,
                            "#0d0887"
                          ],
                          [
                            0.1111111111111111,
                            "#46039f"
                          ],
                          [
                            0.22222222222222221,
                            "#7201a8"
                          ],
                          [
                            0.33333333333333331,
                            "#9c179e"
                          ],
                          [
                            0.44444444444444442,
                            "#bd3786"
                          ],
                          [
                            0.55555555555555558,
                            "#d8576b"
                          ],
                          [
                            0.66666666666666663,
                            "#ed7953"
                          ],
                          [
                            0.77777777777777779,
                            "#fb9f3a"
                          ],
                          [
                            0.88888888888888884,
                            "#fdca26"
                          ],
                          [
                            1,
                            "#f0f921"
                          ]
                        ]
                      }
                    ],
                    "scatterpolar": [
                      {
                        "marker": {
                          "colorbar": {
                            "outlinewidth": 0,
                            "ticks": ""
                          }
                        },
                        "type": "scatterpolar"
                      }
                    ],
                    "histogram2d": [
                      {
                        "colorbar": {
                          "outlinewidth": 0,
                          "ticks": ""
                        },
                        "type": "histogram2d",
                        "colorscale": [
                          [
                            0,
                            "#0d0887"
                          ],
                          [
                            0.1111111111111111,
                            "#46039f"
                          ],
                          [
                            0.22222222222222221,
                            "#7201a8"
                          ],
                          [
                            0.33333333333333331,
                            "#9c179e"
                          ],
                          [
                            0.44444444444444442,
                            "#bd3786"
                          ],
                          [
                            0.55555555555555558,
                            "#d8576b"
                          ],
                          [
                            0.66666666666666663,
                            "#ed7953"
                          ],
                          [
                            0.77777777777777779,
                            "#fb9f3a"
                          ],
                          [
                            0.88888888888888884,
                            "#fdca26"
                          ],
                          [
                            1,
                            "#f0f921"
                          ]
                        ]
                      }
                    ],
                    "scattergeo": [
                      {
                        "marker": {
                          "colorbar": {
                            "outlinewidth": 0,
                            "ticks": ""
                          }
                        },
                        "type": "scattergeo"
                      }
                    ],
                    "bar": [
                      {
                        "marker": {
                          "line": {
                            "color": "#E5ECF6",
                            "width": 0.5
                          }
                        },
                        "type": "bar",
                        "error_x": {
                          "color": "#2a3f5f"
                        },
                        "error_y": {
                          "color": "#2a3f5f"
                        }
                      }
                    ],
                    "choropleth": [
                      {
                        "colorbar": {
                          "outlinewidth": 0,
                          "ticks": ""
                        },
                        "type": "choropleth"
                      }
                    ],
                    "parcoords": [
                      {
                        "line": {
                          "colorbar": {
                            "outlinewidth": 0,
                            "ticks": ""
                          }
                        },
                        "type": "parcoords"
                      }
                    ],
                    "barpolar": [
                      {
                        "marker": {
                          "line": {
                            "color": "#E5ECF6",
                            "width": 0.5
                          }
                        },
                        "type": "barpolar"
                      }
                    ],
                    "histogram2dcontour": [
                      {
                        "colorbar": {
                          "outlinewidth": 0,
                          "ticks": ""
                        },
                        "type": "histogram2dcontour",
                        "colorscale": [
                          [
                            0,
                            "#0d0887"
                          ],
                          [
                            0.1111111111111111,
                            "#46039f"
                          ],
                          [
                            0.22222222222222221,
                            "#7201a8"
                          ],
                          [
                            0.33333333333333331,
                            "#9c179e"
                          ],
                          [
                            0.44444444444444442,
                            "#bd3786"
                          ],
                          [
                            0.55555555555555558,
                            "#d8576b"
                          ],
                          [
                            0.66666666666666663,
                            "#ed7953"
                          ],
                          [
                            0.77777777777777779,
                            "#fb9f3a"
                          ],
                          [
                            0.88888888888888884,
                            "#fdca26"
                          ],
                          [
                            1,
                            "#f0f921"
                          ]
                        ]
                      }
                    ],
                    "scatter": [
                      {
                        "marker": {
                          "colorbar": {
                            "outlinewidth": 0,
                            "ticks": ""
                          }
                        },
                        "type": "scatter"
                      }
                    ]
                  }
                },
                "title": {
                  "text": "Daily registrations - UK"
                }
              }
            }
          },
          "metadata": {}
        },
        {
          "output_type": "display_data",
          "data": {
            "text/html": "<div>\n        \n        \n            <div id=\"bb01a1ad-d371-42da-979a-e0442d295ec7\" class=\"plotly-graph-div\" style=\"height:525px; width:100%;\"></div>\n            <script type=\"text/javascript\">\n                require([\"plotly\"], function(Plotly) {\n                    window.PLOTLYENV=window.PLOTLYENV || {};\n                    \n                if (document.getElementById(\"bb01a1ad-d371-42da-979a-e0442d295ec7\")) {\n                    Plotly.newPlot(\n                        'bb01a1ad-d371-42da-979a-e0442d295ec7',\n                        [{\"line\": {\"color\": \"orange\"}, \"mode\": \"lines\", \"name\": \"DEU\", \"text\": [\"\", \"\", \"\", \"\", \"\", \"\", \"\", \"\", \"\", \"\", \"\", \"\", \"\", \"\", \"\", \"\", \"\", \"\", \"\", \"\", \"\", \"\", \"\", \"\", \"\", \"\", \"\", \"\", \"\", \"\", \"\", \"\", \"\", \"\", \"\", \"\", \"\", \"\", \"\", \"\", \"\", \"\", \"\", \"\", \"\", \"\", \"\", \"\", \"\", \"\", \"\", \"\", \"\", \"\", \"\", \"\", \"\", \"\", \"\", \"\"], \"textposition\": \"top center\", \"type\": \"scatter\", \"x\": [\"2020-02-01T00:00:00Z\", \"2020-02-02T00:00:00Z\", \"2020-02-03T00:00:00Z\", \"2020-02-04T00:00:00Z\", \"2020-02-05T00:00:00Z\", \"2020-02-06T00:00:00Z\", \"2020-02-07T00:00:00Z\", \"2020-02-08T00:00:00Z\", \"2020-02-09T00:00:00Z\", \"2020-02-10T00:00:00Z\", \"2020-02-11T00:00:00Z\", \"2020-02-12T00:00:00Z\", \"2020-02-13T00:00:00Z\", \"2020-02-14T00:00:00Z\", \"2020-02-15T00:00:00Z\", \"2020-02-16T00:00:00Z\", \"2020-02-17T00:00:00Z\", \"2020-02-18T00:00:00Z\", \"2020-02-19T00:00:00Z\", \"2020-02-20T00:00:00Z\", \"2020-02-21T00:00:00Z\", \"2020-02-22T00:00:00Z\", \"2020-02-23T00:00:00Z\", \"2020-02-24T00:00:00Z\", \"2020-02-25T00:00:00Z\", \"2020-02-26T00:00:00Z\", \"2020-02-27T00:00:00Z\", \"2020-02-28T00:00:00Z\", \"2020-02-29T00:00:00Z\", \"2020-03-01T00:00:00Z\", \"2020-03-02T00:00:00Z\", \"2020-03-03T00:00:00Z\", \"2020-03-04T00:00:00Z\", \"2020-03-05T00:00:00Z\", \"2020-03-06T00:00:00Z\", \"2020-03-07T00:00:00Z\", \"2020-03-08T00:00:00Z\", \"2020-03-09T00:00:00Z\", \"2020-03-10T00:00:00Z\", \"2020-03-11T00:00:00Z\", \"2020-03-12T00:00:00Z\", \"2020-03-13T00:00:00Z\", \"2020-03-14T00:00:00Z\", \"2020-03-15T00:00:00Z\", \"2020-03-16T00:00:00Z\", \"2020-03-17T00:00:00Z\", \"2020-03-18T00:00:00Z\", \"2020-03-19T00:00:00Z\", \"2020-03-20T00:00:00Z\", \"2020-03-21T00:00:00Z\", \"2020-03-22T00:00:00Z\", \"2020-03-23T00:00:00Z\", \"2020-03-24T00:00:00Z\", \"2020-03-25T00:00:00Z\", \"2020-03-26T00:00:00Z\", \"2020-03-27T00:00:00Z\", \"2020-03-28T00:00:00Z\", \"2020-03-29T00:00:00Z\", \"2020-03-30T00:00:00Z\", \"2020-03-31T00:00:00Z\"], \"y\": [559, 666, 265, 353, 303, 236, 311, 556, 393, 210, 202, 239, 243, 301, 420, 348, 234, 424, 270, 266, 281, 453, 298, 240, 371, 387, 367, 342, 379, 438, 275, 385, 342, 290, 343, 478, 363, 264, 365, 356, 237, 218, 218, 202, 176, 195, 198, 224, 296, 376, 280, 216, 210, 251, 195, 239, 249, 327, 318, 390]}],\n                        {\"annotations\": [{\"arrowhead\": 7, \"ax\": 0, \"ay\": -150, \"showarrow\": true, \"text\": \"School closures\", \"x\": \"2020-03-13T00:00:00Z\", \"xref\": \"x\", \"y\": 218, \"yref\": \"y\"}, {\"arrowhead\": 7, \"ax\": 0, \"ay\": -150, \"showarrow\": true, \"text\": \"National Lockdown\", \"x\": \"2020-03-22T00:00:00Z\", \"xref\": \"x\", \"y\": 280, \"yref\": \"y\"}], \"template\": {\"data\": {\"bar\": [{\"error_x\": {\"color\": \"#2a3f5f\"}, \"error_y\": {\"color\": \"#2a3f5f\"}, \"marker\": {\"line\": {\"color\": \"#E5ECF6\", \"width\": 0.5}}, \"type\": \"bar\"}], \"barpolar\": [{\"marker\": {\"line\": {\"color\": \"#E5ECF6\", \"width\": 0.5}}, \"type\": \"barpolar\"}], \"carpet\": [{\"aaxis\": {\"endlinecolor\": \"#2a3f5f\", \"gridcolor\": \"white\", \"linecolor\": \"white\", \"minorgridcolor\": \"white\", \"startlinecolor\": \"#2a3f5f\"}, \"baxis\": {\"endlinecolor\": \"#2a3f5f\", \"gridcolor\": \"white\", \"linecolor\": \"white\", \"minorgridcolor\": \"white\", \"startlinecolor\": \"#2a3f5f\"}, \"type\": \"carpet\"}], \"choropleth\": [{\"colorbar\": {\"outlinewidth\": 0, \"ticks\": \"\"}, \"type\": \"choropleth\"}], \"contour\": [{\"colorbar\": {\"outlinewidth\": 0, \"ticks\": \"\"}, \"colorscale\": [[0.0, \"#0d0887\"], [0.1111111111111111, \"#46039f\"], [0.2222222222222222, \"#7201a8\"], [0.3333333333333333, \"#9c179e\"], [0.4444444444444444, \"#bd3786\"], [0.5555555555555556, \"#d8576b\"], [0.6666666666666666, \"#ed7953\"], [0.7777777777777778, \"#fb9f3a\"], [0.8888888888888888, \"#fdca26\"], [1.0, \"#f0f921\"]], \"type\": \"contour\"}], \"contourcarpet\": [{\"colorbar\": {\"outlinewidth\": 0, \"ticks\": \"\"}, \"type\": \"contourcarpet\"}], \"heatmap\": [{\"colorbar\": {\"outlinewidth\": 0, \"ticks\": \"\"}, \"colorscale\": [[0.0, \"#0d0887\"], [0.1111111111111111, \"#46039f\"], [0.2222222222222222, \"#7201a8\"], [0.3333333333333333, \"#9c179e\"], [0.4444444444444444, \"#bd3786\"], [0.5555555555555556, \"#d8576b\"], [0.6666666666666666, \"#ed7953\"], [0.7777777777777778, \"#fb9f3a\"], [0.8888888888888888, \"#fdca26\"], [1.0, \"#f0f921\"]], \"type\": \"heatmap\"}], \"heatmapgl\": [{\"colorbar\": {\"outlinewidth\": 0, \"ticks\": \"\"}, \"colorscale\": [[0.0, \"#0d0887\"], [0.1111111111111111, \"#46039f\"], [0.2222222222222222, \"#7201a8\"], [0.3333333333333333, \"#9c179e\"], [0.4444444444444444, \"#bd3786\"], [0.5555555555555556, \"#d8576b\"], [0.6666666666666666, \"#ed7953\"], [0.7777777777777778, \"#fb9f3a\"], [0.8888888888888888, \"#fdca26\"], [1.0, \"#f0f921\"]], \"type\": \"heatmapgl\"}], \"histogram\": [{\"marker\": {\"colorbar\": {\"outlinewidth\": 0, \"ticks\": \"\"}}, \"type\": \"histogram\"}], \"histogram2d\": [{\"colorbar\": {\"outlinewidth\": 0, \"ticks\": \"\"}, \"colorscale\": [[0.0, \"#0d0887\"], [0.1111111111111111, \"#46039f\"], [0.2222222222222222, \"#7201a8\"], [0.3333333333333333, \"#9c179e\"], [0.4444444444444444, \"#bd3786\"], [0.5555555555555556, \"#d8576b\"], [0.6666666666666666, \"#ed7953\"], [0.7777777777777778, \"#fb9f3a\"], [0.8888888888888888, \"#fdca26\"], [1.0, \"#f0f921\"]], \"type\": \"histogram2d\"}], \"histogram2dcontour\": [{\"colorbar\": {\"outlinewidth\": 0, \"ticks\": \"\"}, \"colorscale\": [[0.0, \"#0d0887\"], [0.1111111111111111, \"#46039f\"], [0.2222222222222222, \"#7201a8\"], [0.3333333333333333, \"#9c179e\"], [0.4444444444444444, \"#bd3786\"], [0.5555555555555556, \"#d8576b\"], [0.6666666666666666, \"#ed7953\"], [0.7777777777777778, \"#fb9f3a\"], [0.8888888888888888, \"#fdca26\"], [1.0, \"#f0f921\"]], \"type\": \"histogram2dcontour\"}], \"mesh3d\": [{\"colorbar\": {\"outlinewidth\": 0, \"ticks\": \"\"}, \"type\": \"mesh3d\"}], \"parcoords\": [{\"line\": {\"colorbar\": {\"outlinewidth\": 0, \"ticks\": \"\"}}, \"type\": \"parcoords\"}], \"scatter\": [{\"marker\": {\"colorbar\": {\"outlinewidth\": 0, \"ticks\": \"\"}}, \"type\": \"scatter\"}], \"scatter3d\": [{\"line\": {\"colorbar\": {\"outlinewidth\": 0, \"ticks\": \"\"}}, \"marker\": {\"colorbar\": {\"outlinewidth\": 0, \"ticks\": \"\"}}, \"type\": \"scatter3d\"}], \"scattercarpet\": [{\"marker\": {\"colorbar\": {\"outlinewidth\": 0, \"ticks\": \"\"}}, \"type\": \"scattercarpet\"}], \"scattergeo\": [{\"marker\": {\"colorbar\": {\"outlinewidth\": 0, \"ticks\": \"\"}}, \"type\": \"scattergeo\"}], \"scattergl\": [{\"marker\": {\"colorbar\": {\"outlinewidth\": 0, \"ticks\": \"\"}}, \"type\": \"scattergl\"}], \"scattermapbox\": [{\"marker\": {\"colorbar\": {\"outlinewidth\": 0, \"ticks\": \"\"}}, \"type\": \"scattermapbox\"}], \"scatterpolar\": [{\"marker\": {\"colorbar\": {\"outlinewidth\": 0, \"ticks\": \"\"}}, \"type\": \"scatterpolar\"}], \"scatterpolargl\": [{\"marker\": {\"colorbar\": {\"outlinewidth\": 0, \"ticks\": \"\"}}, \"type\": \"scatterpolargl\"}], \"scatterternary\": [{\"marker\": {\"colorbar\": {\"outlinewidth\": 0, \"ticks\": \"\"}}, \"type\": \"scatterternary\"}], \"surface\": [{\"colorbar\": {\"outlinewidth\": 0, \"ticks\": \"\"}, \"colorscale\": [[0.0, \"#0d0887\"], [0.1111111111111111, \"#46039f\"], [0.2222222222222222, \"#7201a8\"], [0.3333333333333333, \"#9c179e\"], [0.4444444444444444, \"#bd3786\"], [0.5555555555555556, \"#d8576b\"], [0.6666666666666666, \"#ed7953\"], [0.7777777777777778, \"#fb9f3a\"], [0.8888888888888888, \"#fdca26\"], [1.0, \"#f0f921\"]], \"type\": \"surface\"}], \"table\": [{\"cells\": {\"fill\": {\"color\": \"#EBF0F8\"}, \"line\": {\"color\": \"white\"}}, \"header\": {\"fill\": {\"color\": \"#C8D4E3\"}, \"line\": {\"color\": \"white\"}}, \"type\": \"table\"}]}, \"layout\": {\"annotationdefaults\": {\"arrowcolor\": \"#2a3f5f\", \"arrowhead\": 0, \"arrowwidth\": 1}, \"colorscale\": {\"diverging\": [[0, \"#8e0152\"], [0.1, \"#c51b7d\"], [0.2, \"#de77ae\"], [0.3, \"#f1b6da\"], [0.4, \"#fde0ef\"], [0.5, \"#f7f7f7\"], [0.6, \"#e6f5d0\"], [0.7, \"#b8e186\"], [0.8, \"#7fbc41\"], [0.9, \"#4d9221\"], [1, \"#276419\"]], \"sequential\": [[0.0, \"#0d0887\"], [0.1111111111111111, \"#46039f\"], [0.2222222222222222, \"#7201a8\"], [0.3333333333333333, \"#9c179e\"], [0.4444444444444444, \"#bd3786\"], [0.5555555555555556, \"#d8576b\"], [0.6666666666666666, \"#ed7953\"], [0.7777777777777778, \"#fb9f3a\"], [0.8888888888888888, \"#fdca26\"], [1.0, \"#f0f921\"]], \"sequentialminus\": [[0.0, \"#0d0887\"], [0.1111111111111111, \"#46039f\"], [0.2222222222222222, \"#7201a8\"], [0.3333333333333333, \"#9c179e\"], [0.4444444444444444, \"#bd3786\"], [0.5555555555555556, \"#d8576b\"], [0.6666666666666666, \"#ed7953\"], [0.7777777777777778, \"#fb9f3a\"], [0.8888888888888888, \"#fdca26\"], [1.0, \"#f0f921\"]]}, \"colorway\": [\"#636efa\", \"#EF553B\", \"#00cc96\", \"#ab63fa\", \"#FFA15A\", \"#19d3f3\", \"#FF6692\", \"#B6E880\", \"#FF97FF\", \"#FECB52\"], \"font\": {\"color\": \"#2a3f5f\"}, \"geo\": {\"bgcolor\": \"white\", \"lakecolor\": \"white\", \"landcolor\": \"#E5ECF6\", \"showlakes\": true, \"showland\": true, \"subunitcolor\": \"white\"}, \"hoverlabel\": {\"align\": \"left\"}, \"hovermode\": \"closest\", \"mapbox\": {\"style\": \"light\"}, \"paper_bgcolor\": \"white\", \"plot_bgcolor\": \"#E5ECF6\", \"polar\": {\"angularaxis\": {\"gridcolor\": \"white\", \"linecolor\": \"white\", \"ticks\": \"\"}, \"bgcolor\": \"#E5ECF6\", \"radialaxis\": {\"gridcolor\": \"white\", \"linecolor\": \"white\", \"ticks\": \"\"}}, \"scene\": {\"xaxis\": {\"backgroundcolor\": \"#E5ECF6\", \"gridcolor\": \"white\", \"gridwidth\": 2, \"linecolor\": \"white\", \"showbackground\": true, \"ticks\": \"\", \"zerolinecolor\": \"white\"}, \"yaxis\": {\"backgroundcolor\": \"#E5ECF6\", \"gridcolor\": \"white\", \"gridwidth\": 2, \"linecolor\": \"white\", \"showbackground\": true, \"ticks\": \"\", \"zerolinecolor\": \"white\"}, \"zaxis\": {\"backgroundcolor\": \"#E5ECF6\", \"gridcolor\": \"white\", \"gridwidth\": 2, \"linecolor\": \"white\", \"showbackground\": true, \"ticks\": \"\", \"zerolinecolor\": \"white\"}}, \"shapedefaults\": {\"line\": {\"color\": \"#2a3f5f\"}}, \"ternary\": {\"aaxis\": {\"gridcolor\": \"white\", \"linecolor\": \"white\", \"ticks\": \"\"}, \"baxis\": {\"gridcolor\": \"white\", \"linecolor\": \"white\", \"ticks\": \"\"}, \"bgcolor\": \"#E5ECF6\", \"caxis\": {\"gridcolor\": \"white\", \"linecolor\": \"white\", \"ticks\": \"\"}}, \"title\": {\"x\": 0.05}, \"xaxis\": {\"automargin\": true, \"gridcolor\": \"white\", \"linecolor\": \"white\", \"ticks\": \"\", \"zerolinecolor\": \"white\", \"zerolinewidth\": 2}, \"yaxis\": {\"automargin\": true, \"gridcolor\": \"white\", \"linecolor\": \"white\", \"ticks\": \"\", \"zerolinecolor\": \"white\", \"zerolinewidth\": 2}}}, \"title\": {\"text\": \"Daily registrations - Germany\"}, \"xaxis\": {\"title\": {\"text\": \"Time\"}}, \"yaxis\": {\"title\": {\"text\": \"Count\"}}},\n                        {\"responsive\": true}\n                    ).then(function(){\n                            \nvar gd = document.getElementById('bb01a1ad-d371-42da-979a-e0442d295ec7');\nvar x = new MutationObserver(function (mutations, observer) {{\n        var display = window.getComputedStyle(gd).display;\n        if (!display || display === 'none') {{\n            console.log([gd, 'removed!']);\n            Plotly.purge(gd);\n            observer.disconnect();\n        }}\n}});\n\n// Listen for the removal of the full notebook cells\nvar notebookContainer = gd.closest('#notebook-container');\nif (notebookContainer) {{\n    x.observe(notebookContainer, {childList: true});\n}}\n\n// Listen for the clearing of the current output cell\nvar outputEl = gd.closest('.output');\nif (outputEl) {{\n    x.observe(outputEl, {childList: true});\n}}\n\n                        })\n                };\n                });\n            </script>\n        </div>",
            "application/vnd.plotly.v1+json": {
              "data": [
                {
                  "textposition": "top center",
                  "name": "DEU",
                  "text": [
                    "",
                    "",
                    "",
                    "",
                    "",
                    "",
                    "",
                    "",
                    "",
                    "",
                    "",
                    "",
                    "",
                    "",
                    "",
                    "",
                    "",
                    "",
                    "",
                    "",
                    "",
                    "",
                    "",
                    "",
                    "",
                    "",
                    "",
                    "",
                    "",
                    "",
                    "",
                    "",
                    "",
                    "",
                    "",
                    "",
                    "",
                    "",
                    "",
                    "",
                    "",
                    "",
                    "",
                    "",
                    "",
                    "",
                    "",
                    "",
                    "",
                    "",
                    "",
                    "",
                    "",
                    "",
                    "",
                    "",
                    "",
                    "",
                    "",
                    ""
                  ],
                  "mode": "lines",
                  "y": [
                    559,
                    666,
                    265,
                    353,
                    303,
                    236,
                    311,
                    556,
                    393,
                    210,
                    202,
                    239,
                    243,
                    301,
                    420,
                    348,
                    234,
                    424,
                    270,
                    266,
                    281,
                    453,
                    298,
                    240,
                    371,
                    387,
                    367,
                    342,
                    379,
                    438,
                    275,
                    385,
                    342,
                    290,
                    343,
                    478,
                    363,
                    264,
                    365,
                    356,
                    237,
                    218,
                    218,
                    202,
                    176,
                    195,
                    198,
                    224,
                    296,
                    376,
                    280,
                    216,
                    210,
                    251,
                    195,
                    239,
                    249,
                    327,
                    318,
                    390
                  ],
                  "x": [
                    "2020-02-01T00:00:00Z",
                    "2020-02-02T00:00:00Z",
                    "2020-02-03T00:00:00Z",
                    "2020-02-04T00:00:00Z",
                    "2020-02-05T00:00:00Z",
                    "2020-02-06T00:00:00Z",
                    "2020-02-07T00:00:00Z",
                    "2020-02-08T00:00:00Z",
                    "2020-02-09T00:00:00Z",
                    "2020-02-10T00:00:00Z",
                    "2020-02-11T00:00:00Z",
                    "2020-02-12T00:00:00Z",
                    "2020-02-13T00:00:00Z",
                    "2020-02-14T00:00:00Z",
                    "2020-02-15T00:00:00Z",
                    "2020-02-16T00:00:00Z",
                    "2020-02-17T00:00:00Z",
                    "2020-02-18T00:00:00Z",
                    "2020-02-19T00:00:00Z",
                    "2020-02-20T00:00:00Z",
                    "2020-02-21T00:00:00Z",
                    "2020-02-22T00:00:00Z",
                    "2020-02-23T00:00:00Z",
                    "2020-02-24T00:00:00Z",
                    "2020-02-25T00:00:00Z",
                    "2020-02-26T00:00:00Z",
                    "2020-02-27T00:00:00Z",
                    "2020-02-28T00:00:00Z",
                    "2020-02-29T00:00:00Z",
                    "2020-03-01T00:00:00Z",
                    "2020-03-02T00:00:00Z",
                    "2020-03-03T00:00:00Z",
                    "2020-03-04T00:00:00Z",
                    "2020-03-05T00:00:00Z",
                    "2020-03-06T00:00:00Z",
                    "2020-03-07T00:00:00Z",
                    "2020-03-08T00:00:00Z",
                    "2020-03-09T00:00:00Z",
                    "2020-03-10T00:00:00Z",
                    "2020-03-11T00:00:00Z",
                    "2020-03-12T00:00:00Z",
                    "2020-03-13T00:00:00Z",
                    "2020-03-14T00:00:00Z",
                    "2020-03-15T00:00:00Z",
                    "2020-03-16T00:00:00Z",
                    "2020-03-17T00:00:00Z",
                    "2020-03-18T00:00:00Z",
                    "2020-03-19T00:00:00Z",
                    "2020-03-20T00:00:00Z",
                    "2020-03-21T00:00:00Z",
                    "2020-03-22T00:00:00Z",
                    "2020-03-23T00:00:00Z",
                    "2020-03-24T00:00:00Z",
                    "2020-03-25T00:00:00Z",
                    "2020-03-26T00:00:00Z",
                    "2020-03-27T00:00:00Z",
                    "2020-03-28T00:00:00Z",
                    "2020-03-29T00:00:00Z",
                    "2020-03-30T00:00:00Z",
                    "2020-03-31T00:00:00Z"
                  ],
                  "line": {
                    "color": "orange"
                  },
                  "type": "scatter"
                }
              ],
              "config": {
                "plotlyServerURL": "https://plot.ly"
              },
              "layout": {
                "xaxis": {
                  "title": {
                    "text": "Time"
                  }
                },
                "yaxis": {
                  "title": {
                    "text": "Count"
                  }
                },
                "annotations": [
                  {
                    "xref": "x",
                    "arrowhead": 7,
                    "yref": "y",
                    "text": "School closures",
                    "y": 218,
                    "x": "2020-03-13T00:00:00Z",
                    "ay": -150,
                    "ax": 0,
                    "showarrow": true
                  },
                  {
                    "xref": "x",
                    "arrowhead": 7,
                    "yref": "y",
                    "text": "National Lockdown",
                    "y": 280,
                    "x": "2020-03-22T00:00:00Z",
                    "ay": -150,
                    "ax": 0,
                    "showarrow": true
                  }
                ],
                "template": {
                  "layout": {
                    "shapedefaults": {
                      "line": {
                        "color": "#2a3f5f"
                      }
                    },
                    "polar": {
                      "radialaxis": {
                        "ticks": "",
                        "gridcolor": "white",
                        "linecolor": "white"
                      },
                      "bgcolor": "#E5ECF6",
                      "angularaxis": {
                        "ticks": "",
                        "gridcolor": "white",
                        "linecolor": "white"
                      }
                    },
                    "colorway": [
                      "#636efa",
                      "#EF553B",
                      "#00cc96",
                      "#ab63fa",
                      "#FFA15A",
                      "#19d3f3",
                      "#FF6692",
                      "#B6E880",
                      "#FF97FF",
                      "#FECB52"
                    ],
                    "xaxis": {
                      "automargin": true,
                      "zerolinewidth": 2,
                      "ticks": "",
                      "zerolinecolor": "white",
                      "gridcolor": "white",
                      "linecolor": "white"
                    },
                    "colorscale": {
                      "diverging": [
                        [
                          0,
                          "#8e0152"
                        ],
                        [
                          0.1,
                          "#c51b7d"
                        ],
                        [
                          0.2,
                          "#de77ae"
                        ],
                        [
                          0.3,
                          "#f1b6da"
                        ],
                        [
                          0.4,
                          "#fde0ef"
                        ],
                        [
                          0.5,
                          "#f7f7f7"
                        ],
                        [
                          0.6,
                          "#e6f5d0"
                        ],
                        [
                          0.7,
                          "#b8e186"
                        ],
                        [
                          0.8,
                          "#7fbc41"
                        ],
                        [
                          0.9,
                          "#4d9221"
                        ],
                        [
                          1,
                          "#276419"
                        ]
                      ],
                      "sequential": [
                        [
                          0,
                          "#0d0887"
                        ],
                        [
                          0.1111111111111111,
                          "#46039f"
                        ],
                        [
                          0.22222222222222221,
                          "#7201a8"
                        ],
                        [
                          0.33333333333333331,
                          "#9c179e"
                        ],
                        [
                          0.44444444444444442,
                          "#bd3786"
                        ],
                        [
                          0.55555555555555558,
                          "#d8576b"
                        ],
                        [
                          0.66666666666666663,
                          "#ed7953"
                        ],
                        [
                          0.77777777777777779,
                          "#fb9f3a"
                        ],
                        [
                          0.88888888888888884,
                          "#fdca26"
                        ],
                        [
                          1,
                          "#f0f921"
                        ]
                      ],
                      "sequentialminus": [
                        [
                          0,
                          "#0d0887"
                        ],
                        [
                          0.1111111111111111,
                          "#46039f"
                        ],
                        [
                          0.22222222222222221,
                          "#7201a8"
                        ],
                        [
                          0.33333333333333331,
                          "#9c179e"
                        ],
                        [
                          0.44444444444444442,
                          "#bd3786"
                        ],
                        [
                          0.55555555555555558,
                          "#d8576b"
                        ],
                        [
                          0.66666666666666663,
                          "#ed7953"
                        ],
                        [
                          0.77777777777777779,
                          "#fb9f3a"
                        ],
                        [
                          0.88888888888888884,
                          "#fdca26"
                        ],
                        [
                          1,
                          "#f0f921"
                        ]
                      ]
                    },
                    "paper_bgcolor": "white",
                    "plot_bgcolor": "#E5ECF6",
                    "title": {
                      "x": 0.05
                    },
                    "scene": {
                      "zaxis": {
                        "backgroundcolor": "#E5ECF6",
                        "ticks": "",
                        "gridwidth": 2,
                        "showbackground": true,
                        "zerolinecolor": "white",
                        "gridcolor": "white",
                        "linecolor": "white"
                      },
                      "xaxis": {
                        "backgroundcolor": "#E5ECF6",
                        "ticks": "",
                        "gridwidth": 2,
                        "showbackground": true,
                        "zerolinecolor": "white",
                        "gridcolor": "white",
                        "linecolor": "white"
                      },
                      "yaxis": {
                        "backgroundcolor": "#E5ECF6",
                        "ticks": "",
                        "gridwidth": 2,
                        "showbackground": true,
                        "zerolinecolor": "white",
                        "gridcolor": "white",
                        "linecolor": "white"
                      }
                    },
                    "yaxis": {
                      "automargin": true,
                      "zerolinewidth": 2,
                      "ticks": "",
                      "zerolinecolor": "white",
                      "gridcolor": "white",
                      "linecolor": "white"
                    },
                    "hoverlabel": {
                      "align": "left"
                    },
                    "ternary": {
                      "bgcolor": "#E5ECF6",
                      "baxis": {
                        "ticks": "",
                        "gridcolor": "white",
                        "linecolor": "white"
                      },
                      "caxis": {
                        "ticks": "",
                        "gridcolor": "white",
                        "linecolor": "white"
                      },
                      "aaxis": {
                        "ticks": "",
                        "gridcolor": "white",
                        "linecolor": "white"
                      }
                    },
                    "mapbox": {
                      "style": "light"
                    },
                    "hovermode": "closest",
                    "font": {
                      "color": "#2a3f5f"
                    },
                    "geo": {
                      "showland": true,
                      "landcolor": "#E5ECF6",
                      "showlakes": true,
                      "bgcolor": "white",
                      "subunitcolor": "white",
                      "lakecolor": "white"
                    },
                    "annotationdefaults": {
                      "arrowwidth": 1,
                      "arrowhead": 0,
                      "arrowcolor": "#2a3f5f"
                    }
                  },
                  "data": {
                    "mesh3d": [
                      {
                        "colorbar": {
                          "outlinewidth": 0,
                          "ticks": ""
                        },
                        "type": "mesh3d"
                      }
                    ],
                    "scattercarpet": [
                      {
                        "marker": {
                          "colorbar": {
                            "outlinewidth": 0,
                            "ticks": ""
                          }
                        },
                        "type": "scattercarpet"
                      }
                    ],
                    "scatterternary": [
                      {
                        "marker": {
                          "colorbar": {
                            "outlinewidth": 0,
                            "ticks": ""
                          }
                        },
                        "type": "scatterternary"
                      }
                    ],
                    "surface": [
                      {
                        "colorbar": {
                          "outlinewidth": 0,
                          "ticks": ""
                        },
                        "type": "surface",
                        "colorscale": [
                          [
                            0,
                            "#0d0887"
                          ],
                          [
                            0.1111111111111111,
                            "#46039f"
                          ],
                          [
                            0.22222222222222221,
                            "#7201a8"
                          ],
                          [
                            0.33333333333333331,
                            "#9c179e"
                          ],
                          [
                            0.44444444444444442,
                            "#bd3786"
                          ],
                          [
                            0.55555555555555558,
                            "#d8576b"
                          ],
                          [
                            0.66666666666666663,
                            "#ed7953"
                          ],
                          [
                            0.77777777777777779,
                            "#fb9f3a"
                          ],
                          [
                            0.88888888888888884,
                            "#fdca26"
                          ],
                          [
                            1,
                            "#f0f921"
                          ]
                        ]
                      }
                    ],
                    "table": [
                      {
                        "header": {
                          "line": {
                            "color": "white"
                          },
                          "fill": {
                            "color": "#C8D4E3"
                          }
                        },
                        "cells": {
                          "line": {
                            "color": "white"
                          },
                          "fill": {
                            "color": "#EBF0F8"
                          }
                        },
                        "type": "table"
                      }
                    ],
                    "scatterpolargl": [
                      {
                        "marker": {
                          "colorbar": {
                            "outlinewidth": 0,
                            "ticks": ""
                          }
                        },
                        "type": "scatterpolargl"
                      }
                    ],
                    "contour": [
                      {
                        "colorbar": {
                          "outlinewidth": 0,
                          "ticks": ""
                        },
                        "type": "contour",
                        "colorscale": [
                          [
                            0,
                            "#0d0887"
                          ],
                          [
                            0.1111111111111111,
                            "#46039f"
                          ],
                          [
                            0.22222222222222221,
                            "#7201a8"
                          ],
                          [
                            0.33333333333333331,
                            "#9c179e"
                          ],
                          [
                            0.44444444444444442,
                            "#bd3786"
                          ],
                          [
                            0.55555555555555558,
                            "#d8576b"
                          ],
                          [
                            0.66666666666666663,
                            "#ed7953"
                          ],
                          [
                            0.77777777777777779,
                            "#fb9f3a"
                          ],
                          [
                            0.88888888888888884,
                            "#fdca26"
                          ],
                          [
                            1,
                            "#f0f921"
                          ]
                        ]
                      }
                    ],
                    "carpet": [
                      {
                        "type": "carpet",
                        "baxis": {
                          "minorgridcolor": "white",
                          "gridcolor": "white",
                          "linecolor": "white",
                          "endlinecolor": "#2a3f5f",
                          "startlinecolor": "#2a3f5f"
                        },
                        "aaxis": {
                          "minorgridcolor": "white",
                          "gridcolor": "white",
                          "linecolor": "white",
                          "endlinecolor": "#2a3f5f",
                          "startlinecolor": "#2a3f5f"
                        }
                      }
                    ],
                    "contourcarpet": [
                      {
                        "colorbar": {
                          "outlinewidth": 0,
                          "ticks": ""
                        },
                        "type": "contourcarpet"
                      }
                    ],
                    "heatmap": [
                      {
                        "colorbar": {
                          "outlinewidth": 0,
                          "ticks": ""
                        },
                        "type": "heatmap",
                        "colorscale": [
                          [
                            0,
                            "#0d0887"
                          ],
                          [
                            0.1111111111111111,
                            "#46039f"
                          ],
                          [
                            0.22222222222222221,
                            "#7201a8"
                          ],
                          [
                            0.33333333333333331,
                            "#9c179e"
                          ],
                          [
                            0.44444444444444442,
                            "#bd3786"
                          ],
                          [
                            0.55555555555555558,
                            "#d8576b"
                          ],
                          [
                            0.66666666666666663,
                            "#ed7953"
                          ],
                          [
                            0.77777777777777779,
                            "#fb9f3a"
                          ],
                          [
                            0.88888888888888884,
                            "#fdca26"
                          ],
                          [
                            1,
                            "#f0f921"
                          ]
                        ]
                      }
                    ],
                    "scattermapbox": [
                      {
                        "marker": {
                          "colorbar": {
                            "outlinewidth": 0,
                            "ticks": ""
                          }
                        },
                        "type": "scattermapbox"
                      }
                    ],
                    "scatter3d": [
                      {
                        "marker": {
                          "colorbar": {
                            "outlinewidth": 0,
                            "ticks": ""
                          }
                        },
                        "line": {
                          "colorbar": {
                            "outlinewidth": 0,
                            "ticks": ""
                          }
                        },
                        "type": "scatter3d"
                      }
                    ],
                    "scattergl": [
                      {
                        "marker": {
                          "colorbar": {
                            "outlinewidth": 0,
                            "ticks": ""
                          }
                        },
                        "type": "scattergl"
                      }
                    ],
                    "histogram": [
                      {
                        "marker": {
                          "colorbar": {
                            "outlinewidth": 0,
                            "ticks": ""
                          }
                        },
                        "type": "histogram"
                      }
                    ],
                    "heatmapgl": [
                      {
                        "colorbar": {
                          "outlinewidth": 0,
                          "ticks": ""
                        },
                        "type": "heatmapgl",
                        "colorscale": [
                          [
                            0,
                            "#0d0887"
                          ],
                          [
                            0.1111111111111111,
                            "#46039f"
                          ],
                          [
                            0.22222222222222221,
                            "#7201a8"
                          ],
                          [
                            0.33333333333333331,
                            "#9c179e"
                          ],
                          [
                            0.44444444444444442,
                            "#bd3786"
                          ],
                          [
                            0.55555555555555558,
                            "#d8576b"
                          ],
                          [
                            0.66666666666666663,
                            "#ed7953"
                          ],
                          [
                            0.77777777777777779,
                            "#fb9f3a"
                          ],
                          [
                            0.88888888888888884,
                            "#fdca26"
                          ],
                          [
                            1,
                            "#f0f921"
                          ]
                        ]
                      }
                    ],
                    "scatterpolar": [
                      {
                        "marker": {
                          "colorbar": {
                            "outlinewidth": 0,
                            "ticks": ""
                          }
                        },
                        "type": "scatterpolar"
                      }
                    ],
                    "histogram2d": [
                      {
                        "colorbar": {
                          "outlinewidth": 0,
                          "ticks": ""
                        },
                        "type": "histogram2d",
                        "colorscale": [
                          [
                            0,
                            "#0d0887"
                          ],
                          [
                            0.1111111111111111,
                            "#46039f"
                          ],
                          [
                            0.22222222222222221,
                            "#7201a8"
                          ],
                          [
                            0.33333333333333331,
                            "#9c179e"
                          ],
                          [
                            0.44444444444444442,
                            "#bd3786"
                          ],
                          [
                            0.55555555555555558,
                            "#d8576b"
                          ],
                          [
                            0.66666666666666663,
                            "#ed7953"
                          ],
                          [
                            0.77777777777777779,
                            "#fb9f3a"
                          ],
                          [
                            0.88888888888888884,
                            "#fdca26"
                          ],
                          [
                            1,
                            "#f0f921"
                          ]
                        ]
                      }
                    ],
                    "scattergeo": [
                      {
                        "marker": {
                          "colorbar": {
                            "outlinewidth": 0,
                            "ticks": ""
                          }
                        },
                        "type": "scattergeo"
                      }
                    ],
                    "bar": [
                      {
                        "marker": {
                          "line": {
                            "color": "#E5ECF6",
                            "width": 0.5
                          }
                        },
                        "type": "bar",
                        "error_x": {
                          "color": "#2a3f5f"
                        },
                        "error_y": {
                          "color": "#2a3f5f"
                        }
                      }
                    ],
                    "choropleth": [
                      {
                        "colorbar": {
                          "outlinewidth": 0,
                          "ticks": ""
                        },
                        "type": "choropleth"
                      }
                    ],
                    "parcoords": [
                      {
                        "line": {
                          "colorbar": {
                            "outlinewidth": 0,
                            "ticks": ""
                          }
                        },
                        "type": "parcoords"
                      }
                    ],
                    "barpolar": [
                      {
                        "marker": {
                          "line": {
                            "color": "#E5ECF6",
                            "width": 0.5
                          }
                        },
                        "type": "barpolar"
                      }
                    ],
                    "histogram2dcontour": [
                      {
                        "colorbar": {
                          "outlinewidth": 0,
                          "ticks": ""
                        },
                        "type": "histogram2dcontour",
                        "colorscale": [
                          [
                            0,
                            "#0d0887"
                          ],
                          [
                            0.1111111111111111,
                            "#46039f"
                          ],
                          [
                            0.22222222222222221,
                            "#7201a8"
                          ],
                          [
                            0.33333333333333331,
                            "#9c179e"
                          ],
                          [
                            0.44444444444444442,
                            "#bd3786"
                          ],
                          [
                            0.55555555555555558,
                            "#d8576b"
                          ],
                          [
                            0.66666666666666663,
                            "#ed7953"
                          ],
                          [
                            0.77777777777777779,
                            "#fb9f3a"
                          ],
                          [
                            0.88888888888888884,
                            "#fdca26"
                          ],
                          [
                            1,
                            "#f0f921"
                          ]
                        ]
                      }
                    ],
                    "scatter": [
                      {
                        "marker": {
                          "colorbar": {
                            "outlinewidth": 0,
                            "ticks": ""
                          }
                        },
                        "type": "scatter"
                      }
                    ]
                  }
                },
                "title": {
                  "text": "Daily registrations - Germany"
                }
              }
            }
          },
          "metadata": {}
        },
        {
          "output_type": "display_data",
          "data": {
            "text/html": "<div>\n        \n        \n            <div id=\"8fcd9cba-acd4-4456-b6ad-2afa312829d0\" class=\"plotly-graph-div\" style=\"height:525px; width:100%;\"></div>\n            <script type=\"text/javascript\">\n                require([\"plotly\"], function(Plotly) {\n                    window.PLOTLYENV=window.PLOTLYENV || {};\n                    \n                if (document.getElementById(\"8fcd9cba-acd4-4456-b6ad-2afa312829d0\")) {\n                    Plotly.newPlot(\n                        '8fcd9cba-acd4-4456-b6ad-2afa312829d0',\n                        [{\"line\": {\"color\": \"green\"}, \"mode\": \"lines\", \"name\": \"ITA\", \"text\": [\"\", \"\", \"\", \"\", \"\", \"\", \"\", \"\", \"\", \"\", \"\", \"\", \"\", \"\", \"\", \"\", \"\", \"\", \"\", \"\", \"\", \"\", \"\", \"\", \"\", \"\", \"\", \"\", \"\", \"\", \"\", \"\", \"\", \"\", \"\", \"\", \"\", \"\", \"\", \"\", \"\", \"\", \"\", \"\", \"\", \"\", \"\", \"\", \"\", \"\", \"\", \"\", \"\", \"\", \"\", \"\", \"\", \"\", \"\", \"\"], \"textposition\": \"top center\", \"type\": \"scatter\", \"x\": [\"2020-02-01T00:00:00Z\", \"2020-02-02T00:00:00Z\", \"2020-02-03T00:00:00Z\", \"2020-02-04T00:00:00Z\", \"2020-02-05T00:00:00Z\", \"2020-02-06T00:00:00Z\", \"2020-02-07T00:00:00Z\", \"2020-02-08T00:00:00Z\", \"2020-02-09T00:00:00Z\", \"2020-02-10T00:00:00Z\", \"2020-02-11T00:00:00Z\", \"2020-02-12T00:00:00Z\", \"2020-02-13T00:00:00Z\", \"2020-02-14T00:00:00Z\", \"2020-02-15T00:00:00Z\", \"2020-02-16T00:00:00Z\", \"2020-02-17T00:00:00Z\", \"2020-02-18T00:00:00Z\", \"2020-02-19T00:00:00Z\", \"2020-02-20T00:00:00Z\", \"2020-02-21T00:00:00Z\", \"2020-02-22T00:00:00Z\", \"2020-02-23T00:00:00Z\", \"2020-02-24T00:00:00Z\", \"2020-02-25T00:00:00Z\", \"2020-02-26T00:00:00Z\", \"2020-02-27T00:00:00Z\", \"2020-02-28T00:00:00Z\", \"2020-02-29T00:00:00Z\", \"2020-03-01T00:00:00Z\", \"2020-03-02T00:00:00Z\", \"2020-03-03T00:00:00Z\", \"2020-03-04T00:00:00Z\", \"2020-03-05T00:00:00Z\", \"2020-03-06T00:00:00Z\", \"2020-03-07T00:00:00Z\", \"2020-03-08T00:00:00Z\", \"2020-03-09T00:00:00Z\", \"2020-03-10T00:00:00Z\", \"2020-03-11T00:00:00Z\", \"2020-03-12T00:00:00Z\", \"2020-03-13T00:00:00Z\", \"2020-03-14T00:00:00Z\", \"2020-03-15T00:00:00Z\", \"2020-03-16T00:00:00Z\", \"2020-03-17T00:00:00Z\", \"2020-03-18T00:00:00Z\", \"2020-03-19T00:00:00Z\", \"2020-03-20T00:00:00Z\", \"2020-03-21T00:00:00Z\", \"2020-03-22T00:00:00Z\", \"2020-03-23T00:00:00Z\", \"2020-03-24T00:00:00Z\", \"2020-03-25T00:00:00Z\", \"2020-03-26T00:00:00Z\", \"2020-03-27T00:00:00Z\", \"2020-03-28T00:00:00Z\", \"2020-03-29T00:00:00Z\", \"2020-03-30T00:00:00Z\", \"2020-03-31T00:00:00Z\"], \"y\": [68, 96, 103, 82, 114, 89, 92, 100, 88, 105, 83, 103, 76, 85, 105, 86, 86, 104, 88, 80, 95, 75, 66, 75, 80, 115, 91, 87, 87, 74, 78, 93, 62, 76, 87, 74, 100, 72, 109, 97, 102, 102, 95, 96, 88, 146, 122, 127, 108, 111, 97, 75, 69, 114, 79, 99, 91, 77, 94, 56]}],\n                        {\"annotations\": [{\"arrowhead\": 7, \"ax\": 0, \"ay\": -150, \"showarrow\": true, \"text\": \"Lombardy Lockdown\", \"x\": \"2020-02-21T00:00:00Z\", \"xref\": \"x\", \"y\": 95, \"yref\": \"y\"}, {\"arrowhead\": 7, \"ax\": 0, \"ay\": -150, \"showarrow\": true, \"text\": \"School closures\", \"x\": \"2020-03-04T00:00:00Z\", \"xref\": \"x\", \"y\": 62, \"yref\": \"y\"}, {\"arrowhead\": 7, \"ax\": 0, \"ay\": -150, \"showarrow\": true, \"text\": \"Northern Italy Lockdown\", \"x\": \"2020-03-08T00:00:00Z\", \"xref\": \"x\", \"y\": 100, \"yref\": \"y\"}, {\"arrowhead\": 7, \"ax\": 0, \"ay\": 30, \"showarrow\": true, \"text\": \"National Lockdown\", \"x\": \"2020-03-09T00:00:00Z\", \"xref\": \"x\", \"y\": 72, \"yref\": \"y\"}], \"template\": {\"data\": {\"bar\": [{\"error_x\": {\"color\": \"#2a3f5f\"}, \"error_y\": {\"color\": \"#2a3f5f\"}, \"marker\": {\"line\": {\"color\": \"#E5ECF6\", \"width\": 0.5}}, \"type\": \"bar\"}], \"barpolar\": [{\"marker\": {\"line\": {\"color\": \"#E5ECF6\", \"width\": 0.5}}, \"type\": \"barpolar\"}], \"carpet\": [{\"aaxis\": {\"endlinecolor\": \"#2a3f5f\", \"gridcolor\": \"white\", \"linecolor\": \"white\", \"minorgridcolor\": \"white\", \"startlinecolor\": \"#2a3f5f\"}, \"baxis\": {\"endlinecolor\": \"#2a3f5f\", \"gridcolor\": \"white\", \"linecolor\": \"white\", \"minorgridcolor\": \"white\", \"startlinecolor\": \"#2a3f5f\"}, \"type\": \"carpet\"}], \"choropleth\": [{\"colorbar\": {\"outlinewidth\": 0, \"ticks\": \"\"}, \"type\": \"choropleth\"}], \"contour\": [{\"colorbar\": {\"outlinewidth\": 0, \"ticks\": \"\"}, \"colorscale\": [[0.0, \"#0d0887\"], [0.1111111111111111, \"#46039f\"], [0.2222222222222222, \"#7201a8\"], [0.3333333333333333, \"#9c179e\"], [0.4444444444444444, \"#bd3786\"], [0.5555555555555556, \"#d8576b\"], [0.6666666666666666, \"#ed7953\"], [0.7777777777777778, \"#fb9f3a\"], [0.8888888888888888, \"#fdca26\"], [1.0, \"#f0f921\"]], \"type\": \"contour\"}], \"contourcarpet\": [{\"colorbar\": {\"outlinewidth\": 0, \"ticks\": \"\"}, \"type\": \"contourcarpet\"}], \"heatmap\": [{\"colorbar\": {\"outlinewidth\": 0, \"ticks\": \"\"}, \"colorscale\": [[0.0, \"#0d0887\"], [0.1111111111111111, \"#46039f\"], [0.2222222222222222, \"#7201a8\"], [0.3333333333333333, \"#9c179e\"], [0.4444444444444444, \"#bd3786\"], [0.5555555555555556, \"#d8576b\"], [0.6666666666666666, \"#ed7953\"], [0.7777777777777778, \"#fb9f3a\"], [0.8888888888888888, \"#fdca26\"], [1.0, \"#f0f921\"]], \"type\": \"heatmap\"}], \"heatmapgl\": [{\"colorbar\": {\"outlinewidth\": 0, \"ticks\": \"\"}, \"colorscale\": [[0.0, \"#0d0887\"], [0.1111111111111111, \"#46039f\"], [0.2222222222222222, \"#7201a8\"], [0.3333333333333333, \"#9c179e\"], [0.4444444444444444, \"#bd3786\"], [0.5555555555555556, \"#d8576b\"], [0.6666666666666666, \"#ed7953\"], [0.7777777777777778, \"#fb9f3a\"], [0.8888888888888888, \"#fdca26\"], [1.0, \"#f0f921\"]], \"type\": \"heatmapgl\"}], \"histogram\": [{\"marker\": {\"colorbar\": {\"outlinewidth\": 0, \"ticks\": \"\"}}, \"type\": \"histogram\"}], \"histogram2d\": [{\"colorbar\": {\"outlinewidth\": 0, \"ticks\": \"\"}, \"colorscale\": [[0.0, \"#0d0887\"], [0.1111111111111111, \"#46039f\"], [0.2222222222222222, \"#7201a8\"], [0.3333333333333333, \"#9c179e\"], [0.4444444444444444, \"#bd3786\"], [0.5555555555555556, \"#d8576b\"], [0.6666666666666666, \"#ed7953\"], [0.7777777777777778, \"#fb9f3a\"], [0.8888888888888888, \"#fdca26\"], [1.0, \"#f0f921\"]], \"type\": \"histogram2d\"}], \"histogram2dcontour\": [{\"colorbar\": {\"outlinewidth\": 0, \"ticks\": \"\"}, \"colorscale\": [[0.0, \"#0d0887\"], [0.1111111111111111, \"#46039f\"], [0.2222222222222222, \"#7201a8\"], [0.3333333333333333, \"#9c179e\"], [0.4444444444444444, \"#bd3786\"], [0.5555555555555556, \"#d8576b\"], [0.6666666666666666, \"#ed7953\"], [0.7777777777777778, \"#fb9f3a\"], [0.8888888888888888, \"#fdca26\"], [1.0, \"#f0f921\"]], \"type\": \"histogram2dcontour\"}], \"mesh3d\": [{\"colorbar\": {\"outlinewidth\": 0, \"ticks\": \"\"}, \"type\": \"mesh3d\"}], \"parcoords\": [{\"line\": {\"colorbar\": {\"outlinewidth\": 0, \"ticks\": \"\"}}, \"type\": \"parcoords\"}], \"scatter\": [{\"marker\": {\"colorbar\": {\"outlinewidth\": 0, \"ticks\": \"\"}}, \"type\": \"scatter\"}], \"scatter3d\": [{\"line\": {\"colorbar\": {\"outlinewidth\": 0, \"ticks\": \"\"}}, \"marker\": {\"colorbar\": {\"outlinewidth\": 0, \"ticks\": \"\"}}, \"type\": \"scatter3d\"}], \"scattercarpet\": [{\"marker\": {\"colorbar\": {\"outlinewidth\": 0, \"ticks\": \"\"}}, \"type\": \"scattercarpet\"}], \"scattergeo\": [{\"marker\": {\"colorbar\": {\"outlinewidth\": 0, \"ticks\": \"\"}}, \"type\": \"scattergeo\"}], \"scattergl\": [{\"marker\": {\"colorbar\": {\"outlinewidth\": 0, \"ticks\": \"\"}}, \"type\": \"scattergl\"}], \"scattermapbox\": [{\"marker\": {\"colorbar\": {\"outlinewidth\": 0, \"ticks\": \"\"}}, \"type\": \"scattermapbox\"}], \"scatterpolar\": [{\"marker\": {\"colorbar\": {\"outlinewidth\": 0, \"ticks\": \"\"}}, \"type\": \"scatterpolar\"}], \"scatterpolargl\": [{\"marker\": {\"colorbar\": {\"outlinewidth\": 0, \"ticks\": \"\"}}, \"type\": \"scatterpolargl\"}], \"scatterternary\": [{\"marker\": {\"colorbar\": {\"outlinewidth\": 0, \"ticks\": \"\"}}, \"type\": \"scatterternary\"}], \"surface\": [{\"colorbar\": {\"outlinewidth\": 0, \"ticks\": \"\"}, \"colorscale\": [[0.0, \"#0d0887\"], [0.1111111111111111, \"#46039f\"], [0.2222222222222222, \"#7201a8\"], [0.3333333333333333, \"#9c179e\"], [0.4444444444444444, \"#bd3786\"], [0.5555555555555556, \"#d8576b\"], [0.6666666666666666, \"#ed7953\"], [0.7777777777777778, \"#fb9f3a\"], [0.8888888888888888, \"#fdca26\"], [1.0, \"#f0f921\"]], \"type\": \"surface\"}], \"table\": [{\"cells\": {\"fill\": {\"color\": \"#EBF0F8\"}, \"line\": {\"color\": \"white\"}}, \"header\": {\"fill\": {\"color\": \"#C8D4E3\"}, \"line\": {\"color\": \"white\"}}, \"type\": \"table\"}]}, \"layout\": {\"annotationdefaults\": {\"arrowcolor\": \"#2a3f5f\", \"arrowhead\": 0, \"arrowwidth\": 1}, \"colorscale\": {\"diverging\": [[0, \"#8e0152\"], [0.1, \"#c51b7d\"], [0.2, \"#de77ae\"], [0.3, \"#f1b6da\"], [0.4, \"#fde0ef\"], [0.5, \"#f7f7f7\"], [0.6, \"#e6f5d0\"], [0.7, \"#b8e186\"], [0.8, \"#7fbc41\"], [0.9, \"#4d9221\"], [1, \"#276419\"]], \"sequential\": [[0.0, \"#0d0887\"], [0.1111111111111111, \"#46039f\"], [0.2222222222222222, \"#7201a8\"], [0.3333333333333333, \"#9c179e\"], [0.4444444444444444, \"#bd3786\"], [0.5555555555555556, \"#d8576b\"], [0.6666666666666666, \"#ed7953\"], [0.7777777777777778, \"#fb9f3a\"], [0.8888888888888888, \"#fdca26\"], [1.0, \"#f0f921\"]], \"sequentialminus\": [[0.0, \"#0d0887\"], [0.1111111111111111, \"#46039f\"], [0.2222222222222222, \"#7201a8\"], [0.3333333333333333, \"#9c179e\"], [0.4444444444444444, \"#bd3786\"], [0.5555555555555556, \"#d8576b\"], [0.6666666666666666, \"#ed7953\"], [0.7777777777777778, \"#fb9f3a\"], [0.8888888888888888, \"#fdca26\"], [1.0, \"#f0f921\"]]}, \"colorway\": [\"#636efa\", \"#EF553B\", \"#00cc96\", \"#ab63fa\", \"#FFA15A\", \"#19d3f3\", \"#FF6692\", \"#B6E880\", \"#FF97FF\", \"#FECB52\"], \"font\": {\"color\": \"#2a3f5f\"}, \"geo\": {\"bgcolor\": \"white\", \"lakecolor\": \"white\", \"landcolor\": \"#E5ECF6\", \"showlakes\": true, \"showland\": true, \"subunitcolor\": \"white\"}, \"hoverlabel\": {\"align\": \"left\"}, \"hovermode\": \"closest\", \"mapbox\": {\"style\": \"light\"}, \"paper_bgcolor\": \"white\", \"plot_bgcolor\": \"#E5ECF6\", \"polar\": {\"angularaxis\": {\"gridcolor\": \"white\", \"linecolor\": \"white\", \"ticks\": \"\"}, \"bgcolor\": \"#E5ECF6\", \"radialaxis\": {\"gridcolor\": \"white\", \"linecolor\": \"white\", \"ticks\": \"\"}}, \"scene\": {\"xaxis\": {\"backgroundcolor\": \"#E5ECF6\", \"gridcolor\": \"white\", \"gridwidth\": 2, \"linecolor\": \"white\", \"showbackground\": true, \"ticks\": \"\", \"zerolinecolor\": \"white\"}, \"yaxis\": {\"backgroundcolor\": \"#E5ECF6\", \"gridcolor\": \"white\", \"gridwidth\": 2, \"linecolor\": \"white\", \"showbackground\": true, \"ticks\": \"\", \"zerolinecolor\": \"white\"}, \"zaxis\": {\"backgroundcolor\": \"#E5ECF6\", \"gridcolor\": \"white\", \"gridwidth\": 2, \"linecolor\": \"white\", \"showbackground\": true, \"ticks\": \"\", \"zerolinecolor\": \"white\"}}, \"shapedefaults\": {\"line\": {\"color\": \"#2a3f5f\"}}, \"ternary\": {\"aaxis\": {\"gridcolor\": \"white\", \"linecolor\": \"white\", \"ticks\": \"\"}, \"baxis\": {\"gridcolor\": \"white\", \"linecolor\": \"white\", \"ticks\": \"\"}, \"bgcolor\": \"#E5ECF6\", \"caxis\": {\"gridcolor\": \"white\", \"linecolor\": \"white\", \"ticks\": \"\"}}, \"title\": {\"x\": 0.05}, \"xaxis\": {\"automargin\": true, \"gridcolor\": \"white\", \"linecolor\": \"white\", \"ticks\": \"\", \"zerolinecolor\": \"white\", \"zerolinewidth\": 2}, \"yaxis\": {\"automargin\": true, \"gridcolor\": \"white\", \"linecolor\": \"white\", \"ticks\": \"\", \"zerolinecolor\": \"white\", \"zerolinewidth\": 2}}}, \"title\": {\"text\": \"Daily registrations - Italy\"}, \"xaxis\": {\"title\": {\"text\": \"Time\"}}, \"yaxis\": {\"title\": {\"text\": \"Count\"}}},\n                        {\"responsive\": true}\n                    ).then(function(){\n                            \nvar gd = document.getElementById('8fcd9cba-acd4-4456-b6ad-2afa312829d0');\nvar x = new MutationObserver(function (mutations, observer) {{\n        var display = window.getComputedStyle(gd).display;\n        if (!display || display === 'none') {{\n            console.log([gd, 'removed!']);\n            Plotly.purge(gd);\n            observer.disconnect();\n        }}\n}});\n\n// Listen for the removal of the full notebook cells\nvar notebookContainer = gd.closest('#notebook-container');\nif (notebookContainer) {{\n    x.observe(notebookContainer, {childList: true});\n}}\n\n// Listen for the clearing of the current output cell\nvar outputEl = gd.closest('.output');\nif (outputEl) {{\n    x.observe(outputEl, {childList: true});\n}}\n\n                        })\n                };\n                });\n            </script>\n        </div>",
            "application/vnd.plotly.v1+json": {
              "data": [
                {
                  "textposition": "top center",
                  "name": "ITA",
                  "text": [
                    "",
                    "",
                    "",
                    "",
                    "",
                    "",
                    "",
                    "",
                    "",
                    "",
                    "",
                    "",
                    "",
                    "",
                    "",
                    "",
                    "",
                    "",
                    "",
                    "",
                    "",
                    "",
                    "",
                    "",
                    "",
                    "",
                    "",
                    "",
                    "",
                    "",
                    "",
                    "",
                    "",
                    "",
                    "",
                    "",
                    "",
                    "",
                    "",
                    "",
                    "",
                    "",
                    "",
                    "",
                    "",
                    "",
                    "",
                    "",
                    "",
                    "",
                    "",
                    "",
                    "",
                    "",
                    "",
                    "",
                    "",
                    "",
                    "",
                    ""
                  ],
                  "mode": "lines",
                  "y": [
                    68,
                    96,
                    103,
                    82,
                    114,
                    89,
                    92,
                    100,
                    88,
                    105,
                    83,
                    103,
                    76,
                    85,
                    105,
                    86,
                    86,
                    104,
                    88,
                    80,
                    95,
                    75,
                    66,
                    75,
                    80,
                    115,
                    91,
                    87,
                    87,
                    74,
                    78,
                    93,
                    62,
                    76,
                    87,
                    74,
                    100,
                    72,
                    109,
                    97,
                    102,
                    102,
                    95,
                    96,
                    88,
                    146,
                    122,
                    127,
                    108,
                    111,
                    97,
                    75,
                    69,
                    114,
                    79,
                    99,
                    91,
                    77,
                    94,
                    56
                  ],
                  "x": [
                    "2020-02-01T00:00:00Z",
                    "2020-02-02T00:00:00Z",
                    "2020-02-03T00:00:00Z",
                    "2020-02-04T00:00:00Z",
                    "2020-02-05T00:00:00Z",
                    "2020-02-06T00:00:00Z",
                    "2020-02-07T00:00:00Z",
                    "2020-02-08T00:00:00Z",
                    "2020-02-09T00:00:00Z",
                    "2020-02-10T00:00:00Z",
                    "2020-02-11T00:00:00Z",
                    "2020-02-12T00:00:00Z",
                    "2020-02-13T00:00:00Z",
                    "2020-02-14T00:00:00Z",
                    "2020-02-15T00:00:00Z",
                    "2020-02-16T00:00:00Z",
                    "2020-02-17T00:00:00Z",
                    "2020-02-18T00:00:00Z",
                    "2020-02-19T00:00:00Z",
                    "2020-02-20T00:00:00Z",
                    "2020-02-21T00:00:00Z",
                    "2020-02-22T00:00:00Z",
                    "2020-02-23T00:00:00Z",
                    "2020-02-24T00:00:00Z",
                    "2020-02-25T00:00:00Z",
                    "2020-02-26T00:00:00Z",
                    "2020-02-27T00:00:00Z",
                    "2020-02-28T00:00:00Z",
                    "2020-02-29T00:00:00Z",
                    "2020-03-01T00:00:00Z",
                    "2020-03-02T00:00:00Z",
                    "2020-03-03T00:00:00Z",
                    "2020-03-04T00:00:00Z",
                    "2020-03-05T00:00:00Z",
                    "2020-03-06T00:00:00Z",
                    "2020-03-07T00:00:00Z",
                    "2020-03-08T00:00:00Z",
                    "2020-03-09T00:00:00Z",
                    "2020-03-10T00:00:00Z",
                    "2020-03-11T00:00:00Z",
                    "2020-03-12T00:00:00Z",
                    "2020-03-13T00:00:00Z",
                    "2020-03-14T00:00:00Z",
                    "2020-03-15T00:00:00Z",
                    "2020-03-16T00:00:00Z",
                    "2020-03-17T00:00:00Z",
                    "2020-03-18T00:00:00Z",
                    "2020-03-19T00:00:00Z",
                    "2020-03-20T00:00:00Z",
                    "2020-03-21T00:00:00Z",
                    "2020-03-22T00:00:00Z",
                    "2020-03-23T00:00:00Z",
                    "2020-03-24T00:00:00Z",
                    "2020-03-25T00:00:00Z",
                    "2020-03-26T00:00:00Z",
                    "2020-03-27T00:00:00Z",
                    "2020-03-28T00:00:00Z",
                    "2020-03-29T00:00:00Z",
                    "2020-03-30T00:00:00Z",
                    "2020-03-31T00:00:00Z"
                  ],
                  "line": {
                    "color": "green"
                  },
                  "type": "scatter"
                }
              ],
              "config": {
                "plotlyServerURL": "https://plot.ly"
              },
              "layout": {
                "xaxis": {
                  "title": {
                    "text": "Time"
                  }
                },
                "yaxis": {
                  "title": {
                    "text": "Count"
                  }
                },
                "annotations": [
                  {
                    "xref": "x",
                    "arrowhead": 7,
                    "yref": "y",
                    "text": "Lombardy Lockdown",
                    "y": 95,
                    "x": "2020-02-21T00:00:00Z",
                    "ay": -150,
                    "ax": 0,
                    "showarrow": true
                  },
                  {
                    "xref": "x",
                    "arrowhead": 7,
                    "yref": "y",
                    "text": "School closures",
                    "y": 62,
                    "x": "2020-03-04T00:00:00Z",
                    "ay": -150,
                    "ax": 0,
                    "showarrow": true
                  },
                  {
                    "xref": "x",
                    "arrowhead": 7,
                    "yref": "y",
                    "text": "Northern Italy Lockdown",
                    "y": 100,
                    "x": "2020-03-08T00:00:00Z",
                    "ay": -150,
                    "ax": 0,
                    "showarrow": true
                  },
                  {
                    "xref": "x",
                    "arrowhead": 7,
                    "yref": "y",
                    "text": "National Lockdown",
                    "y": 72,
                    "x": "2020-03-09T00:00:00Z",
                    "ay": 30,
                    "ax": 0,
                    "showarrow": true
                  }
                ],
                "template": {
                  "layout": {
                    "shapedefaults": {
                      "line": {
                        "color": "#2a3f5f"
                      }
                    },
                    "polar": {
                      "radialaxis": {
                        "ticks": "",
                        "gridcolor": "white",
                        "linecolor": "white"
                      },
                      "bgcolor": "#E5ECF6",
                      "angularaxis": {
                        "ticks": "",
                        "gridcolor": "white",
                        "linecolor": "white"
                      }
                    },
                    "colorway": [
                      "#636efa",
                      "#EF553B",
                      "#00cc96",
                      "#ab63fa",
                      "#FFA15A",
                      "#19d3f3",
                      "#FF6692",
                      "#B6E880",
                      "#FF97FF",
                      "#FECB52"
                    ],
                    "xaxis": {
                      "automargin": true,
                      "zerolinewidth": 2,
                      "ticks": "",
                      "zerolinecolor": "white",
                      "gridcolor": "white",
                      "linecolor": "white"
                    },
                    "colorscale": {
                      "diverging": [
                        [
                          0,
                          "#8e0152"
                        ],
                        [
                          0.1,
                          "#c51b7d"
                        ],
                        [
                          0.2,
                          "#de77ae"
                        ],
                        [
                          0.3,
                          "#f1b6da"
                        ],
                        [
                          0.4,
                          "#fde0ef"
                        ],
                        [
                          0.5,
                          "#f7f7f7"
                        ],
                        [
                          0.6,
                          "#e6f5d0"
                        ],
                        [
                          0.7,
                          "#b8e186"
                        ],
                        [
                          0.8,
                          "#7fbc41"
                        ],
                        [
                          0.9,
                          "#4d9221"
                        ],
                        [
                          1,
                          "#276419"
                        ]
                      ],
                      "sequential": [
                        [
                          0,
                          "#0d0887"
                        ],
                        [
                          0.1111111111111111,
                          "#46039f"
                        ],
                        [
                          0.22222222222222221,
                          "#7201a8"
                        ],
                        [
                          0.33333333333333331,
                          "#9c179e"
                        ],
                        [
                          0.44444444444444442,
                          "#bd3786"
                        ],
                        [
                          0.55555555555555558,
                          "#d8576b"
                        ],
                        [
                          0.66666666666666663,
                          "#ed7953"
                        ],
                        [
                          0.77777777777777779,
                          "#fb9f3a"
                        ],
                        [
                          0.88888888888888884,
                          "#fdca26"
                        ],
                        [
                          1,
                          "#f0f921"
                        ]
                      ],
                      "sequentialminus": [
                        [
                          0,
                          "#0d0887"
                        ],
                        [
                          0.1111111111111111,
                          "#46039f"
                        ],
                        [
                          0.22222222222222221,
                          "#7201a8"
                        ],
                        [
                          0.33333333333333331,
                          "#9c179e"
                        ],
                        [
                          0.44444444444444442,
                          "#bd3786"
                        ],
                        [
                          0.55555555555555558,
                          "#d8576b"
                        ],
                        [
                          0.66666666666666663,
                          "#ed7953"
                        ],
                        [
                          0.77777777777777779,
                          "#fb9f3a"
                        ],
                        [
                          0.88888888888888884,
                          "#fdca26"
                        ],
                        [
                          1,
                          "#f0f921"
                        ]
                      ]
                    },
                    "paper_bgcolor": "white",
                    "plot_bgcolor": "#E5ECF6",
                    "title": {
                      "x": 0.05
                    },
                    "scene": {
                      "zaxis": {
                        "backgroundcolor": "#E5ECF6",
                        "ticks": "",
                        "gridwidth": 2,
                        "showbackground": true,
                        "zerolinecolor": "white",
                        "gridcolor": "white",
                        "linecolor": "white"
                      },
                      "xaxis": {
                        "backgroundcolor": "#E5ECF6",
                        "ticks": "",
                        "gridwidth": 2,
                        "showbackground": true,
                        "zerolinecolor": "white",
                        "gridcolor": "white",
                        "linecolor": "white"
                      },
                      "yaxis": {
                        "backgroundcolor": "#E5ECF6",
                        "ticks": "",
                        "gridwidth": 2,
                        "showbackground": true,
                        "zerolinecolor": "white",
                        "gridcolor": "white",
                        "linecolor": "white"
                      }
                    },
                    "yaxis": {
                      "automargin": true,
                      "zerolinewidth": 2,
                      "ticks": "",
                      "zerolinecolor": "white",
                      "gridcolor": "white",
                      "linecolor": "white"
                    },
                    "hoverlabel": {
                      "align": "left"
                    },
                    "ternary": {
                      "bgcolor": "#E5ECF6",
                      "baxis": {
                        "ticks": "",
                        "gridcolor": "white",
                        "linecolor": "white"
                      },
                      "caxis": {
                        "ticks": "",
                        "gridcolor": "white",
                        "linecolor": "white"
                      },
                      "aaxis": {
                        "ticks": "",
                        "gridcolor": "white",
                        "linecolor": "white"
                      }
                    },
                    "mapbox": {
                      "style": "light"
                    },
                    "hovermode": "closest",
                    "font": {
                      "color": "#2a3f5f"
                    },
                    "geo": {
                      "showland": true,
                      "landcolor": "#E5ECF6",
                      "showlakes": true,
                      "bgcolor": "white",
                      "subunitcolor": "white",
                      "lakecolor": "white"
                    },
                    "annotationdefaults": {
                      "arrowwidth": 1,
                      "arrowhead": 0,
                      "arrowcolor": "#2a3f5f"
                    }
                  },
                  "data": {
                    "mesh3d": [
                      {
                        "colorbar": {
                          "outlinewidth": 0,
                          "ticks": ""
                        },
                        "type": "mesh3d"
                      }
                    ],
                    "scattercarpet": [
                      {
                        "marker": {
                          "colorbar": {
                            "outlinewidth": 0,
                            "ticks": ""
                          }
                        },
                        "type": "scattercarpet"
                      }
                    ],
                    "scatterternary": [
                      {
                        "marker": {
                          "colorbar": {
                            "outlinewidth": 0,
                            "ticks": ""
                          }
                        },
                        "type": "scatterternary"
                      }
                    ],
                    "surface": [
                      {
                        "colorbar": {
                          "outlinewidth": 0,
                          "ticks": ""
                        },
                        "type": "surface",
                        "colorscale": [
                          [
                            0,
                            "#0d0887"
                          ],
                          [
                            0.1111111111111111,
                            "#46039f"
                          ],
                          [
                            0.22222222222222221,
                            "#7201a8"
                          ],
                          [
                            0.33333333333333331,
                            "#9c179e"
                          ],
                          [
                            0.44444444444444442,
                            "#bd3786"
                          ],
                          [
                            0.55555555555555558,
                            "#d8576b"
                          ],
                          [
                            0.66666666666666663,
                            "#ed7953"
                          ],
                          [
                            0.77777777777777779,
                            "#fb9f3a"
                          ],
                          [
                            0.88888888888888884,
                            "#fdca26"
                          ],
                          [
                            1,
                            "#f0f921"
                          ]
                        ]
                      }
                    ],
                    "table": [
                      {
                        "header": {
                          "line": {
                            "color": "white"
                          },
                          "fill": {
                            "color": "#C8D4E3"
                          }
                        },
                        "cells": {
                          "line": {
                            "color": "white"
                          },
                          "fill": {
                            "color": "#EBF0F8"
                          }
                        },
                        "type": "table"
                      }
                    ],
                    "scatterpolargl": [
                      {
                        "marker": {
                          "colorbar": {
                            "outlinewidth": 0,
                            "ticks": ""
                          }
                        },
                        "type": "scatterpolargl"
                      }
                    ],
                    "contour": [
                      {
                        "colorbar": {
                          "outlinewidth": 0,
                          "ticks": ""
                        },
                        "type": "contour",
                        "colorscale": [
                          [
                            0,
                            "#0d0887"
                          ],
                          [
                            0.1111111111111111,
                            "#46039f"
                          ],
                          [
                            0.22222222222222221,
                            "#7201a8"
                          ],
                          [
                            0.33333333333333331,
                            "#9c179e"
                          ],
                          [
                            0.44444444444444442,
                            "#bd3786"
                          ],
                          [
                            0.55555555555555558,
                            "#d8576b"
                          ],
                          [
                            0.66666666666666663,
                            "#ed7953"
                          ],
                          [
                            0.77777777777777779,
                            "#fb9f3a"
                          ],
                          [
                            0.88888888888888884,
                            "#fdca26"
                          ],
                          [
                            1,
                            "#f0f921"
                          ]
                        ]
                      }
                    ],
                    "carpet": [
                      {
                        "type": "carpet",
                        "baxis": {
                          "minorgridcolor": "white",
                          "gridcolor": "white",
                          "linecolor": "white",
                          "endlinecolor": "#2a3f5f",
                          "startlinecolor": "#2a3f5f"
                        },
                        "aaxis": {
                          "minorgridcolor": "white",
                          "gridcolor": "white",
                          "linecolor": "white",
                          "endlinecolor": "#2a3f5f",
                          "startlinecolor": "#2a3f5f"
                        }
                      }
                    ],
                    "contourcarpet": [
                      {
                        "colorbar": {
                          "outlinewidth": 0,
                          "ticks": ""
                        },
                        "type": "contourcarpet"
                      }
                    ],
                    "heatmap": [
                      {
                        "colorbar": {
                          "outlinewidth": 0,
                          "ticks": ""
                        },
                        "type": "heatmap",
                        "colorscale": [
                          [
                            0,
                            "#0d0887"
                          ],
                          [
                            0.1111111111111111,
                            "#46039f"
                          ],
                          [
                            0.22222222222222221,
                            "#7201a8"
                          ],
                          [
                            0.33333333333333331,
                            "#9c179e"
                          ],
                          [
                            0.44444444444444442,
                            "#bd3786"
                          ],
                          [
                            0.55555555555555558,
                            "#d8576b"
                          ],
                          [
                            0.66666666666666663,
                            "#ed7953"
                          ],
                          [
                            0.77777777777777779,
                            "#fb9f3a"
                          ],
                          [
                            0.88888888888888884,
                            "#fdca26"
                          ],
                          [
                            1,
                            "#f0f921"
                          ]
                        ]
                      }
                    ],
                    "scattermapbox": [
                      {
                        "marker": {
                          "colorbar": {
                            "outlinewidth": 0,
                            "ticks": ""
                          }
                        },
                        "type": "scattermapbox"
                      }
                    ],
                    "scatter3d": [
                      {
                        "marker": {
                          "colorbar": {
                            "outlinewidth": 0,
                            "ticks": ""
                          }
                        },
                        "line": {
                          "colorbar": {
                            "outlinewidth": 0,
                            "ticks": ""
                          }
                        },
                        "type": "scatter3d"
                      }
                    ],
                    "scattergl": [
                      {
                        "marker": {
                          "colorbar": {
                            "outlinewidth": 0,
                            "ticks": ""
                          }
                        },
                        "type": "scattergl"
                      }
                    ],
                    "histogram": [
                      {
                        "marker": {
                          "colorbar": {
                            "outlinewidth": 0,
                            "ticks": ""
                          }
                        },
                        "type": "histogram"
                      }
                    ],
                    "heatmapgl": [
                      {
                        "colorbar": {
                          "outlinewidth": 0,
                          "ticks": ""
                        },
                        "type": "heatmapgl",
                        "colorscale": [
                          [
                            0,
                            "#0d0887"
                          ],
                          [
                            0.1111111111111111,
                            "#46039f"
                          ],
                          [
                            0.22222222222222221,
                            "#7201a8"
                          ],
                          [
                            0.33333333333333331,
                            "#9c179e"
                          ],
                          [
                            0.44444444444444442,
                            "#bd3786"
                          ],
                          [
                            0.55555555555555558,
                            "#d8576b"
                          ],
                          [
                            0.66666666666666663,
                            "#ed7953"
                          ],
                          [
                            0.77777777777777779,
                            "#fb9f3a"
                          ],
                          [
                            0.88888888888888884,
                            "#fdca26"
                          ],
                          [
                            1,
                            "#f0f921"
                          ]
                        ]
                      }
                    ],
                    "scatterpolar": [
                      {
                        "marker": {
                          "colorbar": {
                            "outlinewidth": 0,
                            "ticks": ""
                          }
                        },
                        "type": "scatterpolar"
                      }
                    ],
                    "histogram2d": [
                      {
                        "colorbar": {
                          "outlinewidth": 0,
                          "ticks": ""
                        },
                        "type": "histogram2d",
                        "colorscale": [
                          [
                            0,
                            "#0d0887"
                          ],
                          [
                            0.1111111111111111,
                            "#46039f"
                          ],
                          [
                            0.22222222222222221,
                            "#7201a8"
                          ],
                          [
                            0.33333333333333331,
                            "#9c179e"
                          ],
                          [
                            0.44444444444444442,
                            "#bd3786"
                          ],
                          [
                            0.55555555555555558,
                            "#d8576b"
                          ],
                          [
                            0.66666666666666663,
                            "#ed7953"
                          ],
                          [
                            0.77777777777777779,
                            "#fb9f3a"
                          ],
                          [
                            0.88888888888888884,
                            "#fdca26"
                          ],
                          [
                            1,
                            "#f0f921"
                          ]
                        ]
                      }
                    ],
                    "scattergeo": [
                      {
                        "marker": {
                          "colorbar": {
                            "outlinewidth": 0,
                            "ticks": ""
                          }
                        },
                        "type": "scattergeo"
                      }
                    ],
                    "bar": [
                      {
                        "marker": {
                          "line": {
                            "color": "#E5ECF6",
                            "width": 0.5
                          }
                        },
                        "type": "bar",
                        "error_x": {
                          "color": "#2a3f5f"
                        },
                        "error_y": {
                          "color": "#2a3f5f"
                        }
                      }
                    ],
                    "choropleth": [
                      {
                        "colorbar": {
                          "outlinewidth": 0,
                          "ticks": ""
                        },
                        "type": "choropleth"
                      }
                    ],
                    "parcoords": [
                      {
                        "line": {
                          "colorbar": {
                            "outlinewidth": 0,
                            "ticks": ""
                          }
                        },
                        "type": "parcoords"
                      }
                    ],
                    "barpolar": [
                      {
                        "marker": {
                          "line": {
                            "color": "#E5ECF6",
                            "width": 0.5
                          }
                        },
                        "type": "barpolar"
                      }
                    ],
                    "histogram2dcontour": [
                      {
                        "colorbar": {
                          "outlinewidth": 0,
                          "ticks": ""
                        },
                        "type": "histogram2dcontour",
                        "colorscale": [
                          [
                            0,
                            "#0d0887"
                          ],
                          [
                            0.1111111111111111,
                            "#46039f"
                          ],
                          [
                            0.22222222222222221,
                            "#7201a8"
                          ],
                          [
                            0.33333333333333331,
                            "#9c179e"
                          ],
                          [
                            0.44444444444444442,
                            "#bd3786"
                          ],
                          [
                            0.55555555555555558,
                            "#d8576b"
                          ],
                          [
                            0.66666666666666663,
                            "#ed7953"
                          ],
                          [
                            0.77777777777777779,
                            "#fb9f3a"
                          ],
                          [
                            0.88888888888888884,
                            "#fdca26"
                          ],
                          [
                            1,
                            "#f0f921"
                          ]
                        ]
                      }
                    ],
                    "scatter": [
                      {
                        "marker": {
                          "colorbar": {
                            "outlinewidth": 0,
                            "ticks": ""
                          }
                        },
                        "type": "scatter"
                      }
                    ]
                  }
                },
                "title": {
                  "text": "Daily registrations - Italy"
                }
              }
            }
          },
          "metadata": {}
        },
        {
          "output_type": "display_data",
          "data": {
            "text/html": "<div>\n        \n        \n            <div id=\"0c6840cd-7460-40b3-9c99-6c22572d381c\" class=\"plotly-graph-div\" style=\"height:525px; width:100%;\"></div>\n            <script type=\"text/javascript\">\n                require([\"plotly\"], function(Plotly) {\n                    window.PLOTLYENV=window.PLOTLYENV || {};\n                    \n                if (document.getElementById(\"0c6840cd-7460-40b3-9c99-6c22572d381c\")) {\n                    Plotly.newPlot(\n                        '0c6840cd-7460-40b3-9c99-6c22572d381c',\n                        [{\"line\": {\"color\": \"red\"}, \"mode\": \"lines\", \"name\": \"ESP\", \"text\": [\"\", \"\", \"\", \"\", \"\", \"\", \"\", \"\", \"\", \"\", \"\", \"\", \"\", \"\", \"\", \"\", \"\", \"\", \"\", \"\", \"\", \"\", \"\", \"\", \"\", \"\", \"\", \"\", \"\", \"\", \"\", \"\", \"\", \"\", \"\", \"\", \"\", \"\", \"\", \"\", \"\", \"\", \"\", \"\", \"\", \"\", \"\", \"\", \"\", \"\", \"\", \"\", \"\", \"\", \"\", \"\", \"\", \"\", \"\", \"\"], \"textposition\": \"top center\", \"type\": \"scatter\", \"x\": [\"2020-02-01T00:00:00Z\", \"2020-02-02T00:00:00Z\", \"2020-02-03T00:00:00Z\", \"2020-02-04T00:00:00Z\", \"2020-02-05T00:00:00Z\", \"2020-02-06T00:00:00Z\", \"2020-02-07T00:00:00Z\", \"2020-02-08T00:00:00Z\", \"2020-02-09T00:00:00Z\", \"2020-02-10T00:00:00Z\", \"2020-02-11T00:00:00Z\", \"2020-02-12T00:00:00Z\", \"2020-02-13T00:00:00Z\", \"2020-02-14T00:00:00Z\", \"2020-02-15T00:00:00Z\", \"2020-02-16T00:00:00Z\", \"2020-02-17T00:00:00Z\", \"2020-02-18T00:00:00Z\", \"2020-02-19T00:00:00Z\", \"2020-02-20T00:00:00Z\", \"2020-02-21T00:00:00Z\", \"2020-02-22T00:00:00Z\", \"2020-02-23T00:00:00Z\", \"2020-02-24T00:00:00Z\", \"2020-02-25T00:00:00Z\", \"2020-02-26T00:00:00Z\", \"2020-02-27T00:00:00Z\", \"2020-02-28T00:00:00Z\", \"2020-02-29T00:00:00Z\", \"2020-03-01T00:00:00Z\", \"2020-03-02T00:00:00Z\", \"2020-03-03T00:00:00Z\", \"2020-03-04T00:00:00Z\", \"2020-03-05T00:00:00Z\", \"2020-03-06T00:00:00Z\", \"2020-03-07T00:00:00Z\", \"2020-03-08T00:00:00Z\", \"2020-03-09T00:00:00Z\", \"2020-03-10T00:00:00Z\", \"2020-03-11T00:00:00Z\", \"2020-03-12T00:00:00Z\", \"2020-03-13T00:00:00Z\", \"2020-03-14T00:00:00Z\", \"2020-03-15T00:00:00Z\", \"2020-03-16T00:00:00Z\", \"2020-03-17T00:00:00Z\", \"2020-03-18T00:00:00Z\", \"2020-03-19T00:00:00Z\", \"2020-03-20T00:00:00Z\", \"2020-03-21T00:00:00Z\", \"2020-03-22T00:00:00Z\", \"2020-03-23T00:00:00Z\", \"2020-03-24T00:00:00Z\", \"2020-03-25T00:00:00Z\", \"2020-03-26T00:00:00Z\", \"2020-03-27T00:00:00Z\", \"2020-03-28T00:00:00Z\", \"2020-03-29T00:00:00Z\", \"2020-03-30T00:00:00Z\", \"2020-03-31T00:00:00Z\"], \"y\": [292, 229, 226, 243, 251, 234, 194, 215, 297, 171, 293, 228, 182, 186, 206, 195, 126, 203, 154, 145, 130, 170, 155, 135, 161, 179, 219, 159, 172, 296, 138, 139, 160, 141, 122, 214, 199, 129, 152, 156, 94, 92, 121, 114, 160, 140, 135, 116, 128, 130, 118, 105, 195, 79, 84, 65, 120, 87, 125, 128]}],\n                        {\"annotations\": [{\"arrowhead\": 7, \"ax\": 0, \"ay\": 30, \"showarrow\": true, \"text\": \"School closures\", \"x\": \"2020-03-12T00:00:00Z\", \"xref\": \"x\", \"y\": 94, \"yref\": \"y\"}, {\"arrowhead\": 7, \"ax\": 0, \"ay\": -150, \"showarrow\": true, \"text\": \"National Lockdown\", \"x\": \"2020-03-23T00:00:00Z\", \"xref\": \"x\", \"y\": 105, \"yref\": \"y\"}], \"template\": {\"data\": {\"bar\": [{\"error_x\": {\"color\": \"#2a3f5f\"}, \"error_y\": {\"color\": \"#2a3f5f\"}, \"marker\": {\"line\": {\"color\": \"#E5ECF6\", \"width\": 0.5}}, \"type\": \"bar\"}], \"barpolar\": [{\"marker\": {\"line\": {\"color\": \"#E5ECF6\", \"width\": 0.5}}, \"type\": \"barpolar\"}], \"carpet\": [{\"aaxis\": {\"endlinecolor\": \"#2a3f5f\", \"gridcolor\": \"white\", \"linecolor\": \"white\", \"minorgridcolor\": \"white\", \"startlinecolor\": \"#2a3f5f\"}, \"baxis\": {\"endlinecolor\": \"#2a3f5f\", \"gridcolor\": \"white\", \"linecolor\": \"white\", \"minorgridcolor\": \"white\", \"startlinecolor\": \"#2a3f5f\"}, \"type\": \"carpet\"}], \"choropleth\": [{\"colorbar\": {\"outlinewidth\": 0, \"ticks\": \"\"}, \"type\": \"choropleth\"}], \"contour\": [{\"colorbar\": {\"outlinewidth\": 0, \"ticks\": \"\"}, \"colorscale\": [[0.0, \"#0d0887\"], [0.1111111111111111, \"#46039f\"], [0.2222222222222222, \"#7201a8\"], [0.3333333333333333, \"#9c179e\"], [0.4444444444444444, \"#bd3786\"], [0.5555555555555556, \"#d8576b\"], [0.6666666666666666, \"#ed7953\"], [0.7777777777777778, \"#fb9f3a\"], [0.8888888888888888, \"#fdca26\"], [1.0, \"#f0f921\"]], \"type\": \"contour\"}], \"contourcarpet\": [{\"colorbar\": {\"outlinewidth\": 0, \"ticks\": \"\"}, \"type\": \"contourcarpet\"}], \"heatmap\": [{\"colorbar\": {\"outlinewidth\": 0, \"ticks\": \"\"}, \"colorscale\": [[0.0, \"#0d0887\"], [0.1111111111111111, \"#46039f\"], [0.2222222222222222, \"#7201a8\"], [0.3333333333333333, \"#9c179e\"], [0.4444444444444444, \"#bd3786\"], [0.5555555555555556, \"#d8576b\"], [0.6666666666666666, \"#ed7953\"], [0.7777777777777778, \"#fb9f3a\"], [0.8888888888888888, \"#fdca26\"], [1.0, \"#f0f921\"]], \"type\": \"heatmap\"}], \"heatmapgl\": [{\"colorbar\": {\"outlinewidth\": 0, \"ticks\": \"\"}, \"colorscale\": [[0.0, \"#0d0887\"], [0.1111111111111111, \"#46039f\"], [0.2222222222222222, \"#7201a8\"], [0.3333333333333333, \"#9c179e\"], [0.4444444444444444, \"#bd3786\"], [0.5555555555555556, \"#d8576b\"], [0.6666666666666666, \"#ed7953\"], [0.7777777777777778, \"#fb9f3a\"], [0.8888888888888888, \"#fdca26\"], [1.0, \"#f0f921\"]], \"type\": \"heatmapgl\"}], \"histogram\": [{\"marker\": {\"colorbar\": {\"outlinewidth\": 0, \"ticks\": \"\"}}, \"type\": \"histogram\"}], \"histogram2d\": [{\"colorbar\": {\"outlinewidth\": 0, \"ticks\": \"\"}, \"colorscale\": [[0.0, \"#0d0887\"], [0.1111111111111111, \"#46039f\"], [0.2222222222222222, \"#7201a8\"], [0.3333333333333333, \"#9c179e\"], [0.4444444444444444, \"#bd3786\"], [0.5555555555555556, \"#d8576b\"], [0.6666666666666666, \"#ed7953\"], [0.7777777777777778, \"#fb9f3a\"], [0.8888888888888888, \"#fdca26\"], [1.0, \"#f0f921\"]], \"type\": \"histogram2d\"}], \"histogram2dcontour\": [{\"colorbar\": {\"outlinewidth\": 0, \"ticks\": \"\"}, \"colorscale\": [[0.0, \"#0d0887\"], [0.1111111111111111, \"#46039f\"], [0.2222222222222222, \"#7201a8\"], [0.3333333333333333, \"#9c179e\"], [0.4444444444444444, \"#bd3786\"], [0.5555555555555556, \"#d8576b\"], [0.6666666666666666, \"#ed7953\"], [0.7777777777777778, \"#fb9f3a\"], [0.8888888888888888, \"#fdca26\"], [1.0, \"#f0f921\"]], \"type\": \"histogram2dcontour\"}], \"mesh3d\": [{\"colorbar\": {\"outlinewidth\": 0, \"ticks\": \"\"}, \"type\": \"mesh3d\"}], \"parcoords\": [{\"line\": {\"colorbar\": {\"outlinewidth\": 0, \"ticks\": \"\"}}, \"type\": \"parcoords\"}], \"scatter\": [{\"marker\": {\"colorbar\": {\"outlinewidth\": 0, \"ticks\": \"\"}}, \"type\": \"scatter\"}], \"scatter3d\": [{\"line\": {\"colorbar\": {\"outlinewidth\": 0, \"ticks\": \"\"}}, \"marker\": {\"colorbar\": {\"outlinewidth\": 0, \"ticks\": \"\"}}, \"type\": \"scatter3d\"}], \"scattercarpet\": [{\"marker\": {\"colorbar\": {\"outlinewidth\": 0, \"ticks\": \"\"}}, \"type\": \"scattercarpet\"}], \"scattergeo\": [{\"marker\": {\"colorbar\": {\"outlinewidth\": 0, \"ticks\": \"\"}}, \"type\": \"scattergeo\"}], \"scattergl\": [{\"marker\": {\"colorbar\": {\"outlinewidth\": 0, \"ticks\": \"\"}}, \"type\": \"scattergl\"}], \"scattermapbox\": [{\"marker\": {\"colorbar\": {\"outlinewidth\": 0, \"ticks\": \"\"}}, \"type\": \"scattermapbox\"}], \"scatterpolar\": [{\"marker\": {\"colorbar\": {\"outlinewidth\": 0, \"ticks\": \"\"}}, \"type\": \"scatterpolar\"}], \"scatterpolargl\": [{\"marker\": {\"colorbar\": {\"outlinewidth\": 0, \"ticks\": \"\"}}, \"type\": \"scatterpolargl\"}], \"scatterternary\": [{\"marker\": {\"colorbar\": {\"outlinewidth\": 0, \"ticks\": \"\"}}, \"type\": \"scatterternary\"}], \"surface\": [{\"colorbar\": {\"outlinewidth\": 0, \"ticks\": \"\"}, \"colorscale\": [[0.0, \"#0d0887\"], [0.1111111111111111, \"#46039f\"], [0.2222222222222222, \"#7201a8\"], [0.3333333333333333, \"#9c179e\"], [0.4444444444444444, \"#bd3786\"], [0.5555555555555556, \"#d8576b\"], [0.6666666666666666, \"#ed7953\"], [0.7777777777777778, \"#fb9f3a\"], [0.8888888888888888, \"#fdca26\"], [1.0, \"#f0f921\"]], \"type\": \"surface\"}], \"table\": [{\"cells\": {\"fill\": {\"color\": \"#EBF0F8\"}, \"line\": {\"color\": \"white\"}}, \"header\": {\"fill\": {\"color\": \"#C8D4E3\"}, \"line\": {\"color\": \"white\"}}, \"type\": \"table\"}]}, \"layout\": {\"annotationdefaults\": {\"arrowcolor\": \"#2a3f5f\", \"arrowhead\": 0, \"arrowwidth\": 1}, \"colorscale\": {\"diverging\": [[0, \"#8e0152\"], [0.1, \"#c51b7d\"], [0.2, \"#de77ae\"], [0.3, \"#f1b6da\"], [0.4, \"#fde0ef\"], [0.5, \"#f7f7f7\"], [0.6, \"#e6f5d0\"], [0.7, \"#b8e186\"], [0.8, \"#7fbc41\"], [0.9, \"#4d9221\"], [1, \"#276419\"]], \"sequential\": [[0.0, \"#0d0887\"], [0.1111111111111111, \"#46039f\"], [0.2222222222222222, \"#7201a8\"], [0.3333333333333333, \"#9c179e\"], [0.4444444444444444, \"#bd3786\"], [0.5555555555555556, \"#d8576b\"], [0.6666666666666666, \"#ed7953\"], [0.7777777777777778, \"#fb9f3a\"], [0.8888888888888888, \"#fdca26\"], [1.0, \"#f0f921\"]], \"sequentialminus\": [[0.0, \"#0d0887\"], [0.1111111111111111, \"#46039f\"], [0.2222222222222222, \"#7201a8\"], [0.3333333333333333, \"#9c179e\"], [0.4444444444444444, \"#bd3786\"], [0.5555555555555556, \"#d8576b\"], [0.6666666666666666, \"#ed7953\"], [0.7777777777777778, \"#fb9f3a\"], [0.8888888888888888, \"#fdca26\"], [1.0, \"#f0f921\"]]}, \"colorway\": [\"#636efa\", \"#EF553B\", \"#00cc96\", \"#ab63fa\", \"#FFA15A\", \"#19d3f3\", \"#FF6692\", \"#B6E880\", \"#FF97FF\", \"#FECB52\"], \"font\": {\"color\": \"#2a3f5f\"}, \"geo\": {\"bgcolor\": \"white\", \"lakecolor\": \"white\", \"landcolor\": \"#E5ECF6\", \"showlakes\": true, \"showland\": true, \"subunitcolor\": \"white\"}, \"hoverlabel\": {\"align\": \"left\"}, \"hovermode\": \"closest\", \"mapbox\": {\"style\": \"light\"}, \"paper_bgcolor\": \"white\", \"plot_bgcolor\": \"#E5ECF6\", \"polar\": {\"angularaxis\": {\"gridcolor\": \"white\", \"linecolor\": \"white\", \"ticks\": \"\"}, \"bgcolor\": \"#E5ECF6\", \"radialaxis\": {\"gridcolor\": \"white\", \"linecolor\": \"white\", \"ticks\": \"\"}}, \"scene\": {\"xaxis\": {\"backgroundcolor\": \"#E5ECF6\", \"gridcolor\": \"white\", \"gridwidth\": 2, \"linecolor\": \"white\", \"showbackground\": true, \"ticks\": \"\", \"zerolinecolor\": \"white\"}, \"yaxis\": {\"backgroundcolor\": \"#E5ECF6\", \"gridcolor\": \"white\", \"gridwidth\": 2, \"linecolor\": \"white\", \"showbackground\": true, \"ticks\": \"\", \"zerolinecolor\": \"white\"}, \"zaxis\": {\"backgroundcolor\": \"#E5ECF6\", \"gridcolor\": \"white\", \"gridwidth\": 2, \"linecolor\": \"white\", \"showbackground\": true, \"ticks\": \"\", \"zerolinecolor\": \"white\"}}, \"shapedefaults\": {\"line\": {\"color\": \"#2a3f5f\"}}, \"ternary\": {\"aaxis\": {\"gridcolor\": \"white\", \"linecolor\": \"white\", \"ticks\": \"\"}, \"baxis\": {\"gridcolor\": \"white\", \"linecolor\": \"white\", \"ticks\": \"\"}, \"bgcolor\": \"#E5ECF6\", \"caxis\": {\"gridcolor\": \"white\", \"linecolor\": \"white\", \"ticks\": \"\"}}, \"title\": {\"x\": 0.05}, \"xaxis\": {\"automargin\": true, \"gridcolor\": \"white\", \"linecolor\": \"white\", \"ticks\": \"\", \"zerolinecolor\": \"white\", \"zerolinewidth\": 2}, \"yaxis\": {\"automargin\": true, \"gridcolor\": \"white\", \"linecolor\": \"white\", \"ticks\": \"\", \"zerolinecolor\": \"white\", \"zerolinewidth\": 2}}}, \"title\": {\"text\": \"Daily registrations - Spain\"}, \"xaxis\": {\"title\": {\"text\": \"Time\"}}, \"yaxis\": {\"title\": {\"text\": \"Count\"}}},\n                        {\"responsive\": true}\n                    ).then(function(){\n                            \nvar gd = document.getElementById('0c6840cd-7460-40b3-9c99-6c22572d381c');\nvar x = new MutationObserver(function (mutations, observer) {{\n        var display = window.getComputedStyle(gd).display;\n        if (!display || display === 'none') {{\n            console.log([gd, 'removed!']);\n            Plotly.purge(gd);\n            observer.disconnect();\n        }}\n}});\n\n// Listen for the removal of the full notebook cells\nvar notebookContainer = gd.closest('#notebook-container');\nif (notebookContainer) {{\n    x.observe(notebookContainer, {childList: true});\n}}\n\n// Listen for the clearing of the current output cell\nvar outputEl = gd.closest('.output');\nif (outputEl) {{\n    x.observe(outputEl, {childList: true});\n}}\n\n                        })\n                };\n                });\n            </script>\n        </div>",
            "application/vnd.plotly.v1+json": {
              "data": [
                {
                  "textposition": "top center",
                  "name": "ESP",
                  "text": [
                    "",
                    "",
                    "",
                    "",
                    "",
                    "",
                    "",
                    "",
                    "",
                    "",
                    "",
                    "",
                    "",
                    "",
                    "",
                    "",
                    "",
                    "",
                    "",
                    "",
                    "",
                    "",
                    "",
                    "",
                    "",
                    "",
                    "",
                    "",
                    "",
                    "",
                    "",
                    "",
                    "",
                    "",
                    "",
                    "",
                    "",
                    "",
                    "",
                    "",
                    "",
                    "",
                    "",
                    "",
                    "",
                    "",
                    "",
                    "",
                    "",
                    "",
                    "",
                    "",
                    "",
                    "",
                    "",
                    "",
                    "",
                    "",
                    "",
                    ""
                  ],
                  "mode": "lines",
                  "y": [
                    292,
                    229,
                    226,
                    243,
                    251,
                    234,
                    194,
                    215,
                    297,
                    171,
                    293,
                    228,
                    182,
                    186,
                    206,
                    195,
                    126,
                    203,
                    154,
                    145,
                    130,
                    170,
                    155,
                    135,
                    161,
                    179,
                    219,
                    159,
                    172,
                    296,
                    138,
                    139,
                    160,
                    141,
                    122,
                    214,
                    199,
                    129,
                    152,
                    156,
                    94,
                    92,
                    121,
                    114,
                    160,
                    140,
                    135,
                    116,
                    128,
                    130,
                    118,
                    105,
                    195,
                    79,
                    84,
                    65,
                    120,
                    87,
                    125,
                    128
                  ],
                  "x": [
                    "2020-02-01T00:00:00Z",
                    "2020-02-02T00:00:00Z",
                    "2020-02-03T00:00:00Z",
                    "2020-02-04T00:00:00Z",
                    "2020-02-05T00:00:00Z",
                    "2020-02-06T00:00:00Z",
                    "2020-02-07T00:00:00Z",
                    "2020-02-08T00:00:00Z",
                    "2020-02-09T00:00:00Z",
                    "2020-02-10T00:00:00Z",
                    "2020-02-11T00:00:00Z",
                    "2020-02-12T00:00:00Z",
                    "2020-02-13T00:00:00Z",
                    "2020-02-14T00:00:00Z",
                    "2020-02-15T00:00:00Z",
                    "2020-02-16T00:00:00Z",
                    "2020-02-17T00:00:00Z",
                    "2020-02-18T00:00:00Z",
                    "2020-02-19T00:00:00Z",
                    "2020-02-20T00:00:00Z",
                    "2020-02-21T00:00:00Z",
                    "2020-02-22T00:00:00Z",
                    "2020-02-23T00:00:00Z",
                    "2020-02-24T00:00:00Z",
                    "2020-02-25T00:00:00Z",
                    "2020-02-26T00:00:00Z",
                    "2020-02-27T00:00:00Z",
                    "2020-02-28T00:00:00Z",
                    "2020-02-29T00:00:00Z",
                    "2020-03-01T00:00:00Z",
                    "2020-03-02T00:00:00Z",
                    "2020-03-03T00:00:00Z",
                    "2020-03-04T00:00:00Z",
                    "2020-03-05T00:00:00Z",
                    "2020-03-06T00:00:00Z",
                    "2020-03-07T00:00:00Z",
                    "2020-03-08T00:00:00Z",
                    "2020-03-09T00:00:00Z",
                    "2020-03-10T00:00:00Z",
                    "2020-03-11T00:00:00Z",
                    "2020-03-12T00:00:00Z",
                    "2020-03-13T00:00:00Z",
                    "2020-03-14T00:00:00Z",
                    "2020-03-15T00:00:00Z",
                    "2020-03-16T00:00:00Z",
                    "2020-03-17T00:00:00Z",
                    "2020-03-18T00:00:00Z",
                    "2020-03-19T00:00:00Z",
                    "2020-03-20T00:00:00Z",
                    "2020-03-21T00:00:00Z",
                    "2020-03-22T00:00:00Z",
                    "2020-03-23T00:00:00Z",
                    "2020-03-24T00:00:00Z",
                    "2020-03-25T00:00:00Z",
                    "2020-03-26T00:00:00Z",
                    "2020-03-27T00:00:00Z",
                    "2020-03-28T00:00:00Z",
                    "2020-03-29T00:00:00Z",
                    "2020-03-30T00:00:00Z",
                    "2020-03-31T00:00:00Z"
                  ],
                  "line": {
                    "color": "red"
                  },
                  "type": "scatter"
                }
              ],
              "config": {
                "plotlyServerURL": "https://plot.ly"
              },
              "layout": {
                "xaxis": {
                  "title": {
                    "text": "Time"
                  }
                },
                "yaxis": {
                  "title": {
                    "text": "Count"
                  }
                },
                "annotations": [
                  {
                    "xref": "x",
                    "arrowhead": 7,
                    "yref": "y",
                    "text": "School closures",
                    "y": 94,
                    "x": "2020-03-12T00:00:00Z",
                    "ay": 30,
                    "ax": 0,
                    "showarrow": true
                  },
                  {
                    "xref": "x",
                    "arrowhead": 7,
                    "yref": "y",
                    "text": "National Lockdown",
                    "y": 105,
                    "x": "2020-03-23T00:00:00Z",
                    "ay": -150,
                    "ax": 0,
                    "showarrow": true
                  }
                ],
                "template": {
                  "layout": {
                    "shapedefaults": {
                      "line": {
                        "color": "#2a3f5f"
                      }
                    },
                    "polar": {
                      "radialaxis": {
                        "ticks": "",
                        "gridcolor": "white",
                        "linecolor": "white"
                      },
                      "bgcolor": "#E5ECF6",
                      "angularaxis": {
                        "ticks": "",
                        "gridcolor": "white",
                        "linecolor": "white"
                      }
                    },
                    "colorway": [
                      "#636efa",
                      "#EF553B",
                      "#00cc96",
                      "#ab63fa",
                      "#FFA15A",
                      "#19d3f3",
                      "#FF6692",
                      "#B6E880",
                      "#FF97FF",
                      "#FECB52"
                    ],
                    "xaxis": {
                      "automargin": true,
                      "zerolinewidth": 2,
                      "ticks": "",
                      "zerolinecolor": "white",
                      "gridcolor": "white",
                      "linecolor": "white"
                    },
                    "colorscale": {
                      "diverging": [
                        [
                          0,
                          "#8e0152"
                        ],
                        [
                          0.1,
                          "#c51b7d"
                        ],
                        [
                          0.2,
                          "#de77ae"
                        ],
                        [
                          0.3,
                          "#f1b6da"
                        ],
                        [
                          0.4,
                          "#fde0ef"
                        ],
                        [
                          0.5,
                          "#f7f7f7"
                        ],
                        [
                          0.6,
                          "#e6f5d0"
                        ],
                        [
                          0.7,
                          "#b8e186"
                        ],
                        [
                          0.8,
                          "#7fbc41"
                        ],
                        [
                          0.9,
                          "#4d9221"
                        ],
                        [
                          1,
                          "#276419"
                        ]
                      ],
                      "sequential": [
                        [
                          0,
                          "#0d0887"
                        ],
                        [
                          0.1111111111111111,
                          "#46039f"
                        ],
                        [
                          0.22222222222222221,
                          "#7201a8"
                        ],
                        [
                          0.33333333333333331,
                          "#9c179e"
                        ],
                        [
                          0.44444444444444442,
                          "#bd3786"
                        ],
                        [
                          0.55555555555555558,
                          "#d8576b"
                        ],
                        [
                          0.66666666666666663,
                          "#ed7953"
                        ],
                        [
                          0.77777777777777779,
                          "#fb9f3a"
                        ],
                        [
                          0.88888888888888884,
                          "#fdca26"
                        ],
                        [
                          1,
                          "#f0f921"
                        ]
                      ],
                      "sequentialminus": [
                        [
                          0,
                          "#0d0887"
                        ],
                        [
                          0.1111111111111111,
                          "#46039f"
                        ],
                        [
                          0.22222222222222221,
                          "#7201a8"
                        ],
                        [
                          0.33333333333333331,
                          "#9c179e"
                        ],
                        [
                          0.44444444444444442,
                          "#bd3786"
                        ],
                        [
                          0.55555555555555558,
                          "#d8576b"
                        ],
                        [
                          0.66666666666666663,
                          "#ed7953"
                        ],
                        [
                          0.77777777777777779,
                          "#fb9f3a"
                        ],
                        [
                          0.88888888888888884,
                          "#fdca26"
                        ],
                        [
                          1,
                          "#f0f921"
                        ]
                      ]
                    },
                    "paper_bgcolor": "white",
                    "plot_bgcolor": "#E5ECF6",
                    "title": {
                      "x": 0.05
                    },
                    "scene": {
                      "zaxis": {
                        "backgroundcolor": "#E5ECF6",
                        "ticks": "",
                        "gridwidth": 2,
                        "showbackground": true,
                        "zerolinecolor": "white",
                        "gridcolor": "white",
                        "linecolor": "white"
                      },
                      "xaxis": {
                        "backgroundcolor": "#E5ECF6",
                        "ticks": "",
                        "gridwidth": 2,
                        "showbackground": true,
                        "zerolinecolor": "white",
                        "gridcolor": "white",
                        "linecolor": "white"
                      },
                      "yaxis": {
                        "backgroundcolor": "#E5ECF6",
                        "ticks": "",
                        "gridwidth": 2,
                        "showbackground": true,
                        "zerolinecolor": "white",
                        "gridcolor": "white",
                        "linecolor": "white"
                      }
                    },
                    "yaxis": {
                      "automargin": true,
                      "zerolinewidth": 2,
                      "ticks": "",
                      "zerolinecolor": "white",
                      "gridcolor": "white",
                      "linecolor": "white"
                    },
                    "hoverlabel": {
                      "align": "left"
                    },
                    "ternary": {
                      "bgcolor": "#E5ECF6",
                      "baxis": {
                        "ticks": "",
                        "gridcolor": "white",
                        "linecolor": "white"
                      },
                      "caxis": {
                        "ticks": "",
                        "gridcolor": "white",
                        "linecolor": "white"
                      },
                      "aaxis": {
                        "ticks": "",
                        "gridcolor": "white",
                        "linecolor": "white"
                      }
                    },
                    "mapbox": {
                      "style": "light"
                    },
                    "hovermode": "closest",
                    "font": {
                      "color": "#2a3f5f"
                    },
                    "geo": {
                      "showland": true,
                      "landcolor": "#E5ECF6",
                      "showlakes": true,
                      "bgcolor": "white",
                      "subunitcolor": "white",
                      "lakecolor": "white"
                    },
                    "annotationdefaults": {
                      "arrowwidth": 1,
                      "arrowhead": 0,
                      "arrowcolor": "#2a3f5f"
                    }
                  },
                  "data": {
                    "mesh3d": [
                      {
                        "colorbar": {
                          "outlinewidth": 0,
                          "ticks": ""
                        },
                        "type": "mesh3d"
                      }
                    ],
                    "scattercarpet": [
                      {
                        "marker": {
                          "colorbar": {
                            "outlinewidth": 0,
                            "ticks": ""
                          }
                        },
                        "type": "scattercarpet"
                      }
                    ],
                    "scatterternary": [
                      {
                        "marker": {
                          "colorbar": {
                            "outlinewidth": 0,
                            "ticks": ""
                          }
                        },
                        "type": "scatterternary"
                      }
                    ],
                    "surface": [
                      {
                        "colorbar": {
                          "outlinewidth": 0,
                          "ticks": ""
                        },
                        "type": "surface",
                        "colorscale": [
                          [
                            0,
                            "#0d0887"
                          ],
                          [
                            0.1111111111111111,
                            "#46039f"
                          ],
                          [
                            0.22222222222222221,
                            "#7201a8"
                          ],
                          [
                            0.33333333333333331,
                            "#9c179e"
                          ],
                          [
                            0.44444444444444442,
                            "#bd3786"
                          ],
                          [
                            0.55555555555555558,
                            "#d8576b"
                          ],
                          [
                            0.66666666666666663,
                            "#ed7953"
                          ],
                          [
                            0.77777777777777779,
                            "#fb9f3a"
                          ],
                          [
                            0.88888888888888884,
                            "#fdca26"
                          ],
                          [
                            1,
                            "#f0f921"
                          ]
                        ]
                      }
                    ],
                    "table": [
                      {
                        "header": {
                          "line": {
                            "color": "white"
                          },
                          "fill": {
                            "color": "#C8D4E3"
                          }
                        },
                        "cells": {
                          "line": {
                            "color": "white"
                          },
                          "fill": {
                            "color": "#EBF0F8"
                          }
                        },
                        "type": "table"
                      }
                    ],
                    "scatterpolargl": [
                      {
                        "marker": {
                          "colorbar": {
                            "outlinewidth": 0,
                            "ticks": ""
                          }
                        },
                        "type": "scatterpolargl"
                      }
                    ],
                    "contour": [
                      {
                        "colorbar": {
                          "outlinewidth": 0,
                          "ticks": ""
                        },
                        "type": "contour",
                        "colorscale": [
                          [
                            0,
                            "#0d0887"
                          ],
                          [
                            0.1111111111111111,
                            "#46039f"
                          ],
                          [
                            0.22222222222222221,
                            "#7201a8"
                          ],
                          [
                            0.33333333333333331,
                            "#9c179e"
                          ],
                          [
                            0.44444444444444442,
                            "#bd3786"
                          ],
                          [
                            0.55555555555555558,
                            "#d8576b"
                          ],
                          [
                            0.66666666666666663,
                            "#ed7953"
                          ],
                          [
                            0.77777777777777779,
                            "#fb9f3a"
                          ],
                          [
                            0.88888888888888884,
                            "#fdca26"
                          ],
                          [
                            1,
                            "#f0f921"
                          ]
                        ]
                      }
                    ],
                    "carpet": [
                      {
                        "type": "carpet",
                        "baxis": {
                          "minorgridcolor": "white",
                          "gridcolor": "white",
                          "linecolor": "white",
                          "endlinecolor": "#2a3f5f",
                          "startlinecolor": "#2a3f5f"
                        },
                        "aaxis": {
                          "minorgridcolor": "white",
                          "gridcolor": "white",
                          "linecolor": "white",
                          "endlinecolor": "#2a3f5f",
                          "startlinecolor": "#2a3f5f"
                        }
                      }
                    ],
                    "contourcarpet": [
                      {
                        "colorbar": {
                          "outlinewidth": 0,
                          "ticks": ""
                        },
                        "type": "contourcarpet"
                      }
                    ],
                    "heatmap": [
                      {
                        "colorbar": {
                          "outlinewidth": 0,
                          "ticks": ""
                        },
                        "type": "heatmap",
                        "colorscale": [
                          [
                            0,
                            "#0d0887"
                          ],
                          [
                            0.1111111111111111,
                            "#46039f"
                          ],
                          [
                            0.22222222222222221,
                            "#7201a8"
                          ],
                          [
                            0.33333333333333331,
                            "#9c179e"
                          ],
                          [
                            0.44444444444444442,
                            "#bd3786"
                          ],
                          [
                            0.55555555555555558,
                            "#d8576b"
                          ],
                          [
                            0.66666666666666663,
                            "#ed7953"
                          ],
                          [
                            0.77777777777777779,
                            "#fb9f3a"
                          ],
                          [
                            0.88888888888888884,
                            "#fdca26"
                          ],
                          [
                            1,
                            "#f0f921"
                          ]
                        ]
                      }
                    ],
                    "scattermapbox": [
                      {
                        "marker": {
                          "colorbar": {
                            "outlinewidth": 0,
                            "ticks": ""
                          }
                        },
                        "type": "scattermapbox"
                      }
                    ],
                    "scatter3d": [
                      {
                        "marker": {
                          "colorbar": {
                            "outlinewidth": 0,
                            "ticks": ""
                          }
                        },
                        "line": {
                          "colorbar": {
                            "outlinewidth": 0,
                            "ticks": ""
                          }
                        },
                        "type": "scatter3d"
                      }
                    ],
                    "scattergl": [
                      {
                        "marker": {
                          "colorbar": {
                            "outlinewidth": 0,
                            "ticks": ""
                          }
                        },
                        "type": "scattergl"
                      }
                    ],
                    "histogram": [
                      {
                        "marker": {
                          "colorbar": {
                            "outlinewidth": 0,
                            "ticks": ""
                          }
                        },
                        "type": "histogram"
                      }
                    ],
                    "heatmapgl": [
                      {
                        "colorbar": {
                          "outlinewidth": 0,
                          "ticks": ""
                        },
                        "type": "heatmapgl",
                        "colorscale": [
                          [
                            0,
                            "#0d0887"
                          ],
                          [
                            0.1111111111111111,
                            "#46039f"
                          ],
                          [
                            0.22222222222222221,
                            "#7201a8"
                          ],
                          [
                            0.33333333333333331,
                            "#9c179e"
                          ],
                          [
                            0.44444444444444442,
                            "#bd3786"
                          ],
                          [
                            0.55555555555555558,
                            "#d8576b"
                          ],
                          [
                            0.66666666666666663,
                            "#ed7953"
                          ],
                          [
                            0.77777777777777779,
                            "#fb9f3a"
                          ],
                          [
                            0.88888888888888884,
                            "#fdca26"
                          ],
                          [
                            1,
                            "#f0f921"
                          ]
                        ]
                      }
                    ],
                    "scatterpolar": [
                      {
                        "marker": {
                          "colorbar": {
                            "outlinewidth": 0,
                            "ticks": ""
                          }
                        },
                        "type": "scatterpolar"
                      }
                    ],
                    "histogram2d": [
                      {
                        "colorbar": {
                          "outlinewidth": 0,
                          "ticks": ""
                        },
                        "type": "histogram2d",
                        "colorscale": [
                          [
                            0,
                            "#0d0887"
                          ],
                          [
                            0.1111111111111111,
                            "#46039f"
                          ],
                          [
                            0.22222222222222221,
                            "#7201a8"
                          ],
                          [
                            0.33333333333333331,
                            "#9c179e"
                          ],
                          [
                            0.44444444444444442,
                            "#bd3786"
                          ],
                          [
                            0.55555555555555558,
                            "#d8576b"
                          ],
                          [
                            0.66666666666666663,
                            "#ed7953"
                          ],
                          [
                            0.77777777777777779,
                            "#fb9f3a"
                          ],
                          [
                            0.88888888888888884,
                            "#fdca26"
                          ],
                          [
                            1,
                            "#f0f921"
                          ]
                        ]
                      }
                    ],
                    "scattergeo": [
                      {
                        "marker": {
                          "colorbar": {
                            "outlinewidth": 0,
                            "ticks": ""
                          }
                        },
                        "type": "scattergeo"
                      }
                    ],
                    "bar": [
                      {
                        "marker": {
                          "line": {
                            "color": "#E5ECF6",
                            "width": 0.5
                          }
                        },
                        "type": "bar",
                        "error_x": {
                          "color": "#2a3f5f"
                        },
                        "error_y": {
                          "color": "#2a3f5f"
                        }
                      }
                    ],
                    "choropleth": [
                      {
                        "colorbar": {
                          "outlinewidth": 0,
                          "ticks": ""
                        },
                        "type": "choropleth"
                      }
                    ],
                    "parcoords": [
                      {
                        "line": {
                          "colorbar": {
                            "outlinewidth": 0,
                            "ticks": ""
                          }
                        },
                        "type": "parcoords"
                      }
                    ],
                    "barpolar": [
                      {
                        "marker": {
                          "line": {
                            "color": "#E5ECF6",
                            "width": 0.5
                          }
                        },
                        "type": "barpolar"
                      }
                    ],
                    "histogram2dcontour": [
                      {
                        "colorbar": {
                          "outlinewidth": 0,
                          "ticks": ""
                        },
                        "type": "histogram2dcontour",
                        "colorscale": [
                          [
                            0,
                            "#0d0887"
                          ],
                          [
                            0.1111111111111111,
                            "#46039f"
                          ],
                          [
                            0.22222222222222221,
                            "#7201a8"
                          ],
                          [
                            0.33333333333333331,
                            "#9c179e"
                          ],
                          [
                            0.44444444444444442,
                            "#bd3786"
                          ],
                          [
                            0.55555555555555558,
                            "#d8576b"
                          ],
                          [
                            0.66666666666666663,
                            "#ed7953"
                          ],
                          [
                            0.77777777777777779,
                            "#fb9f3a"
                          ],
                          [
                            0.88888888888888884,
                            "#fdca26"
                          ],
                          [
                            1,
                            "#f0f921"
                          ]
                        ]
                      }
                    ],
                    "scatter": [
                      {
                        "marker": {
                          "colorbar": {
                            "outlinewidth": 0,
                            "ticks": ""
                          }
                        },
                        "type": "scatter"
                      }
                    ]
                  }
                },
                "title": {
                  "text": "Daily registrations - Spain"
                }
              }
            }
          },
          "metadata": {}
        },
        {
          "output_type": "display_data",
          "data": {
            "text/html": "<div>\n        \n        \n            <div id=\"c8066bdf-6852-459e-93c0-02c124ebb76a\" class=\"plotly-graph-div\" style=\"height:525px; width:100%;\"></div>\n            <script type=\"text/javascript\">\n                require([\"plotly\"], function(Plotly) {\n                    window.PLOTLYENV=window.PLOTLYENV || {};\n                    \n                if (document.getElementById(\"c8066bdf-6852-459e-93c0-02c124ebb76a\")) {\n                    Plotly.newPlot(\n                        'c8066bdf-6852-459e-93c0-02c124ebb76a',\n                        [{\"line\": {\"color\": \"black\"}, \"mode\": \"lines\", \"name\": \"IRL\", \"text\": [\"\", \"\", \"\", \"\", \"\", \"\", \"\", \"\", \"\", \"\", \"\", \"\", \"\", \"\", \"\", \"\", \"\", \"\", \"\", \"\", \"\", \"\", \"\", \"\", \"\", \"\", \"\", \"\", \"\", \"\", \"\", \"\", \"\", \"\", \"\", \"\", \"\", \"\", \"\", \"\", \"\", \"\", \"\", \"\", \"\", \"\", \"\", \"\", \"\", \"\", \"\", \"\", \"\", \"\", \"\", \"\", \"\", \"\", \"\", \"\"], \"textposition\": \"top center\", \"type\": \"scatter\", \"x\": [\"2020-02-01T00:00:00Z\", \"2020-02-02T00:00:00Z\", \"2020-02-03T00:00:00Z\", \"2020-02-04T00:00:00Z\", \"2020-02-05T00:00:00Z\", \"2020-02-06T00:00:00Z\", \"2020-02-07T00:00:00Z\", \"2020-02-08T00:00:00Z\", \"2020-02-09T00:00:00Z\", \"2020-02-10T00:00:00Z\", \"2020-02-11T00:00:00Z\", \"2020-02-12T00:00:00Z\", \"2020-02-13T00:00:00Z\", \"2020-02-14T00:00:00Z\", \"2020-02-15T00:00:00Z\", \"2020-02-16T00:00:00Z\", \"2020-02-17T00:00:00Z\", \"2020-02-18T00:00:00Z\", \"2020-02-19T00:00:00Z\", \"2020-02-20T00:00:00Z\", \"2020-02-21T00:00:00Z\", \"2020-02-22T00:00:00Z\", \"2020-02-23T00:00:00Z\", \"2020-02-24T00:00:00Z\", \"2020-02-25T00:00:00Z\", \"2020-02-26T00:00:00Z\", \"2020-02-27T00:00:00Z\", \"2020-02-28T00:00:00Z\", \"2020-02-29T00:00:00Z\", \"2020-03-01T00:00:00Z\", \"2020-03-02T00:00:00Z\", \"2020-03-03T00:00:00Z\", \"2020-03-04T00:00:00Z\", \"2020-03-05T00:00:00Z\", \"2020-03-06T00:00:00Z\", \"2020-03-07T00:00:00Z\", \"2020-03-08T00:00:00Z\", \"2020-03-09T00:00:00Z\", \"2020-03-10T00:00:00Z\", \"2020-03-11T00:00:00Z\", \"2020-03-12T00:00:00Z\", \"2020-03-13T00:00:00Z\", \"2020-03-14T00:00:00Z\", \"2020-03-15T00:00:00Z\", \"2020-03-16T00:00:00Z\", \"2020-03-17T00:00:00Z\", \"2020-03-18T00:00:00Z\", \"2020-03-19T00:00:00Z\", \"2020-03-20T00:00:00Z\", \"2020-03-21T00:00:00Z\", \"2020-03-22T00:00:00Z\", \"2020-03-23T00:00:00Z\", \"2020-03-24T00:00:00Z\", \"2020-03-25T00:00:00Z\", \"2020-03-26T00:00:00Z\", \"2020-03-27T00:00:00Z\", \"2020-03-28T00:00:00Z\", \"2020-03-29T00:00:00Z\", \"2020-03-30T00:00:00Z\", \"2020-03-31T00:00:00Z\"], \"y\": [51, 48, 17, 28, 26, 36, 44, 82, 50, 41, 29, 30, 51, 47, 98, 38, 48, 45, 44, 34, 46, 77, 54, 35, 38, 45, 44, 44, 33, 43, 37, 33, 39, 40, 73, 80, 62, 235, 402, 379, 244, 200, 51, 43, 32, 40, 22, 30, 61, 73, 25, 17, 25, 18, 22, 30, 21, 31, 16, 20]}],\n                        {\"annotations\": [{\"arrowhead\": 7, \"ax\": 0, \"ay\": -140, \"showarrow\": true, \"text\": \"Cheltenham festival\", \"x\": \"2020-03-10T00:00:00Z\", \"xref\": \"x\", \"y\": 402, \"yref\": \"y\"}, {\"arrowhead\": 7, \"ax\": 0, \"ay\": -150, \"showarrow\": true, \"text\": \"School closures\", \"x\": \"2020-03-12T00:00:00Z\", \"xref\": \"x\", \"y\": 244, \"yref\": \"y\"}, {\"arrowhead\": 7, \"ax\": 0, \"ay\": -150, \"showarrow\": true, \"text\": \"National Lockdown\", \"x\": \"2020-03-27T00:00:00Z\", \"xref\": \"x\", \"y\": 25, \"yref\": \"y\"}], \"template\": {\"data\": {\"bar\": [{\"error_x\": {\"color\": \"#2a3f5f\"}, \"error_y\": {\"color\": \"#2a3f5f\"}, \"marker\": {\"line\": {\"color\": \"#E5ECF6\", \"width\": 0.5}}, \"type\": \"bar\"}], \"barpolar\": [{\"marker\": {\"line\": {\"color\": \"#E5ECF6\", \"width\": 0.5}}, \"type\": \"barpolar\"}], \"carpet\": [{\"aaxis\": {\"endlinecolor\": \"#2a3f5f\", \"gridcolor\": \"white\", \"linecolor\": \"white\", \"minorgridcolor\": \"white\", \"startlinecolor\": \"#2a3f5f\"}, \"baxis\": {\"endlinecolor\": \"#2a3f5f\", \"gridcolor\": \"white\", \"linecolor\": \"white\", \"minorgridcolor\": \"white\", \"startlinecolor\": \"#2a3f5f\"}, \"type\": \"carpet\"}], \"choropleth\": [{\"colorbar\": {\"outlinewidth\": 0, \"ticks\": \"\"}, \"type\": \"choropleth\"}], \"contour\": [{\"colorbar\": {\"outlinewidth\": 0, \"ticks\": \"\"}, \"colorscale\": [[0.0, \"#0d0887\"], [0.1111111111111111, \"#46039f\"], [0.2222222222222222, \"#7201a8\"], [0.3333333333333333, \"#9c179e\"], [0.4444444444444444, \"#bd3786\"], [0.5555555555555556, \"#d8576b\"], [0.6666666666666666, \"#ed7953\"], [0.7777777777777778, \"#fb9f3a\"], [0.8888888888888888, \"#fdca26\"], [1.0, \"#f0f921\"]], \"type\": \"contour\"}], \"contourcarpet\": [{\"colorbar\": {\"outlinewidth\": 0, \"ticks\": \"\"}, \"type\": \"contourcarpet\"}], \"heatmap\": [{\"colorbar\": {\"outlinewidth\": 0, \"ticks\": \"\"}, \"colorscale\": [[0.0, \"#0d0887\"], [0.1111111111111111, \"#46039f\"], [0.2222222222222222, \"#7201a8\"], [0.3333333333333333, \"#9c179e\"], [0.4444444444444444, \"#bd3786\"], [0.5555555555555556, \"#d8576b\"], [0.6666666666666666, \"#ed7953\"], [0.7777777777777778, \"#fb9f3a\"], [0.8888888888888888, \"#fdca26\"], [1.0, \"#f0f921\"]], \"type\": \"heatmap\"}], \"heatmapgl\": [{\"colorbar\": {\"outlinewidth\": 0, \"ticks\": \"\"}, \"colorscale\": [[0.0, \"#0d0887\"], [0.1111111111111111, \"#46039f\"], [0.2222222222222222, \"#7201a8\"], [0.3333333333333333, \"#9c179e\"], [0.4444444444444444, \"#bd3786\"], [0.5555555555555556, \"#d8576b\"], [0.6666666666666666, \"#ed7953\"], [0.7777777777777778, \"#fb9f3a\"], [0.8888888888888888, \"#fdca26\"], [1.0, \"#f0f921\"]], \"type\": \"heatmapgl\"}], \"histogram\": [{\"marker\": {\"colorbar\": {\"outlinewidth\": 0, \"ticks\": \"\"}}, \"type\": \"histogram\"}], \"histogram2d\": [{\"colorbar\": {\"outlinewidth\": 0, \"ticks\": \"\"}, \"colorscale\": [[0.0, \"#0d0887\"], [0.1111111111111111, \"#46039f\"], [0.2222222222222222, \"#7201a8\"], [0.3333333333333333, \"#9c179e\"], [0.4444444444444444, \"#bd3786\"], [0.5555555555555556, \"#d8576b\"], [0.6666666666666666, \"#ed7953\"], [0.7777777777777778, \"#fb9f3a\"], [0.8888888888888888, \"#fdca26\"], [1.0, \"#f0f921\"]], \"type\": \"histogram2d\"}], \"histogram2dcontour\": [{\"colorbar\": {\"outlinewidth\": 0, \"ticks\": \"\"}, \"colorscale\": [[0.0, \"#0d0887\"], [0.1111111111111111, \"#46039f\"], [0.2222222222222222, \"#7201a8\"], [0.3333333333333333, \"#9c179e\"], [0.4444444444444444, \"#bd3786\"], [0.5555555555555556, \"#d8576b\"], [0.6666666666666666, \"#ed7953\"], [0.7777777777777778, \"#fb9f3a\"], [0.8888888888888888, \"#fdca26\"], [1.0, \"#f0f921\"]], \"type\": \"histogram2dcontour\"}], \"mesh3d\": [{\"colorbar\": {\"outlinewidth\": 0, \"ticks\": \"\"}, \"type\": \"mesh3d\"}], \"parcoords\": [{\"line\": {\"colorbar\": {\"outlinewidth\": 0, \"ticks\": \"\"}}, \"type\": \"parcoords\"}], \"scatter\": [{\"marker\": {\"colorbar\": {\"outlinewidth\": 0, \"ticks\": \"\"}}, \"type\": \"scatter\"}], \"scatter3d\": [{\"line\": {\"colorbar\": {\"outlinewidth\": 0, \"ticks\": \"\"}}, \"marker\": {\"colorbar\": {\"outlinewidth\": 0, \"ticks\": \"\"}}, \"type\": \"scatter3d\"}], \"scattercarpet\": [{\"marker\": {\"colorbar\": {\"outlinewidth\": 0, \"ticks\": \"\"}}, \"type\": \"scattercarpet\"}], \"scattergeo\": [{\"marker\": {\"colorbar\": {\"outlinewidth\": 0, \"ticks\": \"\"}}, \"type\": \"scattergeo\"}], \"scattergl\": [{\"marker\": {\"colorbar\": {\"outlinewidth\": 0, \"ticks\": \"\"}}, \"type\": \"scattergl\"}], \"scattermapbox\": [{\"marker\": {\"colorbar\": {\"outlinewidth\": 0, \"ticks\": \"\"}}, \"type\": \"scattermapbox\"}], \"scatterpolar\": [{\"marker\": {\"colorbar\": {\"outlinewidth\": 0, \"ticks\": \"\"}}, \"type\": \"scatterpolar\"}], \"scatterpolargl\": [{\"marker\": {\"colorbar\": {\"outlinewidth\": 0, \"ticks\": \"\"}}, \"type\": \"scatterpolargl\"}], \"scatterternary\": [{\"marker\": {\"colorbar\": {\"outlinewidth\": 0, \"ticks\": \"\"}}, \"type\": \"scatterternary\"}], \"surface\": [{\"colorbar\": {\"outlinewidth\": 0, \"ticks\": \"\"}, \"colorscale\": [[0.0, \"#0d0887\"], [0.1111111111111111, \"#46039f\"], [0.2222222222222222, \"#7201a8\"], [0.3333333333333333, \"#9c179e\"], [0.4444444444444444, \"#bd3786\"], [0.5555555555555556, \"#d8576b\"], [0.6666666666666666, \"#ed7953\"], [0.7777777777777778, \"#fb9f3a\"], [0.8888888888888888, \"#fdca26\"], [1.0, \"#f0f921\"]], \"type\": \"surface\"}], \"table\": [{\"cells\": {\"fill\": {\"color\": \"#EBF0F8\"}, \"line\": {\"color\": \"white\"}}, \"header\": {\"fill\": {\"color\": \"#C8D4E3\"}, \"line\": {\"color\": \"white\"}}, \"type\": \"table\"}]}, \"layout\": {\"annotationdefaults\": {\"arrowcolor\": \"#2a3f5f\", \"arrowhead\": 0, \"arrowwidth\": 1}, \"colorscale\": {\"diverging\": [[0, \"#8e0152\"], [0.1, \"#c51b7d\"], [0.2, \"#de77ae\"], [0.3, \"#f1b6da\"], [0.4, \"#fde0ef\"], [0.5, \"#f7f7f7\"], [0.6, \"#e6f5d0\"], [0.7, \"#b8e186\"], [0.8, \"#7fbc41\"], [0.9, \"#4d9221\"], [1, \"#276419\"]], \"sequential\": [[0.0, \"#0d0887\"], [0.1111111111111111, \"#46039f\"], [0.2222222222222222, \"#7201a8\"], [0.3333333333333333, \"#9c179e\"], [0.4444444444444444, \"#bd3786\"], [0.5555555555555556, \"#d8576b\"], [0.6666666666666666, \"#ed7953\"], [0.7777777777777778, \"#fb9f3a\"], [0.8888888888888888, \"#fdca26\"], [1.0, \"#f0f921\"]], \"sequentialminus\": [[0.0, \"#0d0887\"], [0.1111111111111111, \"#46039f\"], [0.2222222222222222, \"#7201a8\"], [0.3333333333333333, \"#9c179e\"], [0.4444444444444444, \"#bd3786\"], [0.5555555555555556, \"#d8576b\"], [0.6666666666666666, \"#ed7953\"], [0.7777777777777778, \"#fb9f3a\"], [0.8888888888888888, \"#fdca26\"], [1.0, \"#f0f921\"]]}, \"colorway\": [\"#636efa\", \"#EF553B\", \"#00cc96\", \"#ab63fa\", \"#FFA15A\", \"#19d3f3\", \"#FF6692\", \"#B6E880\", \"#FF97FF\", \"#FECB52\"], \"font\": {\"color\": \"#2a3f5f\"}, \"geo\": {\"bgcolor\": \"white\", \"lakecolor\": \"white\", \"landcolor\": \"#E5ECF6\", \"showlakes\": true, \"showland\": true, \"subunitcolor\": \"white\"}, \"hoverlabel\": {\"align\": \"left\"}, \"hovermode\": \"closest\", \"mapbox\": {\"style\": \"light\"}, \"paper_bgcolor\": \"white\", \"plot_bgcolor\": \"#E5ECF6\", \"polar\": {\"angularaxis\": {\"gridcolor\": \"white\", \"linecolor\": \"white\", \"ticks\": \"\"}, \"bgcolor\": \"#E5ECF6\", \"radialaxis\": {\"gridcolor\": \"white\", \"linecolor\": \"white\", \"ticks\": \"\"}}, \"scene\": {\"xaxis\": {\"backgroundcolor\": \"#E5ECF6\", \"gridcolor\": \"white\", \"gridwidth\": 2, \"linecolor\": \"white\", \"showbackground\": true, \"ticks\": \"\", \"zerolinecolor\": \"white\"}, \"yaxis\": {\"backgroundcolor\": \"#E5ECF6\", \"gridcolor\": \"white\", \"gridwidth\": 2, \"linecolor\": \"white\", \"showbackground\": true, \"ticks\": \"\", \"zerolinecolor\": \"white\"}, \"zaxis\": {\"backgroundcolor\": \"#E5ECF6\", \"gridcolor\": \"white\", \"gridwidth\": 2, \"linecolor\": \"white\", \"showbackground\": true, \"ticks\": \"\", \"zerolinecolor\": \"white\"}}, \"shapedefaults\": {\"line\": {\"color\": \"#2a3f5f\"}}, \"ternary\": {\"aaxis\": {\"gridcolor\": \"white\", \"linecolor\": \"white\", \"ticks\": \"\"}, \"baxis\": {\"gridcolor\": \"white\", \"linecolor\": \"white\", \"ticks\": \"\"}, \"bgcolor\": \"#E5ECF6\", \"caxis\": {\"gridcolor\": \"white\", \"linecolor\": \"white\", \"ticks\": \"\"}}, \"title\": {\"x\": 0.05}, \"xaxis\": {\"automargin\": true, \"gridcolor\": \"white\", \"linecolor\": \"white\", \"ticks\": \"\", \"zerolinecolor\": \"white\", \"zerolinewidth\": 2}, \"yaxis\": {\"automargin\": true, \"gridcolor\": \"white\", \"linecolor\": \"white\", \"ticks\": \"\", \"zerolinecolor\": \"white\", \"zerolinewidth\": 2}}}, \"title\": {\"text\": \"Daily registrations - Ireland\"}, \"xaxis\": {\"title\": {\"text\": \"Time\"}}, \"yaxis\": {\"title\": {\"text\": \"Count\"}}},\n                        {\"responsive\": true}\n                    ).then(function(){\n                            \nvar gd = document.getElementById('c8066bdf-6852-459e-93c0-02c124ebb76a');\nvar x = new MutationObserver(function (mutations, observer) {{\n        var display = window.getComputedStyle(gd).display;\n        if (!display || display === 'none') {{\n            console.log([gd, 'removed!']);\n            Plotly.purge(gd);\n            observer.disconnect();\n        }}\n}});\n\n// Listen for the removal of the full notebook cells\nvar notebookContainer = gd.closest('#notebook-container');\nif (notebookContainer) {{\n    x.observe(notebookContainer, {childList: true});\n}}\n\n// Listen for the clearing of the current output cell\nvar outputEl = gd.closest('.output');\nif (outputEl) {{\n    x.observe(outputEl, {childList: true});\n}}\n\n                        })\n                };\n                });\n            </script>\n        </div>",
            "application/vnd.plotly.v1+json": {
              "data": [
                {
                  "textposition": "top center",
                  "name": "IRL",
                  "text": [
                    "",
                    "",
                    "",
                    "",
                    "",
                    "",
                    "",
                    "",
                    "",
                    "",
                    "",
                    "",
                    "",
                    "",
                    "",
                    "",
                    "",
                    "",
                    "",
                    "",
                    "",
                    "",
                    "",
                    "",
                    "",
                    "",
                    "",
                    "",
                    "",
                    "",
                    "",
                    "",
                    "",
                    "",
                    "",
                    "",
                    "",
                    "",
                    "",
                    "",
                    "",
                    "",
                    "",
                    "",
                    "",
                    "",
                    "",
                    "",
                    "",
                    "",
                    "",
                    "",
                    "",
                    "",
                    "",
                    "",
                    "",
                    "",
                    "",
                    ""
                  ],
                  "mode": "lines",
                  "y": [
                    51,
                    48,
                    17,
                    28,
                    26,
                    36,
                    44,
                    82,
                    50,
                    41,
                    29,
                    30,
                    51,
                    47,
                    98,
                    38,
                    48,
                    45,
                    44,
                    34,
                    46,
                    77,
                    54,
                    35,
                    38,
                    45,
                    44,
                    44,
                    33,
                    43,
                    37,
                    33,
                    39,
                    40,
                    73,
                    80,
                    62,
                    235,
                    402,
                    379,
                    244,
                    200,
                    51,
                    43,
                    32,
                    40,
                    22,
                    30,
                    61,
                    73,
                    25,
                    17,
                    25,
                    18,
                    22,
                    30,
                    21,
                    31,
                    16,
                    20
                  ],
                  "x": [
                    "2020-02-01T00:00:00Z",
                    "2020-02-02T00:00:00Z",
                    "2020-02-03T00:00:00Z",
                    "2020-02-04T00:00:00Z",
                    "2020-02-05T00:00:00Z",
                    "2020-02-06T00:00:00Z",
                    "2020-02-07T00:00:00Z",
                    "2020-02-08T00:00:00Z",
                    "2020-02-09T00:00:00Z",
                    "2020-02-10T00:00:00Z",
                    "2020-02-11T00:00:00Z",
                    "2020-02-12T00:00:00Z",
                    "2020-02-13T00:00:00Z",
                    "2020-02-14T00:00:00Z",
                    "2020-02-15T00:00:00Z",
                    "2020-02-16T00:00:00Z",
                    "2020-02-17T00:00:00Z",
                    "2020-02-18T00:00:00Z",
                    "2020-02-19T00:00:00Z",
                    "2020-02-20T00:00:00Z",
                    "2020-02-21T00:00:00Z",
                    "2020-02-22T00:00:00Z",
                    "2020-02-23T00:00:00Z",
                    "2020-02-24T00:00:00Z",
                    "2020-02-25T00:00:00Z",
                    "2020-02-26T00:00:00Z",
                    "2020-02-27T00:00:00Z",
                    "2020-02-28T00:00:00Z",
                    "2020-02-29T00:00:00Z",
                    "2020-03-01T00:00:00Z",
                    "2020-03-02T00:00:00Z",
                    "2020-03-03T00:00:00Z",
                    "2020-03-04T00:00:00Z",
                    "2020-03-05T00:00:00Z",
                    "2020-03-06T00:00:00Z",
                    "2020-03-07T00:00:00Z",
                    "2020-03-08T00:00:00Z",
                    "2020-03-09T00:00:00Z",
                    "2020-03-10T00:00:00Z",
                    "2020-03-11T00:00:00Z",
                    "2020-03-12T00:00:00Z",
                    "2020-03-13T00:00:00Z",
                    "2020-03-14T00:00:00Z",
                    "2020-03-15T00:00:00Z",
                    "2020-03-16T00:00:00Z",
                    "2020-03-17T00:00:00Z",
                    "2020-03-18T00:00:00Z",
                    "2020-03-19T00:00:00Z",
                    "2020-03-20T00:00:00Z",
                    "2020-03-21T00:00:00Z",
                    "2020-03-22T00:00:00Z",
                    "2020-03-23T00:00:00Z",
                    "2020-03-24T00:00:00Z",
                    "2020-03-25T00:00:00Z",
                    "2020-03-26T00:00:00Z",
                    "2020-03-27T00:00:00Z",
                    "2020-03-28T00:00:00Z",
                    "2020-03-29T00:00:00Z",
                    "2020-03-30T00:00:00Z",
                    "2020-03-31T00:00:00Z"
                  ],
                  "line": {
                    "color": "black"
                  },
                  "type": "scatter"
                }
              ],
              "config": {
                "plotlyServerURL": "https://plot.ly"
              },
              "layout": {
                "xaxis": {
                  "title": {
                    "text": "Time"
                  }
                },
                "yaxis": {
                  "title": {
                    "text": "Count"
                  }
                },
                "annotations": [
                  {
                    "xref": "x",
                    "arrowhead": 7,
                    "yref": "y",
                    "text": "Cheltenham festival",
                    "y": 402,
                    "x": "2020-03-10T00:00:00Z",
                    "ay": -140,
                    "ax": 0,
                    "showarrow": true
                  },
                  {
                    "xref": "x",
                    "arrowhead": 7,
                    "yref": "y",
                    "text": "School closures",
                    "y": 244,
                    "x": "2020-03-12T00:00:00Z",
                    "ay": -150,
                    "ax": 0,
                    "showarrow": true
                  },
                  {
                    "xref": "x",
                    "arrowhead": 7,
                    "yref": "y",
                    "text": "National Lockdown",
                    "y": 25,
                    "x": "2020-03-27T00:00:00Z",
                    "ay": -150,
                    "ax": 0,
                    "showarrow": true
                  }
                ],
                "template": {
                  "layout": {
                    "shapedefaults": {
                      "line": {
                        "color": "#2a3f5f"
                      }
                    },
                    "polar": {
                      "radialaxis": {
                        "ticks": "",
                        "gridcolor": "white",
                        "linecolor": "white"
                      },
                      "bgcolor": "#E5ECF6",
                      "angularaxis": {
                        "ticks": "",
                        "gridcolor": "white",
                        "linecolor": "white"
                      }
                    },
                    "colorway": [
                      "#636efa",
                      "#EF553B",
                      "#00cc96",
                      "#ab63fa",
                      "#FFA15A",
                      "#19d3f3",
                      "#FF6692",
                      "#B6E880",
                      "#FF97FF",
                      "#FECB52"
                    ],
                    "xaxis": {
                      "automargin": true,
                      "zerolinewidth": 2,
                      "ticks": "",
                      "zerolinecolor": "white",
                      "gridcolor": "white",
                      "linecolor": "white"
                    },
                    "colorscale": {
                      "diverging": [
                        [
                          0,
                          "#8e0152"
                        ],
                        [
                          0.1,
                          "#c51b7d"
                        ],
                        [
                          0.2,
                          "#de77ae"
                        ],
                        [
                          0.3,
                          "#f1b6da"
                        ],
                        [
                          0.4,
                          "#fde0ef"
                        ],
                        [
                          0.5,
                          "#f7f7f7"
                        ],
                        [
                          0.6,
                          "#e6f5d0"
                        ],
                        [
                          0.7,
                          "#b8e186"
                        ],
                        [
                          0.8,
                          "#7fbc41"
                        ],
                        [
                          0.9,
                          "#4d9221"
                        ],
                        [
                          1,
                          "#276419"
                        ]
                      ],
                      "sequential": [
                        [
                          0,
                          "#0d0887"
                        ],
                        [
                          0.1111111111111111,
                          "#46039f"
                        ],
                        [
                          0.22222222222222221,
                          "#7201a8"
                        ],
                        [
                          0.33333333333333331,
                          "#9c179e"
                        ],
                        [
                          0.44444444444444442,
                          "#bd3786"
                        ],
                        [
                          0.55555555555555558,
                          "#d8576b"
                        ],
                        [
                          0.66666666666666663,
                          "#ed7953"
                        ],
                        [
                          0.77777777777777779,
                          "#fb9f3a"
                        ],
                        [
                          0.88888888888888884,
                          "#fdca26"
                        ],
                        [
                          1,
                          "#f0f921"
                        ]
                      ],
                      "sequentialminus": [
                        [
                          0,
                          "#0d0887"
                        ],
                        [
                          0.1111111111111111,
                          "#46039f"
                        ],
                        [
                          0.22222222222222221,
                          "#7201a8"
                        ],
                        [
                          0.33333333333333331,
                          "#9c179e"
                        ],
                        [
                          0.44444444444444442,
                          "#bd3786"
                        ],
                        [
                          0.55555555555555558,
                          "#d8576b"
                        ],
                        [
                          0.66666666666666663,
                          "#ed7953"
                        ],
                        [
                          0.77777777777777779,
                          "#fb9f3a"
                        ],
                        [
                          0.88888888888888884,
                          "#fdca26"
                        ],
                        [
                          1,
                          "#f0f921"
                        ]
                      ]
                    },
                    "paper_bgcolor": "white",
                    "plot_bgcolor": "#E5ECF6",
                    "title": {
                      "x": 0.05
                    },
                    "scene": {
                      "zaxis": {
                        "backgroundcolor": "#E5ECF6",
                        "ticks": "",
                        "gridwidth": 2,
                        "showbackground": true,
                        "zerolinecolor": "white",
                        "gridcolor": "white",
                        "linecolor": "white"
                      },
                      "xaxis": {
                        "backgroundcolor": "#E5ECF6",
                        "ticks": "",
                        "gridwidth": 2,
                        "showbackground": true,
                        "zerolinecolor": "white",
                        "gridcolor": "white",
                        "linecolor": "white"
                      },
                      "yaxis": {
                        "backgroundcolor": "#E5ECF6",
                        "ticks": "",
                        "gridwidth": 2,
                        "showbackground": true,
                        "zerolinecolor": "white",
                        "gridcolor": "white",
                        "linecolor": "white"
                      }
                    },
                    "yaxis": {
                      "automargin": true,
                      "zerolinewidth": 2,
                      "ticks": "",
                      "zerolinecolor": "white",
                      "gridcolor": "white",
                      "linecolor": "white"
                    },
                    "hoverlabel": {
                      "align": "left"
                    },
                    "ternary": {
                      "bgcolor": "#E5ECF6",
                      "baxis": {
                        "ticks": "",
                        "gridcolor": "white",
                        "linecolor": "white"
                      },
                      "caxis": {
                        "ticks": "",
                        "gridcolor": "white",
                        "linecolor": "white"
                      },
                      "aaxis": {
                        "ticks": "",
                        "gridcolor": "white",
                        "linecolor": "white"
                      }
                    },
                    "mapbox": {
                      "style": "light"
                    },
                    "hovermode": "closest",
                    "font": {
                      "color": "#2a3f5f"
                    },
                    "geo": {
                      "showland": true,
                      "landcolor": "#E5ECF6",
                      "showlakes": true,
                      "bgcolor": "white",
                      "subunitcolor": "white",
                      "lakecolor": "white"
                    },
                    "annotationdefaults": {
                      "arrowwidth": 1,
                      "arrowhead": 0,
                      "arrowcolor": "#2a3f5f"
                    }
                  },
                  "data": {
                    "mesh3d": [
                      {
                        "colorbar": {
                          "outlinewidth": 0,
                          "ticks": ""
                        },
                        "type": "mesh3d"
                      }
                    ],
                    "scattercarpet": [
                      {
                        "marker": {
                          "colorbar": {
                            "outlinewidth": 0,
                            "ticks": ""
                          }
                        },
                        "type": "scattercarpet"
                      }
                    ],
                    "scatterternary": [
                      {
                        "marker": {
                          "colorbar": {
                            "outlinewidth": 0,
                            "ticks": ""
                          }
                        },
                        "type": "scatterternary"
                      }
                    ],
                    "surface": [
                      {
                        "colorbar": {
                          "outlinewidth": 0,
                          "ticks": ""
                        },
                        "type": "surface",
                        "colorscale": [
                          [
                            0,
                            "#0d0887"
                          ],
                          [
                            0.1111111111111111,
                            "#46039f"
                          ],
                          [
                            0.22222222222222221,
                            "#7201a8"
                          ],
                          [
                            0.33333333333333331,
                            "#9c179e"
                          ],
                          [
                            0.44444444444444442,
                            "#bd3786"
                          ],
                          [
                            0.55555555555555558,
                            "#d8576b"
                          ],
                          [
                            0.66666666666666663,
                            "#ed7953"
                          ],
                          [
                            0.77777777777777779,
                            "#fb9f3a"
                          ],
                          [
                            0.88888888888888884,
                            "#fdca26"
                          ],
                          [
                            1,
                            "#f0f921"
                          ]
                        ]
                      }
                    ],
                    "table": [
                      {
                        "header": {
                          "line": {
                            "color": "white"
                          },
                          "fill": {
                            "color": "#C8D4E3"
                          }
                        },
                        "cells": {
                          "line": {
                            "color": "white"
                          },
                          "fill": {
                            "color": "#EBF0F8"
                          }
                        },
                        "type": "table"
                      }
                    ],
                    "scatterpolargl": [
                      {
                        "marker": {
                          "colorbar": {
                            "outlinewidth": 0,
                            "ticks": ""
                          }
                        },
                        "type": "scatterpolargl"
                      }
                    ],
                    "contour": [
                      {
                        "colorbar": {
                          "outlinewidth": 0,
                          "ticks": ""
                        },
                        "type": "contour",
                        "colorscale": [
                          [
                            0,
                            "#0d0887"
                          ],
                          [
                            0.1111111111111111,
                            "#46039f"
                          ],
                          [
                            0.22222222222222221,
                            "#7201a8"
                          ],
                          [
                            0.33333333333333331,
                            "#9c179e"
                          ],
                          [
                            0.44444444444444442,
                            "#bd3786"
                          ],
                          [
                            0.55555555555555558,
                            "#d8576b"
                          ],
                          [
                            0.66666666666666663,
                            "#ed7953"
                          ],
                          [
                            0.77777777777777779,
                            "#fb9f3a"
                          ],
                          [
                            0.88888888888888884,
                            "#fdca26"
                          ],
                          [
                            1,
                            "#f0f921"
                          ]
                        ]
                      }
                    ],
                    "carpet": [
                      {
                        "type": "carpet",
                        "baxis": {
                          "minorgridcolor": "white",
                          "gridcolor": "white",
                          "linecolor": "white",
                          "endlinecolor": "#2a3f5f",
                          "startlinecolor": "#2a3f5f"
                        },
                        "aaxis": {
                          "minorgridcolor": "white",
                          "gridcolor": "white",
                          "linecolor": "white",
                          "endlinecolor": "#2a3f5f",
                          "startlinecolor": "#2a3f5f"
                        }
                      }
                    ],
                    "contourcarpet": [
                      {
                        "colorbar": {
                          "outlinewidth": 0,
                          "ticks": ""
                        },
                        "type": "contourcarpet"
                      }
                    ],
                    "heatmap": [
                      {
                        "colorbar": {
                          "outlinewidth": 0,
                          "ticks": ""
                        },
                        "type": "heatmap",
                        "colorscale": [
                          [
                            0,
                            "#0d0887"
                          ],
                          [
                            0.1111111111111111,
                            "#46039f"
                          ],
                          [
                            0.22222222222222221,
                            "#7201a8"
                          ],
                          [
                            0.33333333333333331,
                            "#9c179e"
                          ],
                          [
                            0.44444444444444442,
                            "#bd3786"
                          ],
                          [
                            0.55555555555555558,
                            "#d8576b"
                          ],
                          [
                            0.66666666666666663,
                            "#ed7953"
                          ],
                          [
                            0.77777777777777779,
                            "#fb9f3a"
                          ],
                          [
                            0.88888888888888884,
                            "#fdca26"
                          ],
                          [
                            1,
                            "#f0f921"
                          ]
                        ]
                      }
                    ],
                    "scattermapbox": [
                      {
                        "marker": {
                          "colorbar": {
                            "outlinewidth": 0,
                            "ticks": ""
                          }
                        },
                        "type": "scattermapbox"
                      }
                    ],
                    "scatter3d": [
                      {
                        "marker": {
                          "colorbar": {
                            "outlinewidth": 0,
                            "ticks": ""
                          }
                        },
                        "line": {
                          "colorbar": {
                            "outlinewidth": 0,
                            "ticks": ""
                          }
                        },
                        "type": "scatter3d"
                      }
                    ],
                    "scattergl": [
                      {
                        "marker": {
                          "colorbar": {
                            "outlinewidth": 0,
                            "ticks": ""
                          }
                        },
                        "type": "scattergl"
                      }
                    ],
                    "histogram": [
                      {
                        "marker": {
                          "colorbar": {
                            "outlinewidth": 0,
                            "ticks": ""
                          }
                        },
                        "type": "histogram"
                      }
                    ],
                    "heatmapgl": [
                      {
                        "colorbar": {
                          "outlinewidth": 0,
                          "ticks": ""
                        },
                        "type": "heatmapgl",
                        "colorscale": [
                          [
                            0,
                            "#0d0887"
                          ],
                          [
                            0.1111111111111111,
                            "#46039f"
                          ],
                          [
                            0.22222222222222221,
                            "#7201a8"
                          ],
                          [
                            0.33333333333333331,
                            "#9c179e"
                          ],
                          [
                            0.44444444444444442,
                            "#bd3786"
                          ],
                          [
                            0.55555555555555558,
                            "#d8576b"
                          ],
                          [
                            0.66666666666666663,
                            "#ed7953"
                          ],
                          [
                            0.77777777777777779,
                            "#fb9f3a"
                          ],
                          [
                            0.88888888888888884,
                            "#fdca26"
                          ],
                          [
                            1,
                            "#f0f921"
                          ]
                        ]
                      }
                    ],
                    "scatterpolar": [
                      {
                        "marker": {
                          "colorbar": {
                            "outlinewidth": 0,
                            "ticks": ""
                          }
                        },
                        "type": "scatterpolar"
                      }
                    ],
                    "histogram2d": [
                      {
                        "colorbar": {
                          "outlinewidth": 0,
                          "ticks": ""
                        },
                        "type": "histogram2d",
                        "colorscale": [
                          [
                            0,
                            "#0d0887"
                          ],
                          [
                            0.1111111111111111,
                            "#46039f"
                          ],
                          [
                            0.22222222222222221,
                            "#7201a8"
                          ],
                          [
                            0.33333333333333331,
                            "#9c179e"
                          ],
                          [
                            0.44444444444444442,
                            "#bd3786"
                          ],
                          [
                            0.55555555555555558,
                            "#d8576b"
                          ],
                          [
                            0.66666666666666663,
                            "#ed7953"
                          ],
                          [
                            0.77777777777777779,
                            "#fb9f3a"
                          ],
                          [
                            0.88888888888888884,
                            "#fdca26"
                          ],
                          [
                            1,
                            "#f0f921"
                          ]
                        ]
                      }
                    ],
                    "scattergeo": [
                      {
                        "marker": {
                          "colorbar": {
                            "outlinewidth": 0,
                            "ticks": ""
                          }
                        },
                        "type": "scattergeo"
                      }
                    ],
                    "bar": [
                      {
                        "marker": {
                          "line": {
                            "color": "#E5ECF6",
                            "width": 0.5
                          }
                        },
                        "type": "bar",
                        "error_x": {
                          "color": "#2a3f5f"
                        },
                        "error_y": {
                          "color": "#2a3f5f"
                        }
                      }
                    ],
                    "choropleth": [
                      {
                        "colorbar": {
                          "outlinewidth": 0,
                          "ticks": ""
                        },
                        "type": "choropleth"
                      }
                    ],
                    "parcoords": [
                      {
                        "line": {
                          "colorbar": {
                            "outlinewidth": 0,
                            "ticks": ""
                          }
                        },
                        "type": "parcoords"
                      }
                    ],
                    "barpolar": [
                      {
                        "marker": {
                          "line": {
                            "color": "#E5ECF6",
                            "width": 0.5
                          }
                        },
                        "type": "barpolar"
                      }
                    ],
                    "histogram2dcontour": [
                      {
                        "colorbar": {
                          "outlinewidth": 0,
                          "ticks": ""
                        },
                        "type": "histogram2dcontour",
                        "colorscale": [
                          [
                            0,
                            "#0d0887"
                          ],
                          [
                            0.1111111111111111,
                            "#46039f"
                          ],
                          [
                            0.22222222222222221,
                            "#7201a8"
                          ],
                          [
                            0.33333333333333331,
                            "#9c179e"
                          ],
                          [
                            0.44444444444444442,
                            "#bd3786"
                          ],
                          [
                            0.55555555555555558,
                            "#d8576b"
                          ],
                          [
                            0.66666666666666663,
                            "#ed7953"
                          ],
                          [
                            0.77777777777777779,
                            "#fb9f3a"
                          ],
                          [
                            0.88888888888888884,
                            "#fdca26"
                          ],
                          [
                            1,
                            "#f0f921"
                          ]
                        ]
                      }
                    ],
                    "scatter": [
                      {
                        "marker": {
                          "colorbar": {
                            "outlinewidth": 0,
                            "ticks": ""
                          }
                        },
                        "type": "scatter"
                      }
                    ]
                  }
                },
                "title": {
                  "text": "Daily registrations - Ireland"
                }
              }
            }
          },
          "metadata": {}
        }
      ]
    },
    {
      "metadata": {
        "trusted": true
      },
      "cell_type": "code",
      "source": "",
      "execution_count": null,
      "outputs": []
    }
  ],
  "metadata": {
    "kernelspec": {
      "name": "python36",
      "display_name": "Python 3.6",
      "language": "python"
    },
    "language_info": {
      "mimetype": "text/x-python",
      "nbconvert_exporter": "python",
      "name": "python",
      "pygments_lexer": "ipython3",
      "version": "3.6.6",
      "file_extension": ".py",
      "codemirror_mode": {
        "version": 3,
        "name": "ipython"
      }
    },
    "celltoolbar": "Slideshow"
  },
  "nbformat": 4,
  "nbformat_minor": 1
}